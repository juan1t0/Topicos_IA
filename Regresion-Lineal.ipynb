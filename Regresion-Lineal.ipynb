{
 "cells": [
  {
   "cell_type": "code",
   "execution_count": 12,
   "metadata": {},
   "outputs": [],
   "source": [
    "import numpy as np\n",
    "import matplotlib.pyplot as plt\n",
    "import pandas as pd\n",
    "from IPython.display import display, HTML"
   ]
  },
  {
   "cell_type": "code",
   "execution_count": 2,
   "metadata": {},
   "outputs": [],
   "source": [
    "def Leer_Datos( name, delmt = '\\t',head = None):\n",
    "    data = pd.read_csv(name,delimiter = delmt, header = head, dtype = np.float64)\n",
    "    return data.values\n",
    "\n",
    "def Normalizar_Datos( arraynp ):\n",
    "    mean = np.mean(arraynp,0)\n",
    "    standard = np.std(arraynp,0)\n",
    "    for i in range(0,arraynp.shape[0]):\n",
    "        arraynp[i] = np.true_divide((arraynp[i] - mean), standard)\n",
    "    return arraynp\n",
    "\n",
    "def Crear_Entrenamiento_Prueba( array):\n",
    "    train , test = np.split(array,[int(0.7*len(array))])\n",
    "    return train,test"
   ]
  },
  {
   "cell_type": "code",
   "execution_count": 3,
   "metadata": {},
   "outputs": [],
   "source": [
    "def Calcular_Costo(X, Y, Theta):\n",
    "    m = len(X)\n",
    "    cost = np.sum((X.dot(Theta.T) - Y)**2) / (2 * m)\n",
    "    return cost\n",
    "\n",
    "def Gradiente_Descendiente(X, Y, Theta, iteraciones, tasa):\n",
    "    costos = [0]*iteraciones\n",
    "    m = len(X)\n",
    "    for itr in range(iteraciones):\n",
    "        h = X.dot(Theta.T)\n",
    "        dif = h - Y\n",
    "        derivada = (X.T).dot(dif) / m\n",
    "        Theta = Theta - (tasa * derivada).T\n",
    "        costos[itr] = Calcular_Costo(X, Y, Theta)\n",
    "    return Theta, costos\n",
    "\n",
    "def Ecuacion_Normal(X, Y):\n",
    "    Theta = np.linalg.inv(X.T.dot(X))\n",
    "    Theta = Theta.dot(X.T)\n",
    "    Theta = Theta.dot(Y)\n",
    "    return Theta.T\n",
    "\n",
    "def MSE(Y_hat, Y):\n",
    "#   Y_hat = X.dot(Theta.T)\n",
    "    M = len(Y)\n",
    "    return np.sum((Y_hat - Y)**2) / M"
   ]
  },
  {
   "cell_type": "code",
   "execution_count": 4,
   "metadata": {},
   "outputs": [
    {
     "name": "stdout",
     "output_type": "stream",
     "text": [
      "Precio Vivienda\tMean: [-7.08652994e-18 -5.87591441e-17] \tSTD: [1. 1.]\n",
      "Temperatura Océano\tMean: [-3.82802202e-15  1.33046970e-16] \tSTD: [1. 1.]\n",
      "Consumo Petróleo\tMean: [ 4.07081776e-16  5.18104078e-16 -1.15648232e-16  1.67458640e-15\n",
      " -3.33066907e-16] \tSTD: [1. 1. 1. 1. 1.]\n"
     ]
    }
   ],
   "source": [
    "#   ex1data2(Home_1f).csv - Precio Viviendas\n",
    "H_train_x = Leer_Datos(\"train/Home_train_X.csv\")\n",
    "H_train_y = Leer_Datos(\"train/Home_train_Y.csv\")\n",
    "H_test_x = Leer_Datos(\"test/Home_test_X.csv\")\n",
    "H_test_y = Leer_Datos(\"test/Home_test_Y.csv\")\n",
    "\n",
    "#   oceano_simple.csv - Temperatura Océano\n",
    "O_train_x = Leer_Datos(\"train/Oceano_train_X.csv\")\n",
    "O_train_y = Leer_Datos(\"train/Oceano_train_Y.csv\")\n",
    "O_test_x = Leer_Datos(\"test/Oceano_test_X.csv\")\n",
    "O_test_y = Leer_Datos(\"test/Oceano_test_Y.csv\")\n",
    "\n",
    "#   petrol_consumption.csv - Consumo de Petróleo\n",
    "P_train_x = Leer_Datos(\"train/Petroleo_train_X.csv\")\n",
    "P_train_y = Leer_Datos(\"train/Petroleo_train_Y.csv\")\n",
    "P_test_x = Leer_Datos(\"test/Petroleo_test_X.csv\")\n",
    "P_test_y = Leer_Datos(\"test/Petroleo_test_Y.csv\")\n",
    "\n",
    "##################### PRE-CALCULADO #####################\n",
    "# train_x = Normalizar_Datos(train_x)\n",
    "# train_y = Normalizar_Datos(train_y)\n",
    "# test_x = Normalizar_Datos(test_x)\n",
    "# test_y = Normalizar_Datos(test_y)\n",
    "\n",
    "H_full_data = np.concatenate((np.concatenate((H_train_x,H_test_x)),\n",
    "                              np.concatenate((H_train_y,H_test_y))),axis=1)\n",
    "print (\"Precio Vivienda\\tMean:\",np.mean(H_full_data,0),\n",
    "       \"\\tSTD:\",np.std(H_full_data,0))\n",
    "\n",
    "O_full_data = np.concatenate((np.concatenate((O_train_x,O_test_x)),\n",
    "                              np.concatenate((O_train_y,O_test_y))),axis=1)\n",
    "print (\"Temperatura Océano\\tMean:\",np.mean(O_full_data,0),\n",
    "       \"\\tSTD:\",np.std(O_full_data,0))\n",
    "\n",
    "P_full_data = np.concatenate((np.concatenate((P_train_x,P_test_x)),\n",
    "                              np.concatenate((P_train_y,P_test_y))),axis=1)\n",
    "print (\"Consumo Petróleo\\tMean:\",np.mean(P_full_data,0),\n",
    "       \"\\tSTD:\",np.std(P_full_data,0))\n",
    "\n",
    "H_train_x = np.insert(H_train_x, 0, 1, axis=1)\n",
    "H_test_x = np.insert(H_test_x, 0, 1, axis=1)\n",
    "H_Theta = np.zeros(H_train_x.shape[1])[np.newaxis]\n",
    "\n",
    "O_train_x = np.insert(O_train_x, 0, 1, axis=1)\n",
    "O_test_x = np.insert(O_test_x, 0, 1, axis=1)\n",
    "O_Theta = np.zeros(O_train_x.shape[1])[np.newaxis]\n",
    "\n",
    "P_train_x = np.insert(P_train_x, 0, 1, axis=1)\n",
    "P_test_x = np.insert(P_test_x, 0, 1, axis=1)\n",
    "P_Theta = np.zeros(P_train_x.shape[1])[np.newaxis]"
   ]
  },
  {
   "cell_type": "code",
   "execution_count": 17,
   "metadata": {},
   "outputs": [
    {
     "data": {
      "text/html": [
       "<table border=\"1\" class=\"dataframe\">\n",
       "  <thead>\n",
       "    <tr style=\"text-align: right;\">\n",
       "      <th></th>\n",
       "      <th>Precio Vivienda</th>\n",
       "      <th>Temperatura Océano</th>\n",
       "      <th>Consumo Petróleo</th>\n",
       "    </tr>\n",
       "  </thead>\n",
       "  <tbody>\n",
       "    <tr>\n",
       "      <th>Conjunto de Entrenamiento</th>\n",
       "      <td>0.265738</td>\n",
       "      <td>0.169704</td>\n",
       "      <td>0.211136</td>\n",
       "    </tr>\n",
       "    <tr>\n",
       "      <th>Conjunto de Prueba</th>\n",
       "      <td>0.329316</td>\n",
       "      <td>0.114843</td>\n",
       "      <td>0.711440</td>\n",
       "    </tr>\n",
       "  </tbody>\n",
       "</table>"
      ],
      "text/plain": [
       "<IPython.core.display.HTML object>"
      ]
     },
     "metadata": {},
     "output_type": "display_data"
    }
   ],
   "source": [
    "#    Experimento 1\n",
    "H_Theta_EN = Ecuacion_Normal(H_train_x,H_train_y)\n",
    "O_Theta_EN = Ecuacion_Normal(O_train_x,O_train_y)\n",
    "P_Theta_EN = Ecuacion_Normal(P_train_x,P_train_y)\n",
    "\n",
    "mse_H_t = MSE(H_train_x.dot(H_Theta_EN.T),H_train_y)\n",
    "mse_O_t = MSE(O_train_x.dot(O_Theta_EN.T),O_train_y)\n",
    "mse_P_t = MSE(P_train_x.dot(P_Theta_EN.T),P_train_y)\n",
    "\n",
    "mse_H = MSE(H_test_x.dot(H_Theta_EN.T),H_test_y)\n",
    "mse_O = MSE(O_test_x.dot(O_Theta_EN.T),O_test_y)\n",
    "mse_P = MSE(P_test_x.dot(P_Theta_EN.T),P_test_y)\n",
    "\n",
    "df = pd.DataFrame({'Precio Vivienda':[mse_H_t,mse_H],'Temperatura Océano':[mse_O_t,mse_O],'Consumo Petróleo':[mse_P_t,mse_P]},\n",
    "                  index=[\"Conjunto de Entrenamiento\",\"Conjunto de Prueba\"])\n",
    "#print(df)                        \n",
    "display(HTML(df.to_html()))"
   ]
  },
  {
   "cell_type": "code",
   "execution_count": 18,
   "metadata": {},
   "outputs": [
    {
     "name": "stdout",
     "output_type": "stream",
     "text": [
      "Precio Viviendas, menor MSE con: 0.01 500\n"
     ]
    },
    {
     "data": {
      "text/html": [
       "<table border=\"1\" class=\"dataframe\">\n",
       "  <thead>\n",
       "    <tr style=\"text-align: right;\">\n",
       "      <th></th>\n",
       "      <th>500</th>\n",
       "      <th>1000</th>\n",
       "      <th>1500</th>\n",
       "      <th>2000</th>\n",
       "      <th>2500</th>\n",
       "      <th>3000</th>\n",
       "      <th>3500</th>\n",
       "    </tr>\n",
       "  </thead>\n",
       "  <tbody>\n",
       "    <tr>\n",
       "      <th>0.01</th>\n",
       "      <td>0.327423</td>\n",
       "      <td>0.329307</td>\n",
       "      <td>0.329316</td>\n",
       "      <td>0.329316</td>\n",
       "      <td>0.329316</td>\n",
       "      <td>0.329316</td>\n",
       "      <td>0.329316</td>\n",
       "    </tr>\n",
       "    <tr>\n",
       "      <th>0.05</th>\n",
       "      <td>0.329316</td>\n",
       "      <td>0.329316</td>\n",
       "      <td>0.329316</td>\n",
       "      <td>0.329316</td>\n",
       "      <td>0.329316</td>\n",
       "      <td>0.329316</td>\n",
       "      <td>0.329316</td>\n",
       "    </tr>\n",
       "    <tr>\n",
       "      <th>0.10</th>\n",
       "      <td>0.329316</td>\n",
       "      <td>0.329316</td>\n",
       "      <td>0.329316</td>\n",
       "      <td>0.329316</td>\n",
       "      <td>0.329316</td>\n",
       "      <td>0.329316</td>\n",
       "      <td>0.329316</td>\n",
       "    </tr>\n",
       "    <tr>\n",
       "      <th>0.20</th>\n",
       "      <td>0.329316</td>\n",
       "      <td>0.329316</td>\n",
       "      <td>0.329316</td>\n",
       "      <td>0.329316</td>\n",
       "      <td>0.329316</td>\n",
       "      <td>0.329316</td>\n",
       "      <td>0.329316</td>\n",
       "    </tr>\n",
       "    <tr>\n",
       "      <th>0.30</th>\n",
       "      <td>0.329316</td>\n",
       "      <td>0.329316</td>\n",
       "      <td>0.329316</td>\n",
       "      <td>0.329316</td>\n",
       "      <td>0.329316</td>\n",
       "      <td>0.329316</td>\n",
       "      <td>0.329316</td>\n",
       "    </tr>\n",
       "    <tr>\n",
       "      <th>0.40</th>\n",
       "      <td>0.329316</td>\n",
       "      <td>0.329316</td>\n",
       "      <td>0.329316</td>\n",
       "      <td>0.329316</td>\n",
       "      <td>0.329316</td>\n",
       "      <td>0.329316</td>\n",
       "      <td>0.329316</td>\n",
       "    </tr>\n",
       "  </tbody>\n",
       "</table>"
      ],
      "text/plain": [
       "<IPython.core.display.HTML object>"
      ]
     },
     "metadata": {},
     "output_type": "display_data"
    },
    {
     "name": "stdout",
     "output_type": "stream",
     "text": [
      "\n",
      "Temperatura Océano, menor MSE con: 0.2 500\n"
     ]
    },
    {
     "data": {
      "text/html": [
       "<table border=\"1\" class=\"dataframe\">\n",
       "  <thead>\n",
       "    <tr style=\"text-align: right;\">\n",
       "      <th></th>\n",
       "      <th>500</th>\n",
       "      <th>1000</th>\n",
       "      <th>1500</th>\n",
       "      <th>2000</th>\n",
       "      <th>2500</th>\n",
       "      <th>3000</th>\n",
       "      <th>3500</th>\n",
       "    </tr>\n",
       "  </thead>\n",
       "  <tbody>\n",
       "    <tr>\n",
       "      <th>0.01</th>\n",
       "      <td>0.115236</td>\n",
       "      <td>0.114845</td>\n",
       "      <td>0.114844</td>\n",
       "      <td>0.114843</td>\n",
       "      <td>0.114843</td>\n",
       "      <td>0.114843</td>\n",
       "      <td>0.114843</td>\n",
       "    </tr>\n",
       "    <tr>\n",
       "      <th>0.05</th>\n",
       "      <td>0.114843</td>\n",
       "      <td>0.114843</td>\n",
       "      <td>0.114843</td>\n",
       "      <td>0.114843</td>\n",
       "      <td>0.114843</td>\n",
       "      <td>0.114843</td>\n",
       "      <td>0.114843</td>\n",
       "    </tr>\n",
       "    <tr>\n",
       "      <th>0.10</th>\n",
       "      <td>0.114843</td>\n",
       "      <td>0.114843</td>\n",
       "      <td>0.114843</td>\n",
       "      <td>0.114843</td>\n",
       "      <td>0.114843</td>\n",
       "      <td>0.114843</td>\n",
       "      <td>0.114843</td>\n",
       "    </tr>\n",
       "    <tr>\n",
       "      <th>0.20</th>\n",
       "      <td>0.114843</td>\n",
       "      <td>0.114843</td>\n",
       "      <td>0.114843</td>\n",
       "      <td>0.114843</td>\n",
       "      <td>0.114843</td>\n",
       "      <td>0.114843</td>\n",
       "      <td>0.114843</td>\n",
       "    </tr>\n",
       "    <tr>\n",
       "      <th>0.30</th>\n",
       "      <td>0.114843</td>\n",
       "      <td>0.114843</td>\n",
       "      <td>0.114843</td>\n",
       "      <td>0.114843</td>\n",
       "      <td>0.114843</td>\n",
       "      <td>0.114843</td>\n",
       "      <td>0.114843</td>\n",
       "    </tr>\n",
       "    <tr>\n",
       "      <th>0.40</th>\n",
       "      <td>0.114843</td>\n",
       "      <td>0.114843</td>\n",
       "      <td>0.114843</td>\n",
       "      <td>0.114843</td>\n",
       "      <td>0.114843</td>\n",
       "      <td>0.114843</td>\n",
       "      <td>0.114843</td>\n",
       "    </tr>\n",
       "  </tbody>\n",
       "</table>"
      ],
      "text/plain": [
       "<IPython.core.display.HTML object>"
      ]
     },
     "metadata": {},
     "output_type": "display_data"
    },
    {
     "name": "stdout",
     "output_type": "stream",
     "text": [
      "\n",
      "Consumo Petróleo, menor MSE con: 0.01 500\n"
     ]
    },
    {
     "data": {
      "text/html": [
       "<table border=\"1\" class=\"dataframe\">\n",
       "  <thead>\n",
       "    <tr style=\"text-align: right;\">\n",
       "      <th></th>\n",
       "      <th>500</th>\n",
       "      <th>1000</th>\n",
       "      <th>1500</th>\n",
       "      <th>2000</th>\n",
       "      <th>2500</th>\n",
       "      <th>3000</th>\n",
       "      <th>3500</th>\n",
       "    </tr>\n",
       "  </thead>\n",
       "  <tbody>\n",
       "    <tr>\n",
       "      <th>0.01</th>\n",
       "      <td>0.684621</td>\n",
       "      <td>0.703287</td>\n",
       "      <td>0.709549</td>\n",
       "      <td>0.711014</td>\n",
       "      <td>0.711345</td>\n",
       "      <td>0.711419</td>\n",
       "      <td>0.711435</td>\n",
       "    </tr>\n",
       "    <tr>\n",
       "      <th>0.05</th>\n",
       "      <td>0.711349</td>\n",
       "      <td>0.711440</td>\n",
       "      <td>0.711440</td>\n",
       "      <td>0.711440</td>\n",
       "      <td>0.711440</td>\n",
       "      <td>0.711440</td>\n",
       "      <td>0.711440</td>\n",
       "    </tr>\n",
       "    <tr>\n",
       "      <th>0.10</th>\n",
       "      <td>0.711440</td>\n",
       "      <td>0.711440</td>\n",
       "      <td>0.711440</td>\n",
       "      <td>0.711440</td>\n",
       "      <td>0.711440</td>\n",
       "      <td>0.711440</td>\n",
       "      <td>0.711440</td>\n",
       "    </tr>\n",
       "    <tr>\n",
       "      <th>0.20</th>\n",
       "      <td>0.711440</td>\n",
       "      <td>0.711440</td>\n",
       "      <td>0.711440</td>\n",
       "      <td>0.711440</td>\n",
       "      <td>0.711440</td>\n",
       "      <td>0.711440</td>\n",
       "      <td>0.711440</td>\n",
       "    </tr>\n",
       "    <tr>\n",
       "      <th>0.30</th>\n",
       "      <td>0.711440</td>\n",
       "      <td>0.711440</td>\n",
       "      <td>0.711440</td>\n",
       "      <td>0.711440</td>\n",
       "      <td>0.711440</td>\n",
       "      <td>0.711440</td>\n",
       "      <td>0.711440</td>\n",
       "    </tr>\n",
       "    <tr>\n",
       "      <th>0.40</th>\n",
       "      <td>0.711440</td>\n",
       "      <td>0.711440</td>\n",
       "      <td>0.711440</td>\n",
       "      <td>0.711440</td>\n",
       "      <td>0.711440</td>\n",
       "      <td>0.711440</td>\n",
       "      <td>0.711440</td>\n",
       "    </tr>\n",
       "  </tbody>\n",
       "</table>"
      ],
      "text/plain": [
       "<IPython.core.display.HTML object>"
      ]
     },
     "metadata": {},
     "output_type": "display_data"
    }
   ],
   "source": [
    "#    Experimento 2\n",
    "tasa_aprendizaje = [0.01, 0.05, 0.1, 0.2, 0.3, 0.4]#[0.4, 0.3, 0.2, 0.1, 0.05, 0.01]#\n",
    "iteraciones = [500, 1000, 1500, 2000, 2500, 3000, 3500]#[3500,3000,2500,2000,1500,1000,500]#\n",
    "\n",
    "matrix_MSE = np.zeros((len(tasa_aprendizaje),len(iteraciones)))\n",
    "\n",
    "parametros = (0,0)\n",
    "for ta in range(len(tasa_aprendizaje)):\n",
    "    for itr in range(len(iteraciones)):\n",
    "        cur_Theta, _ = Gradiente_Descendiente(H_train_x, H_train_y, H_Theta, iteraciones[itr], tasa_aprendizaje[ta])\n",
    "        matrix_MSE[ta,itr] = MSE(H_test_x.dot(cur_Theta.T), H_test_y)\n",
    "        if(matrix_MSE[ta,itr] < matrix_MSE[parametros[0],parametros[1]]):\n",
    "            parametros = (ta, itr)\n",
    "        \n",
    "print(\"Precio Viviendas, menor MSE con:\",tasa_aprendizaje[parametros[0]],iteraciones[parametros[1]])\n",
    "df1 = pd.DataFrame(data = matrix_MSE, index= tasa_aprendizaje, columns = iteraciones)\n",
    "display(HTML(df1.to_html()))\n",
    "\n",
    "parametros = (0,0)\n",
    "for ta in range(len(tasa_aprendizaje)):\n",
    "    for itr in range(len(iteraciones)):\n",
    "        cur_Theta, _ = Gradiente_Descendiente(O_train_x, O_train_y, O_Theta, iteraciones[itr], tasa_aprendizaje[ta])\n",
    "        matrix_MSE[ta,itr] = MSE(O_test_x.dot(cur_Theta.T),O_test_y)\n",
    "        if(matrix_MSE[ta,itr] < matrix_MSE[parametros[0],parametros[1]]):\n",
    "            parametros = (ta, itr)\n",
    "\n",
    "print(\"\\nTemperatura Océano, menor MSE con:\",tasa_aprendizaje[parametros[0]],iteraciones[parametros[1]])\n",
    "df2 = pd.DataFrame(data = matrix_MSE, index= tasa_aprendizaje, columns = iteraciones)\n",
    "display(HTML(df2.to_html()))\n",
    "\n",
    "parametros = (0,0)\n",
    "for ta in range(len(tasa_aprendizaje)):\n",
    "    for itr in range(len(iteraciones)):\n",
    "        cur_Theta, _ = Gradiente_Descendiente(P_train_x, P_train_y, P_Theta, iteraciones[itr], tasa_aprendizaje[ta])\n",
    "        matrix_MSE[ta,itr] = MSE(P_test_x.dot(cur_Theta.T),P_test_y)\n",
    "        if(matrix_MSE[ta,itr] < matrix_MSE[parametros[0],parametros[1]]):\n",
    "            parametros = (ta, itr)\n",
    "print(\"\\nConsumo Petróleo, menor MSE con:\",tasa_aprendizaje[parametros[0]],iteraciones[parametros[1]])\n",
    "df3 = pd.DataFrame(data = matrix_MSE, index= tasa_aprendizaje, columns = iteraciones)\n",
    "display(HTML(df3.to_html()))"
   ]
  },
  {
   "cell_type": "code",
   "execution_count": 19,
   "metadata": {},
   "outputs": [
    {
     "name": "stdout",
     "output_type": "stream",
     "text": [
      "Pesos con Gradiente Descendiente\n",
      "[[0.11918988 0.9081491 ]]\n",
      "Pesos con Ecuación Normal\n",
      "[[0.11918988 0.9081491 ]]\n"
     ]
    },
    {
     "data": {
      "text/plain": [
       "[<matplotlib.lines.Line2D at 0x1ccd03e2f60>]"
      ]
     },
     "execution_count": 19,
     "metadata": {},
     "output_type": "execute_result"
    },
    {
     "data": {
      "image/png": "[encoded data removed]",
      "text/plain": [
       "<Figure size 432x288 with 1 Axes>"
      ]
     },
     "metadata": {
      "needs_background": "light"
     },
     "output_type": "display_data"
    }
   ],
   "source": [
    "#    Experimento 3\n",
    "plt.xlabel(\"Size(m*m)\")\n",
    "plt.ylabel(\"Price\")\n",
    "plt.suptitle(\"Precio Vivienda\",fontsize=15)\n",
    "all_points_x = np.concatenate((H_train_x,H_test_x))[:,1]\n",
    "plt.scatter(all_points_x,np.concatenate((H_train_y, H_test_y)))\n",
    "\n",
    "Theta_GD, _ = Gradiente_Descendiente(H_train_x, H_train_y, H_Theta, iteraciones[0], tasa_aprendizaje[3])\n",
    "Theta_EN = Ecuacion_Normal(H_train_x, H_train_y)\n",
    "print(\"Pesos con Gradiente Descendiente\")\n",
    "print(Theta_GD)\n",
    "print(\"Pesos con Ecuación Normal\")\n",
    "print(Theta_EN)\n",
    "\n",
    "X_rct = np.arange(-2,3.5,0.1)[np.newaxis].T\n",
    "X_rct = np.insert(X_rct, 0, 1, axis=1)\n",
    "Y_GD = X_rct.dot(Theta_GD.T)\n",
    "Y_EN = X_rct.dot(Theta_EN.T)\n",
    "plt.plot(X_rct[:,1],Y_GD,'-b')\n",
    "plt.plot(X_rct[:,1],Y_EN,'-g')"
   ]
  },
  {
   "cell_type": "code",
   "execution_count": 21,
   "metadata": {},
   "outputs": [
    {
     "name": "stdout",
     "output_type": "stream",
     "text": [
      "Pesos con Gradiente Descendiente\n",
      "[[-0.00692867 -0.89993647]]\n",
      "Pesos con Ecuación Normal\n",
      "[[-0.00967191 -0.90518797]]\n"
     ]
    },
    {
     "data": {
      "text/plain": [
       "[<matplotlib.lines.Line2D at 0x1ccd049d828>]"
      ]
     },
     "execution_count": 21,
     "metadata": {},
     "output_type": "execute_result"
    },
    {
     "data": {
      "image/png": "[encoded data removed]",
      "text/plain": [
       "<Figure size 432x288 with 1 Axes>"
      ]
     },
     "metadata": {
      "needs_background": "light"
     },
     "output_type": "display_data"
    }
   ],
   "source": [
    "#    Experimento 3\n",
    "plt.xlabel(\"Sal\")\n",
    "plt.ylabel(\"Temperatura\")\n",
    "plt.suptitle(\"Temperatura Océano\",fontsize=15)\n",
    "all_points_x = np.concatenate((O_train_x,O_test_x))[:,1]\n",
    "plt.scatter(all_points_x,np.concatenate((O_train_y, O_test_y)))\n",
    "\n",
    "Theta_GD, _ = Gradiente_Descendiente(O_train_x, O_train_y, O_Theta, iteraciones[0], tasa_aprendizaje[0])\n",
    "Theta_EN = Ecuacion_Normal(O_train_x, O_train_y)\n",
    "\n",
    "print(\"Pesos con Gradiente Descendiente\")\n",
    "print(Theta_GD)\n",
    "print(\"Pesos con Ecuación Normal\")\n",
    "print(Theta_EN)\n",
    "\n",
    "X_rct = np.arange(-2.2,2.3,0.1)[np.newaxis].T\n",
    "X_rct = np.insert(X_rct, 0, 1, axis=1)\n",
    "Y_GD = X_rct.dot(Theta_GD.T)\n",
    "Y_EN = X_rct.dot(Theta_EN.T)\n",
    "plt.plot(X_rct[:,1],Y_GD,'-b')\n",
    "plt.plot(X_rct[:,1],Y_EN,'-g')"
   ]
  },
  {
   "cell_type": "code",
   "execution_count": 7,
   "metadata": {},
   "outputs": [
    {
     "data": {
      "text/plain": [
       "Text(0, 0.5, 'Costo')"
      ]
     },
     "execution_count": 7,
     "metadata": {},
     "output_type": "execute_result"
    },
    {
     "data": {
      "image/png": "[encoded data removed]",
      "text/plain": [
       "<Figure size 1296x432 with 3 Axes>"
      ]
     },
     "metadata": {
      "needs_background": "light"
     },
     "output_type": "display_data"
    }
   ],
   "source": [
    "#    Experimento 4\n",
    "fig, ax = plt.subplots(1,3,figsize=(18,6))\n",
    "\n",
    "H_newTheta, costos = Gradiente_Descendiente(H_train_x, H_train_y, H_Theta, iteraciones[0], tasa_aprendizaje[1])\n",
    "ax[0].scatter(np.arange(iteraciones[0]),costos,alpha=0.8, c=\"purple\", s=5)\n",
    "ax[0].set_title(\"Pecio Vivienda\")\n",
    "ax[0].set_xlabel('Iteraciones')\n",
    "ax[0].set_ylabel('Costo')\n",
    "\n",
    "O_newTheta, costos = Gradiente_Descendiente(O_train_x, O_train_y, O_Theta, iteraciones[0], tasa_aprendizaje[1])\n",
    "ax[1].scatter(np.arange(iteraciones[0]),costos,alpha=0.8, c=\"purple\", s=5)\n",
    "ax[1].set_title(\"Temperatura Océano\")\n",
    "ax[1].set_xlabel('Iteraciones')\n",
    "ax[1].set_ylabel('Costo')\n",
    "\n",
    "P_newTheta, costos = Gradiente_Descendiente(P_train_x, P_train_y, P_Theta, iteraciones[0], tasa_aprendizaje[1])\n",
    "ax[2].scatter(np.arange(iteraciones[0]),costos,alpha=0.8, c=\"purple\", s=5)\n",
    "ax[2].set_title(\"Consumo Petróleo\")\n",
    "ax[2].set_xlabel('Iteraciones')\n",
    "ax[2].set_ylabel('Costo')"
   ]
  },
  {
   "cell_type": "code",
   "execution_count": 8,
   "metadata": {},
   "outputs": [
    {
     "name": "stdout",
     "output_type": "stream",
     "text": [
      "Con sklearn:\t [[0.        0.9081491]]\n",
      "Scratch GD:\t [[0.11918988 0.9081491 ]]\n",
      "Scratch EN:\t [[0.11918988 0.9081491 ]]\n",
      "MSE de los theta entre sklearn y Scratch GD: 0.01420622692694809\n",
      "MSE de los theta entre sklearn y Scratch EN: 0.014206226927010228 \n",
      "\n",
      "Dataset: \n",
      "Con sklearn:\t [[ 0.         -0.90518797]]\n",
      "Scratch GD:\t [[-0.00967191 -0.90518797]]\n",
      "Scratch EN:\t [[-0.00967191 -0.90518797]]\n",
      "MSE de los theta entre sklearn y Scratch GD: 9.354576155511217e-05\n",
      "MSE de los theta entre sklearn y Scratch EN: 9.354576199953229e-05 \n",
      "\n",
      "Dataset: Consumo Pretóleo\n",
      "Con sklearn:\t [[ 0.         -0.09203601 -0.36687041  0.1072892   0.64775736]]\n",
      "Scratch GD:\t [[-0.087502   -0.0921195  -0.36686069  0.10721978  0.64772793]]\n",
      "Scratch EN:\t [[-0.08752625 -0.09203601 -0.36687041  0.1072892   0.64775736]]\n",
      "MSE de los theta entre sklearn y Scratch GD: 0.007656612096665259\n",
      "MSE de los theta entre sklearn y Scratch EN: 0.0076608436746581215 \n",
      "\n"
     ]
    }
   ],
   "source": [
    "#    Comparación entre el trabajo desarrollado y LinearRegression() de la libreria sklearn\n",
    "\n",
    "from sklearn.linear_model import LinearRegression\n",
    "\n",
    "reg = LinearRegression().fit(H_train_x, H_train_y)\n",
    "print (\"Dataset: Precio Vivienda\")\n",
    "print (\"Con sklearn:\\t\", reg.coef_)\n",
    "print (\"Scratch GD:\\t\", H_newTheta)\n",
    "print (\"Scratch EN:\\t\", H_Theta_EN)\n",
    "print (\"MSE de los theta entre sklearn y Scratch GD:\",MSE(H_newTheta,reg.coef_))\n",
    "print (\"MSE de los theta entre sklearn y Scratch EN:\",MSE(H_Theta_EN,reg.coef_),\"\\n\")\n",
    "\n",
    "reg = LinearRegression().fit(O_train_x, O_train_y)\n",
    "print (\"Dataset: Temperatura Océano\")\n",
    "print (\"Con sklearn:\\t\",  reg.coef_)\n",
    "print (\"Scratch GD:\\t\", O_newTheta)\n",
    "print (\"Scratch EN:\\t\", O_Theta_EN)\n",
    "print (\"MSE de los theta entre sklearn y Scratch GD:\",MSE(O_newTheta,reg.coef_))\n",
    "print (\"MSE de los theta entre sklearn y Scratch EN:\",MSE(O_Theta_EN,reg.coef_),\"\\n\")\n",
    "\n",
    "reg = LinearRegression().fit(P_train_x, P_train_y)\n",
    "print (\"Dataset: Consumo Petróleo\")\n",
    "print (\"Con sklearn:\\t\", reg.coef_)\n",
    "print (\"Scratch GD:\\t\", P_newTheta)\n",
    "print (\"Scratch EN:\\t\", P_Theta_EN)\n",
    "print (\"MSE de los theta entre sklearn y Scratch GD:\",MSE(P_newTheta,reg.coef_))\n",
    "print (\"MSE de los theta entre sklearn y Scratch EN:\",MSE(P_Theta_EN,reg.coef_),\"\\n\")"
   ]
  },
  {
   "cell_type": "code",
   "execution_count": null,
   "metadata": {},
   "outputs": [],
   "source": []
  }
 ],
 "metadata": {
  "kernelspec": {
   "display_name": "Python 3",
   "language": "python",
   "name": "python3"
  },
  "language_info": {
   "codemirror_mode": {
    "name": "ipython",
    "version": 3
   },
   "file_extension": ".py",
   "mimetype": "text/x-python",
   "name": "python",
   "nbconvert_exporter": "python",
   "pygments_lexer": "ipython3",
   "version": "3.7.3"
  }
 },
 "nbformat": 4,
 "nbformat_minor": 2
}
