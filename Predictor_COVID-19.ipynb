{
 "cells": [
  {
   "cell_type": "markdown",
   "metadata": {},
   "source": [
    "# Proyecto: Predicción de muertes por covid-19 en Perú y Arequipa\n",
    "\n",
    "### Librerias utilizadas"
   ]
  },
  {
   "cell_type": "code",
   "execution_count": 100,
   "metadata": {},
   "outputs": [],
   "source": [
    "import pandas as pd\n",
    "import numpy as np\n",
    "import matplotlib.pyplot as plt"
   ]
  },
  {
   "cell_type": "markdown",
   "metadata": {},
   "source": [
    "## Obtención y Análisis de los Datos\n"
   ]
  },
  {
   "cell_type": "code",
   "execution_count": 59,
   "metadata": {},
   "outputs": [
    {
     "data": {
      "text/html": [
       "<div>\n",
       "<style scoped>\n",
       "    .dataframe tbody tr th:only-of-type {\n",
       "        vertical-align: middle;\n",
       "    }\n",
       "\n",
       "    .dataframe tbody tr th {\n",
       "        vertical-align: top;\n",
       "    }\n",
       "\n",
       "    .dataframe thead th {\n",
       "        text-align: right;\n",
       "    }\n",
       "</style>\n",
       "<table border=\"1\" class=\"dataframe\">\n",
       "  <thead>\n",
       "    <tr style=\"text-align: right;\">\n",
       "      <th></th>\n",
       "      <th>country</th>\n",
       "      <th>iso3c</th>\n",
       "      <th>region</th>\n",
       "      <th>date</th>\n",
       "      <th>confirmed</th>\n",
       "      <th>deaths</th>\n",
       "      <th>recovered</th>\n",
       "      <th>negative_cases</th>\n",
       "      <th>pcr_positivo</th>\n",
       "      <th>prueba_rapida_positivo</th>\n",
       "      <th>pcr_prapida_positivo</th>\n",
       "    </tr>\n",
       "  </thead>\n",
       "  <tbody>\n",
       "    <tr>\n",
       "      <th>1548</th>\n",
       "      <td>Peru</td>\n",
       "      <td>PER</td>\n",
       "      <td>San Martín</td>\n",
       "      <td>2020-05-20</td>\n",
       "      <td>822</td>\n",
       "      <td>13.0</td>\n",
       "      <td>NaN</td>\n",
       "      <td>NaN</td>\n",
       "      <td>235.0</td>\n",
       "      <td>587.0</td>\n",
       "      <td>NaN</td>\n",
       "    </tr>\n",
       "    <tr>\n",
       "      <th>1549</th>\n",
       "      <td>Peru</td>\n",
       "      <td>PER</td>\n",
       "      <td>Tacna</td>\n",
       "      <td>2020-05-20</td>\n",
       "      <td>242</td>\n",
       "      <td>4.0</td>\n",
       "      <td>NaN</td>\n",
       "      <td>NaN</td>\n",
       "      <td>30.0</td>\n",
       "      <td>212.0</td>\n",
       "      <td>NaN</td>\n",
       "    </tr>\n",
       "    <tr>\n",
       "      <th>1550</th>\n",
       "      <td>Peru</td>\n",
       "      <td>PER</td>\n",
       "      <td>Tumbes</td>\n",
       "      <td>2020-05-20</td>\n",
       "      <td>702</td>\n",
       "      <td>62.0</td>\n",
       "      <td>NaN</td>\n",
       "      <td>NaN</td>\n",
       "      <td>75.0</td>\n",
       "      <td>627.0</td>\n",
       "      <td>NaN</td>\n",
       "    </tr>\n",
       "    <tr>\n",
       "      <th>1551</th>\n",
       "      <td>Peru</td>\n",
       "      <td>PER</td>\n",
       "      <td>Ucayali</td>\n",
       "      <td>2020-05-20</td>\n",
       "      <td>2371</td>\n",
       "      <td>91.0</td>\n",
       "      <td>NaN</td>\n",
       "      <td>NaN</td>\n",
       "      <td>447.0</td>\n",
       "      <td>1924.0</td>\n",
       "      <td>NaN</td>\n",
       "    </tr>\n",
       "    <tr>\n",
       "      <th>1552</th>\n",
       "      <td>Peru</td>\n",
       "      <td>PER</td>\n",
       "      <td>NaN</td>\n",
       "      <td>2020-05-20</td>\n",
       "      <td>104020</td>\n",
       "      <td>3024.0</td>\n",
       "      <td>41968.0</td>\n",
       "      <td>611403.0</td>\n",
       "      <td>29690.0</td>\n",
       "      <td>74330.0</td>\n",
       "      <td>NaN</td>\n",
       "    </tr>\n",
       "  </tbody>\n",
       "</table>\n",
       "</div>"
      ],
      "text/plain": [
       "     country iso3c      region        date  confirmed  deaths  recovered  \\\n",
       "1548    Peru   PER  San Martín  2020-05-20        822    13.0        NaN   \n",
       "1549    Peru   PER       Tacna  2020-05-20        242     4.0        NaN   \n",
       "1550    Peru   PER      Tumbes  2020-05-20        702    62.0        NaN   \n",
       "1551    Peru   PER     Ucayali  2020-05-20       2371    91.0        NaN   \n",
       "1552    Peru   PER         NaN  2020-05-20     104020  3024.0    41968.0   \n",
       "\n",
       "      negative_cases  pcr_positivo  prueba_rapida_positivo  \\\n",
       "1548             NaN         235.0                   587.0   \n",
       "1549             NaN          30.0                   212.0   \n",
       "1550             NaN          75.0                   627.0   \n",
       "1551             NaN         447.0                  1924.0   \n",
       "1552        611403.0       29690.0                 74330.0   \n",
       "\n",
       "      pcr_prapida_positivo  \n",
       "1548                   NaN  \n",
       "1549                   NaN  \n",
       "1550                   NaN  \n",
       "1551                   NaN  \n",
       "1552                   NaN  "
      ]
     },
     "execution_count": 59,
     "metadata": {},
     "output_type": "execute_result"
    }
   ],
   "source": [
    "url = 'https://raw.githubusercontent.com/jmcastagnetto/covid-19-peru-data/master/datos/covid-19-peru-data.csv'\n",
    "full_data = pd.read_csv(url)\n",
    "full_data.tail()"
   ]
  },
  {
   "cell_type": "markdown",
   "metadata": {},
   "source": [
    "Revisamos los datos"
   ]
  },
  {
   "cell_type": "code",
   "execution_count": 87,
   "metadata": {},
   "outputs": [
    {
     "name": "stdout",
     "output_type": "stream",
     "text": [
      "<class 'pandas.core.frame.DataFrame'>\n",
      "RangeIndex: 1553 entries, 0 to 1552\n",
      "Data columns (total 11 columns):\n",
      "country                   1553 non-null object\n",
      "iso3c                     1553 non-null object\n",
      "region                    1478 non-null object\n",
      "date                      1553 non-null object\n",
      "confirmed                 1553 non-null int64\n",
      "deaths                    966 non-null float64\n",
      "recovered                 93 non-null float64\n",
      "negative_cases            75 non-null float64\n",
      "pcr_positivo              1063 non-null float64\n",
      "prueba_rapida_positivo    1000 non-null float64\n",
      "pcr_prapida_positivo      24 non-null float64\n",
      "dtypes: float64(6), int64(1), object(4)\n",
      "memory usage: 133.5+ KB\n"
     ]
    }
   ],
   "source": [
    "full_data.info()"
   ]
  },
  {
   "cell_type": "code",
   "execution_count": 89,
   "metadata": {},
   "outputs": [
    {
     "data": {
      "text/html": [
       "<div>\n",
       "<style scoped>\n",
       "    .dataframe tbody tr th:only-of-type {\n",
       "        vertical-align: middle;\n",
       "    }\n",
       "\n",
       "    .dataframe tbody tr th {\n",
       "        vertical-align: top;\n",
       "    }\n",
       "\n",
       "    .dataframe thead th {\n",
       "        text-align: right;\n",
       "    }\n",
       "</style>\n",
       "<table border=\"1\" class=\"dataframe\">\n",
       "  <thead>\n",
       "    <tr style=\"text-align: right;\">\n",
       "      <th></th>\n",
       "      <th>confirmed</th>\n",
       "      <th>deaths</th>\n",
       "      <th>recovered</th>\n",
       "      <th>negative_cases</th>\n",
       "      <th>pcr_positivo</th>\n",
       "      <th>prueba_rapida_positivo</th>\n",
       "      <th>pcr_prapida_positivo</th>\n",
       "    </tr>\n",
       "  </thead>\n",
       "  <tbody>\n",
       "    <tr>\n",
       "      <th>count</th>\n",
       "      <td>1553.000000</td>\n",
       "      <td>966.000000</td>\n",
       "      <td>93.000000</td>\n",
       "      <td>75.000000</td>\n",
       "      <td>1063.000000</td>\n",
       "      <td>1000.000000</td>\n",
       "      <td>24.000000</td>\n",
       "    </tr>\n",
       "    <tr>\n",
       "      <th>mean</th>\n",
       "      <td>2337.703799</td>\n",
       "      <td>103.630435</td>\n",
       "      <td>6350.946237</td>\n",
       "      <td>164401.613333</td>\n",
       "      <td>1189.493885</td>\n",
       "      <td>2208.594000</td>\n",
       "      <td>34.583333</td>\n",
       "    </tr>\n",
       "    <tr>\n",
       "      <th>std</th>\n",
       "      <td>9974.457069</td>\n",
       "      <td>321.254695</td>\n",
       "      <td>9685.906200</td>\n",
       "      <td>190698.522333</td>\n",
       "      <td>3968.068608</td>\n",
       "      <td>8201.409318</td>\n",
       "      <td>72.926358</td>\n",
       "    </tr>\n",
       "    <tr>\n",
       "      <th>min</th>\n",
       "      <td>1.000000</td>\n",
       "      <td>1.000000</td>\n",
       "      <td>1.000000</td>\n",
       "      <td>154.000000</td>\n",
       "      <td>1.000000</td>\n",
       "      <td>1.000000</td>\n",
       "      <td>1.000000</td>\n",
       "    </tr>\n",
       "    <tr>\n",
       "      <th>25%</th>\n",
       "      <td>18.000000</td>\n",
       "      <td>2.000000</td>\n",
       "      <td>5.000000</td>\n",
       "      <td>8099.500000</td>\n",
       "      <td>16.500000</td>\n",
       "      <td>60.000000</td>\n",
       "      <td>1.750000</td>\n",
       "    </tr>\n",
       "    <tr>\n",
       "      <th>50%</th>\n",
       "      <td>132.000000</td>\n",
       "      <td>7.000000</td>\n",
       "      <td>914.000000</td>\n",
       "      <td>77382.000000</td>\n",
       "      <td>75.000000</td>\n",
       "      <td>173.000000</td>\n",
       "      <td>3.000000</td>\n",
       "    </tr>\n",
       "    <tr>\n",
       "      <th>75%</th>\n",
       "      <td>549.000000</td>\n",
       "      <td>59.000000</td>\n",
       "      <td>8425.000000</td>\n",
       "      <td>307554.500000</td>\n",
       "      <td>289.000000</td>\n",
       "      <td>628.500000</td>\n",
       "      <td>6.250000</td>\n",
       "    </tr>\n",
       "    <tr>\n",
       "      <th>max</th>\n",
       "      <td>104020.000000</td>\n",
       "      <td>3024.000000</td>\n",
       "      <td>41968.000000</td>\n",
       "      <td>611403.000000</td>\n",
       "      <td>29690.000000</td>\n",
       "      <td>74330.000000</td>\n",
       "      <td>231.000000</td>\n",
       "    </tr>\n",
       "  </tbody>\n",
       "</table>\n",
       "</div>"
      ],
      "text/plain": [
       "           confirmed       deaths     recovered  negative_cases  pcr_positivo  \\\n",
       "count    1553.000000   966.000000     93.000000       75.000000   1063.000000   \n",
       "mean     2337.703799   103.630435   6350.946237   164401.613333   1189.493885   \n",
       "std      9974.457069   321.254695   9685.906200   190698.522333   3968.068608   \n",
       "min         1.000000     1.000000      1.000000      154.000000      1.000000   \n",
       "25%        18.000000     2.000000      5.000000     8099.500000     16.500000   \n",
       "50%       132.000000     7.000000    914.000000    77382.000000     75.000000   \n",
       "75%       549.000000    59.000000   8425.000000   307554.500000    289.000000   \n",
       "max    104020.000000  3024.000000  41968.000000   611403.000000  29690.000000   \n",
       "\n",
       "       prueba_rapida_positivo  pcr_prapida_positivo  \n",
       "count             1000.000000             24.000000  \n",
       "mean              2208.594000             34.583333  \n",
       "std               8201.409318             72.926358  \n",
       "min                  1.000000              1.000000  \n",
       "25%                 60.000000              1.750000  \n",
       "50%                173.000000              3.000000  \n",
       "75%                628.500000              6.250000  \n",
       "max              74330.000000            231.000000  "
      ]
     },
     "execution_count": 89,
     "metadata": {},
     "output_type": "execute_result"
    }
   ],
   "source": [
    "full_data.describe()"
   ]
  },
  {
   "cell_type": "markdown",
   "metadata": {},
   "source": [
    "Separamos los registros que necesitamos, en este caso serán los que estan `NaN` en la columna `region`. Estas filas contienen las cifras de todo el pais.\n",
    "\n",
    "Luego separamos las columnas con las que trabajaremos.\n",
    "- Fecha - `date`\n",
    "- Número de casos confirmados - `confirmed`\n",
    "- Núemro de muertes - `deaths`"
   ]
  },
  {
   "cell_type": "code",
   "execution_count": 7,
   "metadata": {},
   "outputs": [],
   "source": [
    "data_peru = full_data.loc[pd.isnull(full_data['region'])]\n",
    "data_peru = data_peru.drop(['country','iso3c','region','recovered','negative_cases','pcr_positivo','prueba_rapida_positivo','pcr_prapida_positivo'],\n",
    "                     axis=1)"
   ]
  },
  {
   "cell_type": "markdown",
   "metadata": {},
   "source": [
    "Separamos los los datos en 3 conjuntos de datos: `date_deaths`, `date_confirmed` y `date_confirmed_deaths`\n",
    "\n",
    "En los 3 conjuntos `date` sera una variable independiente, en `date_deaths`y `date_confirmed` la otra variable sera la dependiente.\n",
    "En `date_confirmed_deaths` se tomará también `confirmed` como una variable independiente. Se tomo esta decisión porque la cantidad de muertes puede depender de la cantidad de contagiados, pero no viceversa"
   ]
  },
  {
   "cell_type": "code",
   "execution_count": 8,
   "metadata": {},
   "outputs": [],
   "source": [
    "date_deaths = data_peru[['date','deaths','confirmed']]\n",
    "date_confirmed = data_peru[['date','confirmed','deaths']]\n",
    "date_deaths = date_deaths.drop(['confirmed'],axis=1)\n",
    "date_confirmed = date_confirmed.drop(['deaths'],axis=1)\n",
    "date_confirmed_deaths = data_peru[['date','confirmed','deaths']]"
   ]
  },
  {
   "cell_type": "markdown",
   "metadata": {},
   "source": [
    "Como `date` es considerado Object, lo transformamos en dalor numérico.\n",
    "\n",
    "* Generamos `new_date` que sera una lista de 1 hasta la cantidad de registros (75 en 2020-05-20).\n",
    "* Calculamos `mayo_1` que representará donde dividimos el dataset para tener los conjuntos de entrenamiento y de prueba."
   ]
  },
  {
   "cell_type": "code",
   "execution_count": 10,
   "metadata": {},
   "outputs": [
    {
     "data": {
      "text/html": [
       "<div>\n",
       "<style scoped>\n",
       "    .dataframe tbody tr th:only-of-type {\n",
       "        vertical-align: middle;\n",
       "    }\n",
       "\n",
       "    .dataframe tbody tr th {\n",
       "        vertical-align: top;\n",
       "    }\n",
       "\n",
       "    .dataframe thead th {\n",
       "        text-align: right;\n",
       "    }\n",
       "</style>\n",
       "<table border=\"1\" class=\"dataframe\">\n",
       "  <thead>\n",
       "    <tr style=\"text-align: right;\">\n",
       "      <th></th>\n",
       "      <th>date</th>\n",
       "      <th>confirmed</th>\n",
       "      <th>deaths</th>\n",
       "    </tr>\n",
       "  </thead>\n",
       "  <tbody>\n",
       "    <tr>\n",
       "      <th>0</th>\n",
       "      <td>20200306</td>\n",
       "      <td>1</td>\n",
       "      <td>NaN</td>\n",
       "    </tr>\n",
       "    <tr>\n",
       "      <th>1</th>\n",
       "      <td>20200307</td>\n",
       "      <td>6</td>\n",
       "      <td>NaN</td>\n",
       "    </tr>\n",
       "    <tr>\n",
       "      <th>2</th>\n",
       "      <td>20200309</td>\n",
       "      <td>9</td>\n",
       "      <td>NaN</td>\n",
       "    </tr>\n",
       "    <tr>\n",
       "      <th>3</th>\n",
       "      <td>20200310</td>\n",
       "      <td>11</td>\n",
       "      <td>NaN</td>\n",
       "    </tr>\n",
       "    <tr>\n",
       "      <th>4</th>\n",
       "      <td>20200311</td>\n",
       "      <td>17</td>\n",
       "      <td>NaN</td>\n",
       "    </tr>\n",
       "  </tbody>\n",
       "</table>\n",
       "</div>"
      ],
      "text/plain": [
       "       date  confirmed  deaths\n",
       "0  20200306          1     NaN\n",
       "1  20200307          6     NaN\n",
       "2  20200309          9     NaN\n",
       "3  20200310         11     NaN\n",
       "4  20200311         17     NaN"
      ]
     },
     "execution_count": 10,
     "metadata": {},
     "output_type": "execute_result"
    }
   ],
   "source": [
    "date_deaths['date'] = pd.to_datetime(date_deaths['date']).dt.strftime(\"%Y%m%d\").astype(int)\n",
    "date_confirmed['date'] = pd.to_datetime(date_confirmed['date']).dt.strftime(\"%Y%m%d\").astype(int)\n",
    "date_confirmed_deaths['date'] = pd.to_datetime(date_confirmed_deaths['date']).dt.strftime(\"%Y%m%d\").astype(int)\n",
    "\n",
    "new_date = list(range(1,len(date_confirmed_deaths)+1))\n",
    "\n",
    "raw_DD = date_deaths.values\n",
    "mayo_1 = np.where(raw_DD[:,0]==20200501)\n",
    "\n",
    "date_confirmed_deaths.head()"
   ]
  },
  {
   "cell_type": "markdown",
   "metadata": {},
   "source": [
    "## Adaptación de los datos\n",
    "\n",
    "Convertimos los dataframes en arreglos de numpy, de números flotantes"
   ]
  },
  {
   "cell_type": "code",
   "execution_count": 11,
   "metadata": {},
   "outputs": [],
   "source": [
    "raw_DD = date_deaths.values.astype(np.float32)\n",
    "raw_DD[:,0] = new_date\n",
    "raw_DC = date_confirmed.values.astype(np.float32)\n",
    "raw_DC[:,0] = new_date\n",
    "raw_DCD = date_confirmed_deaths.values.astype(np.float32)\n",
    "raw_DCD[:,0] = new_date"
   ]
  },
  {
   "cell_type": "markdown",
   "metadata": {},
   "source": [
    "Como en algunos registros `death` es `NaN` lo convertimos en 0. En este caso, los valores `Nan` significan que en esos días no hubieron muertos, por eso lo cambiamos por 0."
   ]
  },
  {
   "cell_type": "code",
   "execution_count": 13,
   "metadata": {},
   "outputs": [],
   "source": [
    "ind = np.where(np.isnan(raw_DD))\n",
    "raw_DD[ind] = 0\n",
    "\n",
    "ind = np.where(np.isnan(raw_DCD))\n",
    "raw_DCD[ind] = 0"
   ]
  },
  {
   "cell_type": "markdown",
   "metadata": {},
   "source": [
    "Graficamos los datos de `raw_DD` y `raw_DC`. `raw_DCD` no es necesario graficar ya que sus valores deben ser iguales."
   ]
  },
  {
   "cell_type": "code",
   "execution_count": 94,
   "metadata": {},
   "outputs": [
    {
     "data": {
      "text/plain": [
       "Text(0, 0.5, 'Contagiados')"
      ]
     },
     "execution_count": 94,
     "metadata": {},
     "output_type": "execute_result"
    },
    {
     "data": {
      "image/png": "[encoded data removed]",
      "text/plain": [
       "<Figure size 1080x360 with 2 Axes>"
      ]
     },
     "metadata": {
      "needs_background": "light"
     },
     "output_type": "display_data"
    }
   ],
   "source": [
    "fig, ax = plt.subplots(1, 2, figsize=(15,5))\n",
    "\n",
    "ax[0].plot(raw_DD[:,0],raw_DD[:,1],'black')\n",
    "ax[0].set_title(\"Date_Deaths\")\n",
    "ax[0].set_xlabel('Dias')\n",
    "ax[0].set_ylabel('Muertes')\n",
    "\n",
    "ax[1].plot(raw_DC[:,0],raw_DC[:,1],'green')\n",
    "ax[1].set_title(\"Date_Confirmed\")\n",
    "ax[1].set_xlabel('Dias')\n",
    "ax[1].set_ylabel('Contagiados')"
   ]
  },
  {
   "cell_type": "markdown",
   "metadata": {},
   "source": [
    "Graficar la relación entre la cantidad de contagiados y la cantidad de muertos, nos ayuda a confirmar que existe una relación lineal entre estas variables"
   ]
  },
  {
   "cell_type": "code",
   "execution_count": 92,
   "metadata": {},
   "outputs": [
    {
     "data": {
      "text/plain": [
       "Text(0.5, 1.0, 'Confirmed_Deaths')"
      ]
     },
     "execution_count": 92,
     "metadata": {},
     "output_type": "execute_result"
    },
    {
     "data": {
      "image/png": "[encoded data removed]",
      "text/plain": [
       "<Figure size 432x288 with 1 Axes>"
      ]
     },
     "metadata": {
      "needs_background": "light"
     },
     "output_type": "display_data"
    }
   ],
   "source": [
    "plt.plot(raw_DCD[:,1],raw_DCD[:,2],'-o')\n",
    "plt.xlabel('Cant de contagiados')\n",
    "plt.ylabel('Cant de muertos')\n",
    "plt.title('Confirmed_Deaths')"
   ]
  },
  {
   "cell_type": "code",
   "execution_count": 19,
   "metadata": {},
   "outputs": [],
   "source": [
    "def Normalizar_Datos( arraynp ):\n",
    "    mean = np.mean(arraynp,0)\n",
    "    standard = np.std(arraynp,0)\n",
    "    print (mean, standard)\n",
    "    for i in range(0,arraynp.shape[0]):\n",
    "        arraynp[i] = np.true_divide((arraynp[i] - mean), standard)\n",
    "    return arraynp"
   ]
  },
  {
   "cell_type": "markdown",
   "metadata": {},
   "source": [
    "Los arreglos son normalizados"
   ]
  },
  {
   "cell_type": "code",
   "execution_count": 20,
   "metadata": {},
   "outputs": [
    {
     "name": "stdout",
     "output_type": "stream",
     "text": [
      "[ 38.      679.06665] [ 21.64871 875.40466]\n",
      "[   38.    24203.467] [2.1648710e+01 3.0525627e+04]\n",
      "[   38.      24203.467     679.06665] [2.1648710e+01 3.0525627e+04 8.7540466e+02]\n"
     ]
    }
   ],
   "source": [
    "raw_DD = Normalizar_Datos(raw_DD)\n",
    "raw_DC = Normalizar_Datos(raw_DC)\n",
    "raw_DCD = Normalizar_Datos(raw_DCD)"
   ]
  },
  {
   "cell_type": "markdown",
   "metadata": {},
   "source": [
    "La funfión `Adapt_sets` nos permite generar adecuadamente los conjuntos de datos de entrenamiento y prueba"
   ]
  },
  {
   "cell_type": "code",
   "execution_count": 18,
   "metadata": {},
   "outputs": [],
   "source": [
    "def Adapt_sets(train_set, test_set):\n",
    "    test_y = test_set[:,-1:]\n",
    "    test_x = test_set[:,0:-1]\n",
    "    train_y = train_set[:,-1:]\n",
    "    train_x = train_set[:,0:-1]\n",
    "    \n",
    "    train_x = np.insert(train_x, 0, 1, axis=1)\n",
    "    test_x = np.insert(test_x, 0, 1, axis=1)\n",
    "    \n",
    "    return train_x, train_y, test_x, test_y"
   ]
  },
  {
   "cell_type": "markdown",
   "metadata": {},
   "source": [
    "* Primero dividimos los arreglos, usando el valor de `mayo_1`. Esto nos permitira entrenar con datos desde 2020-03-06 hasta 2020-04-30\n",
    "* Luego aplicamos la funcion `Adapt_sets`."
   ]
  },
  {
   "cell_type": "code",
   "execution_count": 21,
   "metadata": {},
   "outputs": [],
   "source": [
    "train_set_DD, test_set_DD = np.split(raw_DD,mayo_1[0])\n",
    "train_set_DC, test_set_DC = np.split(raw_DC,mayo_1[0])\n",
    "train_set_DCD, test_set_DCD = np.split(raw_DCD,mayo_1[0])\n",
    "\n",
    "train_DD_x, train_DD_y, test_DD_x, test_DD_y = Adapt_sets(train_set_DD, test_set_DD)\n",
    "Theta_DD = np.zeros(train_DD_x.shape[1])[np.newaxis]\n",
    "\n",
    "train_DC_x, train_DC_y, test_DC_x, test_DC_y = Adapt_sets(train_set_DC, test_set_DC)\n",
    "Theta_DC = np.zeros(train_DC_x.shape[1])[np.newaxis]\n",
    "\n",
    "train_DCD_x, train_DCD_y, test_DCD_x, test_DCD_y = Adapt_sets(train_set_DCD, test_set_DCD)\n",
    "Theta_DCD = np.zeros(train_DCD_x.shape[1])[np.newaxis]"
   ]
  },
  {
   "cell_type": "markdown",
   "metadata": {},
   "source": [
    "## Elaboración del modelo de RL"
   ]
  },
  {
   "cell_type": "code",
   "execution_count": 22,
   "metadata": {},
   "outputs": [],
   "source": [
    "def Calcular_Costo(X, Y, Theta):\n",
    "    m = len(X)\n",
    "    cost = np.sum((X.dot(Theta.T) - Y)**2) / (2 * m)\n",
    "    return cost\n",
    "\n",
    "def Gradiente_Descendiente(X, Y, Theta, iteraciones, tasa):\n",
    "    costos = [0]*iteraciones\n",
    "    m = len(X)\n",
    "    for itr in range(iteraciones):\n",
    "        h = X.dot(Theta.T)\n",
    "        dif = h - Y\n",
    "        derivada = (X.T).dot(dif) / m\n",
    "        Theta = Theta - (tasa * derivada).T\n",
    "        costos[itr] = Calcular_Costo(X, Y, Theta)\n",
    "    return Theta, costos"
   ]
  },
  {
   "cell_type": "markdown",
   "metadata": {},
   "source": [
    "Calculamos nuevos valores para los $ \\theta $ con la función `Gradiente_Descendiente` con los parametros:\n",
    "- iteraciones = 2500\n",
    "- tasa de entrenamiento = 0.1"
   ]
  },
  {
   "cell_type": "code",
   "execution_count": 23,
   "metadata": {},
   "outputs": [],
   "source": [
    "newTheta_DD, costos_DD = Gradiente_Descendiente(train_DD_x, train_DD_y, Theta_DD, 2500, 0.1)\n",
    "newTheta_DC, costos_DC = Gradiente_Descendiente(train_DC_x, train_DC_y, Theta_DC, 2500, 0.1)\n",
    "newTheta_DCD, costos_DCD = Gradiente_Descendiente(train_DCD_x, train_DCD_y, Theta_DCD, 2500, 0.1)"
   ]
  },
  {
   "cell_type": "markdown",
   "metadata": {},
   "source": [
    "### Resultados"
   ]
  },
  {
   "cell_type": "markdown",
   "metadata": {},
   "source": [
    "Graficamos el costo obtenido en cada iteración"
   ]
  },
  {
   "cell_type": "code",
   "execution_count": 24,
   "metadata": {},
   "outputs": [
    {
     "data": {
      "text/plain": [
       "Text(0, 0.5, 'Costo')"
      ]
     },
     "execution_count": 24,
     "metadata": {},
     "output_type": "execute_result"
    },
    {
     "data": {
      "image/png": "[encoded data removed]",
      "text/plain": [
       "<Figure size 1296x432 with 3 Axes>"
      ]
     },
     "metadata": {
      "needs_background": "light"
     },
     "output_type": "display_data"
    }
   ],
   "source": [
    "#    Experimento 4\n",
    "fig, ax = plt.subplots(1, 3, figsize=(18,6))\n",
    "ax[0].scatter(np.arange(2500), costos_DD, alpha=0.8, c=\"purple\", s=5)\n",
    "ax[0].set_title(\"Date_Deaths\")\n",
    "ax[0].set_xlabel('Iteraciones')\n",
    "ax[0].set_ylabel('Costo')\n",
    "\n",
    "ax[1].scatter(np.arange(2500), costos_DC, alpha=0.8, c=\"purple\", s=5)\n",
    "ax[1].set_title(\"Date_Confirmed\")\n",
    "ax[1].set_xlabel('Iteraciones')\n",
    "ax[1].set_ylabel('Costo')\n",
    "\n",
    "ax[2].scatter(np.arange(2500), costos_DCD, alpha=0.8, c=\"purple\", s=5)\n",
    "ax[2].set_title(\"Date_Confirmed_Deaths\")\n",
    "ax[2].set_xlabel('Iteraciones')\n",
    "ax[2].set_ylabel('Costo')"
   ]
  },
  {
   "cell_type": "markdown",
   "metadata": {},
   "source": [
    "Calculamos los valores que el modelo predice con los conjuntos de prueba"
   ]
  },
  {
   "cell_type": "code",
   "execution_count": 25,
   "metadata": {},
   "outputs": [],
   "source": [
    "DD_y_predict = test_DD_x.dot(newTheta_DD.T)\n",
    "DC_y_predict = test_DC_x.dot(newTheta_DC.T)\n",
    "DCD_y_predict = test_DCD_x.dot(newTheta_DCD.T)"
   ]
  },
  {
   "cell_type": "markdown",
   "metadata": {},
   "source": [
    "Graficamos las predicciones de los conjuntos de datos que solo usan `date` como variable independiente"
   ]
  },
  {
   "cell_type": "code",
   "execution_count": 95,
   "metadata": {},
   "outputs": [
    {
     "data": {
      "text/plain": [
       "Text(0.5, 0, 'Dias')"
      ]
     },
     "execution_count": 95,
     "metadata": {},
     "output_type": "execute_result"
    },
    {
     "data": {
      "image/png": "[encoded data removed]",
      "text/plain": [
       "<Figure size 1080x360 with 2 Axes>"
      ]
     },
     "metadata": {
      "needs_background": "light"
     },
     "output_type": "display_data"
    }
   ],
   "source": [
    "fig, ax = plt.subplots(1, 2, figsize=(15,5))\n",
    "\n",
    "ax[0].scatter(test_DD_x[:,1], test_DD_y, alpha=0.9, c=\"red\")\n",
    "ax[0].scatter(test_DD_x[:,1], DD_y_predict, alpha=0.8, c=\"purple\")\n",
    "ax[0].plot(train_DD_x[:,1], train_DD_y, \"-o\")\n",
    "ax[0].set_title(\"Date_Deaths\")\n",
    "ax[0].set_ylabel('Muertes')\n",
    "ax[0].set_xlabel('Dias')\n",
    "\n",
    "ax[1].scatter(test_DC_x[:,1], test_DC_y, alpha=0.9, c=\"red\")\n",
    "ax[1].scatter(test_DC_x[:,1], DC_y_predict, alpha=0.8, c=\"purple\")\n",
    "ax[1].plot(train_DC_x[:,1], train_DC_y, \"-o\")\n",
    "ax[1].set_title(\"Date_Confirmed\")\n",
    "ax[1].set_ylabel('Contagiados')\n",
    "ax[1].set_xlabel('Dias')"
   ]
  },
  {
   "cell_type": "markdown",
   "metadata": {},
   "source": [
    "Graficamos las predicciones del conjunto de datos que usa `date` y `confirmed` como variables independientes"
   ]
  },
  {
   "cell_type": "code",
   "execution_count": 96,
   "metadata": {},
   "outputs": [
    {
     "data": {
      "text/plain": [
       "Text(0.5, 0, 'Dias')"
      ]
     },
     "execution_count": 96,
     "metadata": {},
     "output_type": "execute_result"
    },
    {
     "data": {
      "image/png": "[encoded data removed]",
      "text/plain": [
       "<Figure size 432x288 with 1 Axes>"
      ]
     },
     "metadata": {
      "needs_background": "light"
     },
     "output_type": "display_data"
    }
   ],
   "source": [
    "plt.scatter(test_DCD_x[:,1], test_DCD_y, alpha=0.7, c=\"red\")\n",
    "plt.scatter(test_DCD_x[:,1], DCD_y_predict, alpha=0.7, c=\"purple\")\n",
    "plt.plot(train_DCD_x[:,1], train_DCD_y, \"-o\")\n",
    "plt.title(\"Date_Confirmed_Deaths\")\n",
    "plt.ylabel('Muertes')\n",
    "plt.xlabel('Dias')"
   ]
  },
  {
   "cell_type": "markdown",
   "metadata": {},
   "source": [
    "Para evaluar la eficacia del modelo en el conjunto de prueba, utilizamos las metricas standar `r2 score` `mean squared error` y `root mean squared error`, todas extraidas desde la libreria `sklearn`."
   ]
  },
  {
   "cell_type": "code",
   "execution_count": 33,
   "metadata": {},
   "outputs": [],
   "source": [
    "from sklearn.metrics import mean_squared_error\n",
    "from sklearn.metrics import r2_score"
   ]
  },
  {
   "cell_type": "code",
   "execution_count": 35,
   "metadata": {},
   "outputs": [
    {
     "data": {
      "text/plain": [
       "0.9799436647525366"
      ]
     },
     "execution_count": 35,
     "metadata": {},
     "output_type": "execute_result"
    }
   ],
   "source": [
    "r2_score(test_DCD_y, DCD_y_predict)"
   ]
  },
  {
   "cell_type": "code",
   "execution_count": 36,
   "metadata": {},
   "outputs": [
    {
     "data": {
      "text/plain": [
       "0.008632560233020066"
      ]
     },
     "execution_count": 36,
     "metadata": {},
     "output_type": "execute_result"
    }
   ],
   "source": [
    "mean_squared_error(test_DCD_y, DCD_y_predict)"
   ]
  },
  {
   "cell_type": "code",
   "execution_count": 37,
   "metadata": {},
   "outputs": [
    {
     "data": {
      "text/plain": [
       "0.09291157211574921"
      ]
     },
     "execution_count": 37,
     "metadata": {},
     "output_type": "execute_result"
    }
   ],
   "source": [
    "from math import sqrt\n",
    "sqrt(mean_squared_error(test_DCD_y, DCD_y_predict))"
   ]
  },
  {
   "cell_type": "markdown",
   "metadata": {},
   "source": [
    "## Otro enfoque\n",
    "\n",
    "También podemos buscar predecir la cantidad de muertes por día (la diferencia de casos por dia)\n",
    "\n",
    "Para eso creamos `O_raw_DCD`, recorremos los datos originales y restamos con el dia anterior"
   ]
  },
  {
   "cell_type": "code",
   "execution_count": 43,
   "metadata": {},
   "outputs": [],
   "source": [
    "raw_DCD = date_confirmed_deaths.values.astype(np.float32)\n",
    "raw_DCD[:,0] = new_date\n",
    "\n",
    "O_raw_DCD = np.zeros(raw_DCD.shape)\n",
    "O_raw_DCD[0,:] = raw_DCD[0,:]\n",
    "for i in range(1,len(raw_DCD)):\n",
    "    O_raw_DCD[i,0] = raw_DCD[i,0]\n",
    "    O_raw_DCD[i,1] = raw_DCD[i,1] - raw_DCD[i-1,1]\n",
    "    O_raw_DCD[i,2] = raw_DCD[i,2] - raw_DCD[i-1,2]"
   ]
  },
  {
   "cell_type": "markdown",
   "metadata": {},
   "source": [
    "Mostramos los nuevos datos obtenidos"
   ]
  },
  {
   "cell_type": "code",
   "execution_count": 98,
   "metadata": {},
   "outputs": [
    {
     "data": {
      "text/plain": [
       "Text(0.5, 0, 'Dias')"
      ]
     },
     "execution_count": 98,
     "metadata": {},
     "output_type": "execute_result"
    },
    {
     "data": {
      "image/png": "[encoded data removed]",
      "text/plain": [
       "<Figure size 1080x360 with 2 Axes>"
      ]
     },
     "metadata": {
      "needs_background": "light"
     },
     "output_type": "display_data"
    }
   ],
   "source": [
    "fig, ax = plt.subplots(1, 2, figsize=(15,5))\n",
    "\n",
    "ax[0].plot(O_raw_DCD[:,0], O_raw_DCD[:,2], \"-o\")\n",
    "ax[0].set_title(\"Date_Deaths\")\n",
    "ax[0].set_ylabel('Muertes')\n",
    "ax[0].set_xlabel('Dias')\n",
    "\n",
    "ax[1].plot(O_raw_DCD[:,0], O_raw_DCD[:,1], \"-o\")\n",
    "ax[1].set_title(\"Date_Confirmed\")\n",
    "ax[1].set_ylabel('Contagiados')\n",
    "ax[1].set_xlabel('Dias')"
   ]
  },
  {
   "cell_type": "markdown",
   "metadata": {},
   "source": [
    "Preparamos lo datos, y calculamos la regresión lineal"
   ]
  },
  {
   "cell_type": "code",
   "execution_count": 45,
   "metadata": {},
   "outputs": [
    {
     "name": "stdout",
     "output_type": "stream",
     "text": [
      "[  38.         1386.93333333   40.28      ] [  21.64871051 1478.13578387   42.73376807]\n"
     ]
    }
   ],
   "source": [
    "ind = np.where(np.isnan(O_raw_DCD))\n",
    "O_raw_DCD[ind] = 0\n",
    "\n",
    "O_raw_DCD = Normalizar_Datos(O_raw_DCD)\n",
    "train_set_DCD, test_set_DCD = np.split(O_raw_DCD,mayo_1[0])\n",
    "\n",
    "O_train_DCD_x, O_train_DCD_y, O_test_DCD_x, O_test_DCD_y = Adapt_sets(train_set_DCD, test_set_DCD)\n",
    "O_Theta_DCD = np.zeros(O_train_DCD_x.shape[1])[np.newaxis]\n"
   ]
  },
  {
   "cell_type": "code",
   "execution_count": 46,
   "metadata": {},
   "outputs": [
    {
     "data": {
      "text/plain": [
       "<matplotlib.collections.PathCollection at 0x1795fc01e80>"
      ]
     },
     "execution_count": 46,
     "metadata": {},
     "output_type": "execute_result"
    },
    {
     "data": {
      "image/png": "[encoded data removed]",
      "text/plain": [
       "<Figure size 432x288 with 1 Axes>"
      ]
     },
     "metadata": {
      "needs_background": "light"
     },
     "output_type": "display_data"
    }
   ],
   "source": [
    "O_newTheta_DCD,O_costos_DCD = Gradiente_Descendiente(O_train_DCD_x, O_train_DCD_y, O_Theta_DCD, 2500, 0.1)\n",
    "plt.scatter(np.arange(2500), O_costos_DCD, alpha=0.8, c=\"purple\", s=5)"
   ]
  },
  {
   "cell_type": "markdown",
   "metadata": {},
   "source": [
    "Calculamos las predicciones para el conjunto de pruebas"
   ]
  },
  {
   "cell_type": "code",
   "execution_count": 57,
   "metadata": {},
   "outputs": [
    {
     "data": {
      "text/plain": [
       "Text(0, 0.5, 'Nuevas Muertes')"
      ]
     },
     "execution_count": 57,
     "metadata": {},
     "output_type": "execute_result"
    },
    {
     "data": {
      "image/png": "[encoded data removed]",
      "text/plain": [
       "<Figure size 432x288 with 1 Axes>"
      ]
     },
     "metadata": {
      "needs_background": "light"
     },
     "output_type": "display_data"
    }
   ],
   "source": [
    "O_DCD_y_predict = O_test_DCD_x.dot(O_newTheta_DCD.T)\n",
    "\n",
    "plt.plot(O_raw_DCD[:,0], O_raw_DCD[:,-1],'-o')\n",
    "plt.plot(O_test_DCD_x[:,1],O_DCD_y_predict,'-o')\n",
    "plt.xlabel('Dias')\n",
    "plt.ylabel('Nuevas Muertes')"
   ]
  },
  {
   "cell_type": "markdown",
   "metadata": {},
   "source": [
    "Aplicamos las mismas evaluaciones que al anterior modelo"
   ]
  },
  {
   "cell_type": "code",
   "execution_count": 51,
   "metadata": {},
   "outputs": [
    {
     "data": {
      "text/plain": [
       "0.035812306547991835"
      ]
     },
     "execution_count": 51,
     "metadata": {},
     "output_type": "execute_result"
    }
   ],
   "source": [
    "r2_score(O_test_DCD_y, O_DCD_y_predict)"
   ]
  },
  {
   "cell_type": "code",
   "execution_count": 55,
   "metadata": {},
   "outputs": [
    {
     "data": {
      "text/plain": [
       "0.2572474032122964"
      ]
     },
     "execution_count": 55,
     "metadata": {},
     "output_type": "execute_result"
    }
   ],
   "source": [
    "mean_squared_error(O_test_DCD_y, O_DCD_y_predict)"
   ]
  },
  {
   "cell_type": "code",
   "execution_count": 56,
   "metadata": {},
   "outputs": [
    {
     "data": {
      "text/plain": [
       "0.5071956261762284"
      ]
     },
     "execution_count": 56,
     "metadata": {},
     "output_type": "execute_result"
    }
   ],
   "source": [
    "sqrt(mean_squared_error(O_test_DCD_y, O_DCD_y_predict))"
   ]
  },
  {
   "cell_type": "markdown",
   "metadata": {},
   "source": [
    "\n",
    "\n",
    "## Arequipa\n",
    "\n",
    "Para obtener un modelo exclusivo de Arequipa, primero seleccionamos las filas que en `region` sea \"Arequipa\". Estas filas tienen las cifras de la region Areuipa desde 2020-03-13"
   ]
  },
  {
   "cell_type": "code",
   "execution_count": 85,
   "metadata": {},
   "outputs": [
    {
     "data": {
      "text/html": [
       "<div>\n",
       "<style scoped>\n",
       "    .dataframe tbody tr th:only-of-type {\n",
       "        vertical-align: middle;\n",
       "    }\n",
       "\n",
       "    .dataframe tbody tr th {\n",
       "        vertical-align: top;\n",
       "    }\n",
       "\n",
       "    .dataframe thead th {\n",
       "        text-align: right;\n",
       "    }\n",
       "</style>\n",
       "<table border=\"1\" class=\"dataframe\">\n",
       "  <thead>\n",
       "    <tr style=\"text-align: right;\">\n",
       "      <th></th>\n",
       "      <th>date</th>\n",
       "      <th>confirmed</th>\n",
       "      <th>deaths</th>\n",
       "    </tr>\n",
       "  </thead>\n",
       "  <tbody>\n",
       "    <tr>\n",
       "      <th>1036</th>\n",
       "      <td>2020-05-01</td>\n",
       "      <td>624</td>\n",
       "      <td>11.0</td>\n",
       "    </tr>\n",
       "    <tr>\n",
       "      <th>1062</th>\n",
       "      <td>2020-05-02</td>\n",
       "      <td>655</td>\n",
       "      <td>16.0</td>\n",
       "    </tr>\n",
       "    <tr>\n",
       "      <th>1088</th>\n",
       "      <td>2020-05-03</td>\n",
       "      <td>692</td>\n",
       "      <td>16.0</td>\n",
       "    </tr>\n",
       "    <tr>\n",
       "      <th>1114</th>\n",
       "      <td>2020-05-04</td>\n",
       "      <td>692</td>\n",
       "      <td>NaN</td>\n",
       "    </tr>\n",
       "    <tr>\n",
       "      <th>1140</th>\n",
       "      <td>2020-05-05</td>\n",
       "      <td>763</td>\n",
       "      <td>18.0</td>\n",
       "    </tr>\n",
       "    <tr>\n",
       "      <th>1166</th>\n",
       "      <td>2020-05-06</td>\n",
       "      <td>790</td>\n",
       "      <td>20.0</td>\n",
       "    </tr>\n",
       "    <tr>\n",
       "      <th>1192</th>\n",
       "      <td>2020-05-07</td>\n",
       "      <td>814</td>\n",
       "      <td>20.0</td>\n",
       "    </tr>\n",
       "    <tr>\n",
       "      <th>1218</th>\n",
       "      <td>2020-05-08</td>\n",
       "      <td>854</td>\n",
       "      <td>20.0</td>\n",
       "    </tr>\n",
       "    <tr>\n",
       "      <th>1244</th>\n",
       "      <td>2020-05-09</td>\n",
       "      <td>904</td>\n",
       "      <td>20.0</td>\n",
       "    </tr>\n",
       "    <tr>\n",
       "      <th>1270</th>\n",
       "      <td>2020-05-10</td>\n",
       "      <td>1046</td>\n",
       "      <td>20.0</td>\n",
       "    </tr>\n",
       "    <tr>\n",
       "      <th>1296</th>\n",
       "      <td>2020-05-11</td>\n",
       "      <td>1061</td>\n",
       "      <td>20.0</td>\n",
       "    </tr>\n",
       "    <tr>\n",
       "      <th>1322</th>\n",
       "      <td>2020-05-12</td>\n",
       "      <td>1208</td>\n",
       "      <td>20.0</td>\n",
       "    </tr>\n",
       "    <tr>\n",
       "      <th>1348</th>\n",
       "      <td>2020-05-13</td>\n",
       "      <td>1301</td>\n",
       "      <td>20.0</td>\n",
       "    </tr>\n",
       "    <tr>\n",
       "      <th>1374</th>\n",
       "      <td>2020-05-14</td>\n",
       "      <td>1393</td>\n",
       "      <td>20.0</td>\n",
       "    </tr>\n",
       "    <tr>\n",
       "      <th>1400</th>\n",
       "      <td>2020-05-15</td>\n",
       "      <td>1558</td>\n",
       "      <td>20.0</td>\n",
       "    </tr>\n",
       "    <tr>\n",
       "      <th>1426</th>\n",
       "      <td>2020-05-16</td>\n",
       "      <td>1709</td>\n",
       "      <td>20.0</td>\n",
       "    </tr>\n",
       "    <tr>\n",
       "      <th>1452</th>\n",
       "      <td>2020-05-17</td>\n",
       "      <td>1839</td>\n",
       "      <td>20.0</td>\n",
       "    </tr>\n",
       "    <tr>\n",
       "      <th>1478</th>\n",
       "      <td>2020-05-18</td>\n",
       "      <td>1929</td>\n",
       "      <td>23.0</td>\n",
       "    </tr>\n",
       "    <tr>\n",
       "      <th>1504</th>\n",
       "      <td>2020-05-19</td>\n",
       "      <td>1967</td>\n",
       "      <td>25.0</td>\n",
       "    </tr>\n",
       "    <tr>\n",
       "      <th>1530</th>\n",
       "      <td>2020-05-20</td>\n",
       "      <td>2072</td>\n",
       "      <td>25.0</td>\n",
       "    </tr>\n",
       "  </tbody>\n",
       "</table>\n",
       "</div>"
      ],
      "text/plain": [
       "            date  confirmed  deaths\n",
       "1036  2020-05-01        624    11.0\n",
       "1062  2020-05-02        655    16.0\n",
       "1088  2020-05-03        692    16.0\n",
       "1114  2020-05-04        692     NaN\n",
       "1140  2020-05-05        763    18.0\n",
       "1166  2020-05-06        790    20.0\n",
       "1192  2020-05-07        814    20.0\n",
       "1218  2020-05-08        854    20.0\n",
       "1244  2020-05-09        904    20.0\n",
       "1270  2020-05-10       1046    20.0\n",
       "1296  2020-05-11       1061    20.0\n",
       "1322  2020-05-12       1208    20.0\n",
       "1348  2020-05-13       1301    20.0\n",
       "1374  2020-05-14       1393    20.0\n",
       "1400  2020-05-15       1558    20.0\n",
       "1426  2020-05-16       1709    20.0\n",
       "1452  2020-05-17       1839    20.0\n",
       "1478  2020-05-18       1929    23.0\n",
       "1504  2020-05-19       1967    25.0\n",
       "1530  2020-05-20       2072    25.0"
      ]
     },
     "execution_count": 85,
     "metadata": {},
     "output_type": "execute_result"
    }
   ],
   "source": [
    "data_aqp = full_data.loc[full_data['region'] == 'Arequipa']\n",
    "data_aqp = data_aqp.drop(['country','iso3c','region','recovered','negative_cases','pcr_positivo','prueba_rapida_positivo','pcr_prapida_positivo'],\n",
    "                     axis=1)\n",
    "data_aqp.tail(20)"
   ]
  },
  {
   "cell_type": "markdown",
   "metadata": {},
   "source": [
    "Notamos que el dia 2020-05-04 no se registro fallecidos, siendo imposible que este valor sea 0, tenemos que cambiar la forma de darle valores a `NaN`.\n",
    "\n",
    "- El primer número de muertos muy posiblemente sea 0.\n",
    "- Los posteriores `NaN` seran iguales al valor anterior"
   ]
  },
  {
   "cell_type": "code",
   "execution_count": 69,
   "metadata": {},
   "outputs": [],
   "source": [
    "data_aqp['date'] = pd.to_datetime(data_aqp['date']).dt.strftime(\"%Y%m%d\").astype(int)\n",
    "raw_AQP = data_aqp.values\n",
    "mayo_1_aqp = np.where(raw_AQP[:,0]==20200501)\n",
    "\n",
    "new_date_AQP = list(range(len(raw_AQP)))\n",
    "raw_AQP[:,0] = new_date_AQP\n",
    "\n",
    "raw_AQP[0,2] = 0\n",
    "for i in range(1,len(raw_AQP)):\n",
    "    if(np.isnan(raw_AQP[i,2])):\n",
    "        raw_AQP[i,2] = raw_AQP[i-1,2]\n",
    "raw_AQP = raw_AQP.astype(np.float32)"
   ]
  },
  {
   "cell_type": "markdown",
   "metadata": {},
   "source": [
    "Graficamos `confirmed` y `deaths` con respecto a los días"
   ]
  },
  {
   "cell_type": "code",
   "execution_count": 70,
   "metadata": {},
   "outputs": [
    {
     "data": {
      "text/plain": [
       "Text(0, 0.5, 'Dias')"
      ]
     },
     "execution_count": 70,
     "metadata": {},
     "output_type": "execute_result"
    },
    {
     "data": {
      "image/png": "[encoded data removed]",
      "text/plain": [
       "<Figure size 1296x432 with 2 Axes>"
      ]
     },
     "metadata": {
      "needs_background": "light"
     },
     "output_type": "display_data"
    }
   ],
   "source": [
    "fig, ax = plt.subplots(1, 2, figsize=(18,6))\n",
    "\n",
    "ax[0].plot(raw_AQP[:,0], raw_AQP[:,1], \"-o\")\n",
    "ax[0].set_title(\"Date_Confirmed\")\n",
    "ax[0].set_xlabel('Contagiados')\n",
    "ax[0].set_ylabel('Dias')\n",
    "\n",
    "ax[1].plot(raw_AQP[:,0], raw_AQP[:,2], \"-o\")\n",
    "ax[1].set_title(\"Date_Deaths\")\n",
    "ax[1].set_xlabel('Muertes')\n",
    "ax[1].set_ylabel('Dias')"
   ]
  },
  {
   "cell_type": "markdown",
   "metadata": {},
   "source": [
    "Aplicamos el mismo procedimiento, normalizamos y adquirimos los conjuntos de entrenamiento y prueba"
   ]
  },
  {
   "cell_type": "code",
   "execution_count": 71,
   "metadata": {},
   "outputs": [
    {
     "name": "stdout",
     "output_type": "stream",
     "text": [
      "[ 34.       432.56522    8.217391] [ 19.916492 566.3793     8.053929]\n",
      "(49, 3) (20, 3)\n"
     ]
    }
   ],
   "source": [
    "raw_AQP = Normalizar_Datos(raw_AQP)\n",
    "train_set_AQP, test_set_AQP = np.split(raw_AQP,mayo_1_aqp[0])\n",
    "print(train_set_AQP.shape, test_set_AQP.shape)\n",
    "train_AQP_x, train_AQP_y, test_AQP_x, test_AQP_y = Adapt_sets(train_set_AQP, test_set_AQP)\n",
    "Theta_AQP = np.zeros(train_AQP_x.shape[1])[np.newaxis]"
   ]
  },
  {
   "cell_type": "markdown",
   "metadata": {},
   "source": [
    "Entrenamos el regresor lineal y graficamos los costos obtenidos"
   ]
  },
  {
   "cell_type": "code",
   "execution_count": 72,
   "metadata": {},
   "outputs": [
    {
     "data": {
      "text/plain": [
       "<matplotlib.collections.PathCollection at 0x1796109f518>"
      ]
     },
     "execution_count": 72,
     "metadata": {},
     "output_type": "execute_result"
    },
    {
     "data": {
      "image/png": "[encoded data removed]",
      "text/plain": [
       "<Figure size 432x288 with 1 Axes>"
      ]
     },
     "metadata": {
      "needs_background": "light"
     },
     "output_type": "display_data"
    }
   ],
   "source": [
    "newTheta_AQP, costos_AQP = Gradiente_Descendiente(train_AQP_x, train_AQP_y, Theta_AQP, 2500, 0.1)\n",
    "plt.scatter(np.arange(2500), costos_AQP, alpha=0.8, c=\"purple\", s=5)"
   ]
  },
  {
   "cell_type": "markdown",
   "metadata": {},
   "source": [
    "Calculamos las predicciones para el conjunto de pruebas"
   ]
  },
  {
   "cell_type": "code",
   "execution_count": 73,
   "metadata": {},
   "outputs": [
    {
     "data": {
      "text/plain": [
       "Text(0, 0.5, 'Nuevas Muertes')"
      ]
     },
     "execution_count": 73,
     "metadata": {},
     "output_type": "execute_result"
    },
    {
     "data": {
      "image/png": "[encoded data removed]",
      "text/plain": [
       "<Figure size 432x288 with 1 Axes>"
      ]
     },
     "metadata": {
      "needs_background": "light"
     },
     "output_type": "display_data"
    }
   ],
   "source": [
    "AQP_y_predict = test_AQP_x.dot(newTheta_AQP.T)\n",
    "\n",
    "plt.plot(raw_AQP[:,0], raw_AQP[:,-1],'-o')\n",
    "plt.plot(test_AQP_x[:,1],AQP_y_predict,'-o')\n",
    "plt.xlabel('Dias')\n",
    "plt.ylabel('Nuevas Muertes')"
   ]
  },
  {
   "cell_type": "markdown",
   "metadata": {},
   "source": [
    "Evaluamos los resultados con las mismas metricas que a los previos modelos"
   ]
  },
  {
   "cell_type": "code",
   "execution_count": 74,
   "metadata": {},
   "outputs": [
    {
     "data": {
      "text/plain": [
       "-1.8329686417161541"
      ]
     },
     "execution_count": 74,
     "metadata": {},
     "output_type": "execute_result"
    }
   ],
   "source": [
    "r2_score(test_AQP_y, AQP_y_predict)"
   ]
  },
  {
   "cell_type": "code",
   "execution_count": 75,
   "metadata": {},
   "outputs": [
    {
     "data": {
      "text/plain": [
       "0.4083548385699672"
      ]
     },
     "execution_count": 75,
     "metadata": {},
     "output_type": "execute_result"
    }
   ],
   "source": [
    "mean_squared_error(test_AQP_y, AQP_y_predict)"
   ]
  },
  {
   "cell_type": "code",
   "execution_count": 76,
   "metadata": {},
   "outputs": [
    {
     "data": {
      "text/plain": [
       "0.6390264772057315"
      ]
     },
     "execution_count": 76,
     "metadata": {},
     "output_type": "execute_result"
    }
   ],
   "source": [
    "sqrt(mean_squared_error(test_AQP_y, AQP_y_predict))"
   ]
  }
 ],
 "metadata": {
  "kernelspec": {
   "display_name": "Python 3",
   "language": "python",
   "name": "python3"
  },
  "language_info": {
   "codemirror_mode": {
    "name": "ipython",
    "version": 3
   },
   "file_extension": ".py",
   "mimetype": "text/x-python",
   "name": "python",
   "nbconvert_exporter": "python",
   "pygments_lexer": "ipython3",
   "version": "3.7.3"
  }
 },
 "nbformat": 4,
 "nbformat_minor": 2
}
