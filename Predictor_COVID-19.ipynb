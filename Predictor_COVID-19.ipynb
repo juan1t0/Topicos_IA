{
 "cells": [
  {
   "cell_type": "markdown",
   "metadata": {},
   "source": [
    "# Predictor del número de muertes por COVID-19 usando un Regresor Lineal\n",
    "\n",
    "## Librerias usadas"
   ]
  },
  {
   "cell_type": "code",
   "execution_count": 1,
   "metadata": {},
   "outputs": [],
   "source": [
    "import pandas as pd\n",
    "import numpy as np\n",
    "import matplotlib.pyplot as plt"
   ]
  },
  {
   "cell_type": "markdown",
   "metadata": {},
   "source": [
    "## Obtenición y Análisis de los datos\n",
    "\n",
    "Los datos utilizados para este proyecto fueron extraidos desde 'https://raw.githubusercontent.com/jmcastagnetto/covid-19-peru-data/master/datos/covid-19-peru-data.csv'. El repositorio que lo contiene provee de manera libre los datos oficiales recopilados desde las fuentes oficales del gobierno peruano."
   ]
  },
  {
   "cell_type": "code",
   "execution_count": 2,
   "metadata": {},
   "outputs": [
    {
     "data": {
      "text/html": [
       "<div>\n",
       "<style scoped>\n",
       "    .dataframe tbody tr th:only-of-type {\n",
       "        vertical-align: middle;\n",
       "    }\n",
       "\n",
       "    .dataframe tbody tr th {\n",
       "        vertical-align: top;\n",
       "    }\n",
       "\n",
       "    .dataframe thead th {\n",
       "        text-align: right;\n",
       "    }\n",
       "</style>\n",
       "<table border=\"1\" class=\"dataframe\">\n",
       "  <thead>\n",
       "    <tr style=\"text-align: right;\">\n",
       "      <th></th>\n",
       "      <th>country</th>\n",
       "      <th>iso3c</th>\n",
       "      <th>region</th>\n",
       "      <th>date</th>\n",
       "      <th>confirmed</th>\n",
       "      <th>deaths</th>\n",
       "      <th>recovered</th>\n",
       "      <th>negative_cases</th>\n",
       "      <th>pcr_positivo</th>\n",
       "      <th>prueba_rapida_positivo</th>\n",
       "      <th>pcr_prapida_positivo</th>\n",
       "    </tr>\n",
       "  </thead>\n",
       "  <tbody>\n",
       "    <tr>\n",
       "      <th>1600</th>\n",
       "      <td>Peru</td>\n",
       "      <td>PER</td>\n",
       "      <td>San Martín</td>\n",
       "      <td>2020-05-22</td>\n",
       "      <td>2297</td>\n",
       "      <td>25.0</td>\n",
       "      <td>NaN</td>\n",
       "      <td>NaN</td>\n",
       "      <td>445.0</td>\n",
       "      <td>1852.0</td>\n",
       "      <td>NaN</td>\n",
       "    </tr>\n",
       "    <tr>\n",
       "      <th>1601</th>\n",
       "      <td>Peru</td>\n",
       "      <td>PER</td>\n",
       "      <td>Tacna</td>\n",
       "      <td>2020-05-22</td>\n",
       "      <td>119</td>\n",
       "      <td>NaN</td>\n",
       "      <td>NaN</td>\n",
       "      <td>NaN</td>\n",
       "      <td>11.0</td>\n",
       "      <td>108.0</td>\n",
       "      <td>NaN</td>\n",
       "    </tr>\n",
       "    <tr>\n",
       "      <th>1602</th>\n",
       "      <td>Peru</td>\n",
       "      <td>PER</td>\n",
       "      <td>Tumbes</td>\n",
       "      <td>2020-05-22</td>\n",
       "      <td>2557</td>\n",
       "      <td>196.0</td>\n",
       "      <td>NaN</td>\n",
       "      <td>NaN</td>\n",
       "      <td>515.0</td>\n",
       "      <td>2042.0</td>\n",
       "      <td>NaN</td>\n",
       "    </tr>\n",
       "    <tr>\n",
       "      <th>1603</th>\n",
       "      <td>Peru</td>\n",
       "      <td>PER</td>\n",
       "      <td>Ucayali</td>\n",
       "      <td>2020-05-22</td>\n",
       "      <td>399</td>\n",
       "      <td>18.0</td>\n",
       "      <td>NaN</td>\n",
       "      <td>NaN</td>\n",
       "      <td>96.0</td>\n",
       "      <td>303.0</td>\n",
       "      <td>NaN</td>\n",
       "    </tr>\n",
       "    <tr>\n",
       "      <th>1604</th>\n",
       "      <td>Peru</td>\n",
       "      <td>PER</td>\n",
       "      <td>NaN</td>\n",
       "      <td>2020-05-22</td>\n",
       "      <td>111698</td>\n",
       "      <td>3244.0</td>\n",
       "      <td>44848.0</td>\n",
       "      <td>638828.0</td>\n",
       "      <td>30823.0</td>\n",
       "      <td>80875.0</td>\n",
       "      <td>NaN</td>\n",
       "    </tr>\n",
       "  </tbody>\n",
       "</table>\n",
       "</div>"
      ],
      "text/plain": [
       "     country iso3c      region        date  confirmed  deaths  recovered  \\\n",
       "1600    Peru   PER  San Martín  2020-05-22       2297    25.0        NaN   \n",
       "1601    Peru   PER       Tacna  2020-05-22        119     NaN        NaN   \n",
       "1602    Peru   PER      Tumbes  2020-05-22       2557   196.0        NaN   \n",
       "1603    Peru   PER     Ucayali  2020-05-22        399    18.0        NaN   \n",
       "1604    Peru   PER         NaN  2020-05-22     111698  3244.0    44848.0   \n",
       "\n",
       "      negative_cases  pcr_positivo  prueba_rapida_positivo  \\\n",
       "1600             NaN         445.0                  1852.0   \n",
       "1601             NaN          11.0                   108.0   \n",
       "1602             NaN         515.0                  2042.0   \n",
       "1603             NaN          96.0                   303.0   \n",
       "1604        638828.0       30823.0                 80875.0   \n",
       "\n",
       "      pcr_prapida_positivo  \n",
       "1600                   NaN  \n",
       "1601                   NaN  \n",
       "1602                   NaN  \n",
       "1603                   NaN  \n",
       "1604                   NaN  "
      ]
     },
     "execution_count": 2,
     "metadata": {},
     "output_type": "execute_result"
    }
   ],
   "source": [
    "url = 'https://raw.githubusercontent.com/jmcastagnetto/covid-19-peru-data/master/datos/covid-19-peru-data.csv'\n",
    "full_data = pd.read_csv(url)\n",
    "full_data.tail()"
   ]
  },
  {
   "cell_type": "markdown",
   "metadata": {},
   "source": [
    "Hacemos una revisión general sobre los datos"
   ]
  },
  {
   "cell_type": "code",
   "execution_count": 166,
   "metadata": {},
   "outputs": [
    {
     "name": "stdout",
     "output_type": "stream",
     "text": [
      "<class 'pandas.core.frame.DataFrame'>\n",
      "RangeIndex: 1605 entries, 0 to 1604\n",
      "Data columns (total 11 columns):\n",
      "country                   1605 non-null object\n",
      "iso3c                     1605 non-null object\n",
      "region                    1528 non-null object\n",
      "date                      1605 non-null object\n",
      "confirmed                 1605 non-null int64\n",
      "deaths                    1014 non-null float64\n",
      "recovered                 95 non-null float64\n",
      "negative_cases            77 non-null float64\n",
      "pcr_positivo              1115 non-null float64\n",
      "prueba_rapida_positivo    1052 non-null float64\n",
      "pcr_prapida_positivo      24 non-null float64\n",
      "dtypes: float64(6), int64(1), object(4)\n",
      "memory usage: 138.0+ KB\n"
     ]
    }
   ],
   "source": [
    "full_data.info()"
   ]
  },
  {
   "cell_type": "code",
   "execution_count": 167,
   "metadata": {},
   "outputs": [
    {
     "data": {
      "text/html": [
       "<div>\n",
       "<style scoped>\n",
       "    .dataframe tbody tr th:only-of-type {\n",
       "        vertical-align: middle;\n",
       "    }\n",
       "\n",
       "    .dataframe tbody tr th {\n",
       "        vertical-align: top;\n",
       "    }\n",
       "\n",
       "    .dataframe thead th {\n",
       "        text-align: right;\n",
       "    }\n",
       "</style>\n",
       "<table border=\"1\" class=\"dataframe\">\n",
       "  <thead>\n",
       "    <tr style=\"text-align: right;\">\n",
       "      <th></th>\n",
       "      <th>confirmed</th>\n",
       "      <th>deaths</th>\n",
       "      <th>recovered</th>\n",
       "      <th>negative_cases</th>\n",
       "      <th>pcr_positivo</th>\n",
       "      <th>prueba_rapida_positivo</th>\n",
       "      <th>pcr_prapida_positivo</th>\n",
       "    </tr>\n",
       "  </thead>\n",
       "  <tbody>\n",
       "    <tr>\n",
       "      <th>count</th>\n",
       "      <td>1605.000000</td>\n",
       "      <td>1014.000000</td>\n",
       "      <td>95.000000</td>\n",
       "      <td>77.000000</td>\n",
       "      <td>1115.000000</td>\n",
       "      <td>1052.000000</td>\n",
       "      <td>24.000000</td>\n",
       "    </tr>\n",
       "    <tr>\n",
       "      <th>mean</th>\n",
       "      <td>2536.690343</td>\n",
       "      <td>111.332347</td>\n",
       "      <td>7148.136842</td>\n",
       "      <td>176580.259740</td>\n",
       "      <td>1243.748879</td>\n",
       "      <td>2402.262357</td>\n",
       "      <td>34.583333</td>\n",
       "    </tr>\n",
       "    <tr>\n",
       "      <th>std</th>\n",
       "      <td>10804.204509</td>\n",
       "      <td>346.535040</td>\n",
       "      <td>11031.539305</td>\n",
       "      <td>202595.412091</td>\n",
       "      <td>4160.414361</td>\n",
       "      <td>8931.397281</td>\n",
       "      <td>72.926358</td>\n",
       "    </tr>\n",
       "    <tr>\n",
       "      <th>min</th>\n",
       "      <td>1.000000</td>\n",
       "      <td>1.000000</td>\n",
       "      <td>1.000000</td>\n",
       "      <td>154.000000</td>\n",
       "      <td>1.000000</td>\n",
       "      <td>1.000000</td>\n",
       "      <td>1.000000</td>\n",
       "    </tr>\n",
       "    <tr>\n",
       "      <th>25%</th>\n",
       "      <td>19.000000</td>\n",
       "      <td>2.000000</td>\n",
       "      <td>8.000000</td>\n",
       "      <td>8639.000000</td>\n",
       "      <td>17.000000</td>\n",
       "      <td>67.000000</td>\n",
       "      <td>1.750000</td>\n",
       "    </tr>\n",
       "    <tr>\n",
       "      <th>50%</th>\n",
       "      <td>149.000000</td>\n",
       "      <td>7.000000</td>\n",
       "      <td>989.000000</td>\n",
       "      <td>91913.000000</td>\n",
       "      <td>76.000000</td>\n",
       "      <td>189.000000</td>\n",
       "      <td>3.000000</td>\n",
       "    </tr>\n",
       "    <tr>\n",
       "      <th>75%</th>\n",
       "      <td>598.000000</td>\n",
       "      <td>62.000000</td>\n",
       "      <td>9608.000000</td>\n",
       "      <td>329168.000000</td>\n",
       "      <td>304.500000</td>\n",
       "      <td>691.000000</td>\n",
       "      <td>6.250000</td>\n",
       "    </tr>\n",
       "    <tr>\n",
       "      <th>max</th>\n",
       "      <td>111698.000000</td>\n",
       "      <td>3244.000000</td>\n",
       "      <td>44848.000000</td>\n",
       "      <td>638828.000000</td>\n",
       "      <td>30823.000000</td>\n",
       "      <td>80875.000000</td>\n",
       "      <td>231.000000</td>\n",
       "    </tr>\n",
       "  </tbody>\n",
       "</table>\n",
       "</div>"
      ],
      "text/plain": [
       "           confirmed       deaths     recovered  negative_cases  pcr_positivo  \\\n",
       "count    1605.000000  1014.000000     95.000000       77.000000   1115.000000   \n",
       "mean     2536.690343   111.332347   7148.136842   176580.259740   1243.748879   \n",
       "std     10804.204509   346.535040  11031.539305   202595.412091   4160.414361   \n",
       "min         1.000000     1.000000      1.000000      154.000000      1.000000   \n",
       "25%        19.000000     2.000000      8.000000     8639.000000     17.000000   \n",
       "50%       149.000000     7.000000    989.000000    91913.000000     76.000000   \n",
       "75%       598.000000    62.000000   9608.000000   329168.000000    304.500000   \n",
       "max    111698.000000  3244.000000  44848.000000   638828.000000  30823.000000   \n",
       "\n",
       "       prueba_rapida_positivo  pcr_prapida_positivo  \n",
       "count             1052.000000             24.000000  \n",
       "mean              2402.262357             34.583333  \n",
       "std               8931.397281             72.926358  \n",
       "min                  1.000000              1.000000  \n",
       "25%                 67.000000              1.750000  \n",
       "50%                189.000000              3.000000  \n",
       "75%                691.000000              6.250000  \n",
       "max              80875.000000            231.000000  "
      ]
     },
     "execution_count": 167,
     "metadata": {},
     "output_type": "execute_result"
    }
   ],
   "source": [
    "full_data.describe()"
   ]
  },
  {
   "cell_type": "markdown",
   "metadata": {},
   "source": [
    "Dos columnas interesantes son: `confirmed` y `deaths`, porque son columnas con pocos datos faltantes y mantienen una relación lineal. Por eso se decidió usar estas dos columnas junto con `date`."
   ]
  },
  {
   "cell_type": "code",
   "execution_count": 170,
   "metadata": {},
   "outputs": [
    {
     "data": {
      "text/plain": [
       "<matplotlib.axes._subplots.AxesSubplot at 0x281b655d080>"
      ]
     },
     "execution_count": 170,
     "metadata": {},
     "output_type": "execute_result"
    },
    {
     "data": {
      "image/png": "[encoded data removed]",
      "text/plain": [
       "<Figure size 432x288 with 1 Axes>"
      ]
     },
     "metadata": {
      "needs_background": "light"
     },
     "output_type": "display_data"
    }
   ],
   "source": [
    "full_data[pd.isnull(full_data['region'])].plot(x='confirmed',y='deaths')"
   ]
  },
  {
   "cell_type": "markdown",
   "metadata": {},
   "source": [
    "Separamos los registros que necesitamos, en este caso serán los que estan `NaN` en la columna `region`. Estas filas contienen las cifras de todo el pais.\n",
    "\n",
    "Luego separamos las columnas con las que trabajaremos.\n",
    "- Fecha - `date`\n",
    "- Número de casos confirmados - `confirmed`\n",
    "- Núemro de muertes - `deaths`"
   ]
  },
  {
   "cell_type": "code",
   "execution_count": 80,
   "metadata": {},
   "outputs": [],
   "source": [
    "data_peru = full_data.loc[pd.isnull(full_data['region'])]\n",
    "data_peru = data_peru.drop(['country','iso3c','region','recovered','negative_cases','pcr_positivo','prueba_rapida_positivo','pcr_prapida_positivo'],\n",
    "                     axis=1)"
   ]
  },
  {
   "cell_type": "markdown",
   "metadata": {},
   "source": [
    "Creamos primero dos subconjuntos, ambos tendrán como variable independiente la fecha, o cantidad de dias transcurridos, y la variable dependiente será `confirmed` y `deaths` respectivamente."
   ]
  },
  {
   "cell_type": "code",
   "execution_count": 81,
   "metadata": {},
   "outputs": [],
   "source": [
    "date_deaths = data_peru[['date','deaths','confirmed']]\n",
    "date_confirmed = data_peru[['date','confirmed','deaths']]\n",
    "date_deaths = date_deaths.drop(['confirmed'],axis=1)\n",
    "date_confirmed = date_confirmed.drop(['deaths'],axis=1)"
   ]
  },
  {
   "cell_type": "markdown",
   "metadata": {},
   "source": [
    "Para trabajar con la fecha, primero la convertimos a valor numérico, esto nos permitirá ubicar las fechas. En este trabajo se opto por utilizar los datos antes de mayo para entrenar, y los datos porteriores como prueba, es por eso que guardamos en `mayo_1` el indice que nos servirá para separar"
   ]
  },
  {
   "cell_type": "code",
   "execution_count": 82,
   "metadata": {},
   "outputs": [],
   "source": [
    "date_deaths['date'] = pd.to_datetime(date_deaths['date']).dt.strftime(\"%Y%m%d\").astype(int)\n",
    "date_confirmed['date'] = pd.to_datetime(date_confirmed['date']).dt.strftime(\"%Y%m%d\").astype(int)\n",
    "\n",
    "new_date = list(range(1,len(date_confirmed)+1))\n",
    "\n",
    "raw_DD = date_deaths.values\n",
    "mayo_1 = np.where(raw_DD[:,0]==20200501)"
   ]
  },
  {
   "cell_type": "markdown",
   "metadata": {},
   "source": [
    "Generamos también un arreglo continuo de enteros `new_date` que representará los días transcurridos, este arreglo reemplazará la columna `date`"
   ]
  },
  {
   "cell_type": "code",
   "execution_count": 7,
   "metadata": {},
   "outputs": [],
   "source": [
    "raw_DD = date_deaths.values.astype(np.float32)\n",
    "raw_DD[:,0] = new_date\n",
    "raw_DC = date_confirmed.values.astype(np.float32)\n",
    "raw_DC[:,0] = new_date"
   ]
  },
  {
   "cell_type": "markdown",
   "metadata": {},
   "source": [
    "## Adaptación de los Datos\n",
    "\n",
    "Como en algunos registros el valor de `death` es `NaN` lo convertimos en 0. En este caso, los valores `Nan` significan que en esos días no hubieron muertos, por eso lo cambiamos por 0."
   ]
  },
  {
   "cell_type": "code",
   "execution_count": 8,
   "metadata": {},
   "outputs": [],
   "source": [
    "ind = np.where(np.isnan(raw_DD))\n",
    "raw_DD[ind] = 0"
   ]
  },
  {
   "cell_type": "code",
   "execution_count": 11,
   "metadata": {},
   "outputs": [],
   "source": [
    "def Normalizar_Datos( arraynp ):\n",
    "    mean = np.nanmean(arraynp,0)\n",
    "    standard = np.nanstd(arraynp,0)\n",
    "    print (mean, standard)\n",
    "    for i in range(0,arraynp.shape[0]):\n",
    "        arraynp[i] = np.true_divide((arraynp[i] - mean), standard)\n",
    "    return arraynp, mean, standard"
   ]
  },
  {
   "cell_type": "markdown",
   "metadata": {},
   "source": [
    "Normalizamos los datos con la función `Normalizar_Datos` que nos retorna el arreglo normalizado, la media y la desviación estardar que se utilizaron para la normalización."
   ]
  },
  {
   "cell_type": "code",
   "execution_count": 12,
   "metadata": {},
   "outputs": [
    {
     "name": "stdout",
     "output_type": "stream",
     "text": [
      "[ 39.     744.4415] [ 22.22611 952.23883]\n",
      "[   39.    26438.014] [2.2226110e+01 3.3089445e+04]\n"
     ]
    }
   ],
   "source": [
    "raw_DD, _, _ = Normalizar_Datos(raw_DD)\n",
    "raw_DC, _, _ = Normalizar_Datos(raw_DC)"
   ]
  },
  {
   "cell_type": "code",
   "execution_count": 13,
   "metadata": {},
   "outputs": [],
   "source": [
    "def Adapt_sets(train_set, test_set):\n",
    "    test_y = test_set[:,-1:]\n",
    "    test_x = test_set[:,0:-1]\n",
    "    train_y = train_set[:,-1:]\n",
    "    train_x = train_set[:,0:-1]\n",
    "    \n",
    "    train_x = np.insert(train_x, 0, 1, axis=1)\n",
    "    test_x = np.insert(test_x, 0, 1, axis=1)\n",
    "    \n",
    "    return train_x, train_y, test_x, test_y"
   ]
  },
  {
   "cell_type": "markdown",
   "metadata": {},
   "source": [
    "Separamos los conjuntos de datos, en entrenamiento (`x` e `y`) y prueba (`x` e `y`), para esto nos apoyamos de la función `Adapt_sets`\n",
    "\n",
    "Tambien creamos los vetores de los $\\theta$"
   ]
  },
  {
   "cell_type": "code",
   "execution_count": 14,
   "metadata": {},
   "outputs": [],
   "source": [
    "train_set_DD, test_set_DD = np.split(raw_DD,mayo_1[0])\n",
    "train_set_DC, test_set_DC = np.split(raw_DC,mayo_1[0])\n",
    "\n",
    "train_DD_x, train_DD_y, test_DD_x, test_DD_y = Adapt_sets(train_set_DD, test_set_DD)\n",
    "Theta_DD = np.zeros(train_DD_x.shape[1])[np.newaxis]\n",
    "\n",
    "train_DC_x, train_DC_y, test_DC_x, test_DC_y = Adapt_sets(train_set_DC, test_set_DC)\n",
    "Theta_DC = np.zeros(train_DC_x.shape[1])[np.newaxis]"
   ]
  },
  {
   "cell_type": "code",
   "execution_count": 15,
   "metadata": {},
   "outputs": [],
   "source": [
    "def Calcular_Costo(X, Y, Theta):\n",
    "    m = len(X)\n",
    "    cost = np.sum((X.dot(Theta.T) - Y)**2) / (2 * m)\n",
    "    return cost\n",
    "\n",
    "def Gradiente_Descendiente(X, Y, Theta, iteraciones, tasa):\n",
    "    costos = [0]*iteraciones\n",
    "    m = len(X)\n",
    "    for itr in range(iteraciones):\n",
    "        h = X.dot(Theta.T)\n",
    "        dif = h - Y\n",
    "        derivada = (X.T).dot(dif) / m\n",
    "        Theta = Theta - (tasa * derivada).T\n",
    "        costos[itr] = Calcular_Costo(X, Y, Theta)\n",
    "    return Theta, costos"
   ]
  },
  {
   "cell_type": "markdown",
   "metadata": {},
   "source": [
    "Aplicamos el algoritmo de Gradiente Descendiente para realizar la regresión lineal. Luego calculamos los valores para el conjunto de prueba usando los nuevos $\\theta$"
   ]
  },
  {
   "cell_type": "code",
   "execution_count": 16,
   "metadata": {},
   "outputs": [],
   "source": [
    "newTheta_DD, costos_DD = Gradiente_Descendiente(train_DD_x, train_DD_y, Theta_DD, 2500, 0.1)\n",
    "newTheta_DC, costos_DC = Gradiente_Descendiente(train_DC_x, train_DC_y, Theta_DC, 2500, 0.1)"
   ]
  },
  {
   "cell_type": "code",
   "execution_count": 17,
   "metadata": {},
   "outputs": [],
   "source": [
    "DD_y_predict = test_DD_x.dot(newTheta_DD.T)\n",
    "DC_y_predict = test_DC_x.dot(newTheta_DC.T)"
   ]
  },
  {
   "cell_type": "code",
   "execution_count": 18,
   "metadata": {},
   "outputs": [
    {
     "data": {
      "text/plain": [
       "Text(0.5, 0, 'Dias')"
      ]
     },
     "execution_count": 18,
     "metadata": {},
     "output_type": "execute_result"
    },
    {
     "data": {
      "image/png": "[encoded data removed]",
      "text/plain": [
       "<Figure size 1080x360 with 2 Axes>"
      ]
     },
     "metadata": {
      "needs_background": "light"
     },
     "output_type": "display_data"
    }
   ],
   "source": [
    "fig, ax = plt.subplots(1, 2, figsize=(15,5))\n",
    "\n",
    "ax[0].scatter(test_DD_x[:,1], test_DD_y, alpha=0.9, c=\"red\")\n",
    "ax[0].scatter(test_DD_x[:,1], DD_y_predict, alpha=0.8, c=\"purple\")\n",
    "ax[0].plot(train_DD_x[:,1], train_DD_y, \"-o\")\n",
    "ax[0].set_title(\"Date_Deaths\")\n",
    "ax[0].set_ylabel('Muertes')\n",
    "ax[0].set_xlabel('Dias')\n",
    "\n",
    "ax[1].scatter(test_DC_x[:,1], test_DC_y, alpha=0.9, c=\"red\")\n",
    "ax[1].scatter(test_DC_x[:,1], DC_y_predict, alpha=0.8, c=\"purple\")\n",
    "ax[1].plot(train_DC_x[:,1], train_DC_y, \"-o\")\n",
    "ax[1].set_title(\"Date_Confirmed\")\n",
    "ax[1].set_ylabel('Contagiados')\n",
    "ax[1].set_xlabel('Dias')"
   ]
  },
  {
   "cell_type": "markdown",
   "metadata": {},
   "source": [
    "Graficamos lo resultados obtenidos y nos damos cuenta que el modelo no es nada útil ya que el conportamiento de cualquiera de las variables, `deaths` y `confirmed`, no es lineal, sino similar a exponencial\n",
    "\n",
    "Entonces creamos un nuevo subconjunto de datos con `date` y `confirmed` como variables independientes, y `deaths` como la variable dependiente."
   ]
  },
  {
   "cell_type": "code",
   "execution_count": 19,
   "metadata": {},
   "outputs": [],
   "source": [
    "date_confirmed_deaths = data_peru[['date','confirmed','deaths']]"
   ]
  },
  {
   "cell_type": "code",
   "execution_count": 20,
   "metadata": {},
   "outputs": [
    {
     "data": {
      "text/html": [
       "<div>\n",
       "<style scoped>\n",
       "    .dataframe tbody tr th:only-of-type {\n",
       "        vertical-align: middle;\n",
       "    }\n",
       "\n",
       "    .dataframe tbody tr th {\n",
       "        vertical-align: top;\n",
       "    }\n",
       "\n",
       "    .dataframe thead th {\n",
       "        text-align: right;\n",
       "    }\n",
       "</style>\n",
       "<table border=\"1\" class=\"dataframe\">\n",
       "  <thead>\n",
       "    <tr style=\"text-align: right;\">\n",
       "      <th></th>\n",
       "      <th>date</th>\n",
       "      <th>confirmed</th>\n",
       "      <th>deaths</th>\n",
       "    </tr>\n",
       "  </thead>\n",
       "  <tbody>\n",
       "    <tr>\n",
       "      <th>0</th>\n",
       "      <td>20200306</td>\n",
       "      <td>1</td>\n",
       "      <td>NaN</td>\n",
       "    </tr>\n",
       "    <tr>\n",
       "      <th>1</th>\n",
       "      <td>20200307</td>\n",
       "      <td>6</td>\n",
       "      <td>NaN</td>\n",
       "    </tr>\n",
       "    <tr>\n",
       "      <th>2</th>\n",
       "      <td>20200309</td>\n",
       "      <td>9</td>\n",
       "      <td>NaN</td>\n",
       "    </tr>\n",
       "    <tr>\n",
       "      <th>3</th>\n",
       "      <td>20200310</td>\n",
       "      <td>11</td>\n",
       "      <td>NaN</td>\n",
       "    </tr>\n",
       "    <tr>\n",
       "      <th>4</th>\n",
       "      <td>20200311</td>\n",
       "      <td>17</td>\n",
       "      <td>NaN</td>\n",
       "    </tr>\n",
       "  </tbody>\n",
       "</table>\n",
       "</div>"
      ],
      "text/plain": [
       "       date  confirmed  deaths\n",
       "0  20200306          1     NaN\n",
       "1  20200307          6     NaN\n",
       "2  20200309          9     NaN\n",
       "3  20200310         11     NaN\n",
       "4  20200311         17     NaN"
      ]
     },
     "execution_count": 20,
     "metadata": {},
     "output_type": "execute_result"
    }
   ],
   "source": [
    "date_confirmed_deaths['date'] = pd.to_datetime(date_confirmed_deaths['date']).dt.strftime(\"%Y%m%d\").astype(int)\n",
    "date_confirmed_deaths.head()"
   ]
  },
  {
   "cell_type": "markdown",
   "metadata": {},
   "source": [
    "Para trabajar con ambas variables podemos utilizar dos enfoques, usar simplemente la cantidad total de los casos confirmados hasta un día, o usar la cantidad de casos nuevos por día.\n",
    "\n",
    "## Casos nuevos por día\n",
    "\n",
    "Para calcular esto simplemente recorremos el conjunto original y restamos los casos de un día con los del anterior. También calculamos la tasa de crecimiento de casos confirmados que nos permitira estimar la cantidad de casos de contagio en dias posteriores, esto se calcula dividiendo el número de casos de un día con los del anterior, y los promediamos. Como el comportamiento es similar a exponencial, consideramos solo las últimas 10 variaciones para obtener la tasa de crecimiento."
   ]
  },
  {
   "cell_type": "code",
   "execution_count": 28,
   "metadata": {},
   "outputs": [
    {
     "data": {
      "text/plain": [
       "1.0448516368865968"
      ]
     },
     "execution_count": 28,
     "metadata": {},
     "output_type": "execute_result"
    }
   ],
   "source": [
    "data_raw_DCD = date_confirmed_deaths.values.astype(np.float32)\n",
    "ind = np.where(np.isnan(data_raw_DCD))\n",
    "data_raw_DCD[ind] = 0\n",
    "\n",
    "Oraw_DCD = np.zeros(data_raw_DCD.shape)\n",
    "crecimiento = np.zeros(len(data_raw_DCD) - 1)\n",
    "Oraw_DCD[0] = data_raw_DCD[0]\n",
    "Oraw_DCD[:,0] = new_date[:]\n",
    "\n",
    "for i in range(1,len(data_raw_DCD)):\n",
    "    Oraw_DCD[i,1] = data_raw_DCD[i,1] - data_raw_DCD[i-1,1]\n",
    "    Oraw_DCD[i,2] = data_raw_DCD[i,2] - data_raw_DCD[i-1,2]\n",
    "    crecimiento[i-1] = data_raw_DCD[i,1] / data_raw_DCD[i-1,1]\n",
    "\n",
    "av_crecimiento = np.mean(crecimiento[-10:])\n",
    "av_crecimiento"
   ]
  },
  {
   "cell_type": "code",
   "execution_count": 29,
   "metadata": {},
   "outputs": [
    {
     "data": {
      "text/plain": [
       "Text(0.5, 0, 'Dias')"
      ]
     },
     "execution_count": 29,
     "metadata": {},
     "output_type": "execute_result"
    },
    {
     "data": {
      "image/png": "[encoded data removed]",
      "text/plain": [
       "<Figure size 1080x360 with 2 Axes>"
      ]
     },
     "metadata": {
      "needs_background": "light"
     },
     "output_type": "display_data"
    }
   ],
   "source": [
    "fig, ax = plt.subplots(1, 2, figsize=(15,5))\n",
    "\n",
    "ax[0].plot(Oraw_DCD[:,0], Oraw_DCD[:,2], \"-o\")\n",
    "ax[0].set_title(\"Date_Deaths\")\n",
    "ax[0].set_ylabel('Muertes')\n",
    "ax[0].set_xlabel('Dias')\n",
    "\n",
    "ax[1].plot(Oraw_DCD[:,0], Oraw_DCD[:,1], \"-o\")\n",
    "ax[1].set_title(\"Date_Confirmed\")\n",
    "ax[1].set_ylabel('Contagiados')\n",
    "ax[1].set_xlabel('Dias')"
   ]
  },
  {
   "cell_type": "code",
   "execution_count": 30,
   "metadata": {},
   "outputs": [
    {
     "name": "stdout",
     "output_type": "stream",
     "text": [
      "[  39.         1450.62337662   42.12987013] [  22.22611077 1517.15524156   43.63078582]\n"
     ]
    }
   ],
   "source": [
    "Oraw_DCD, _, _ = Normalizar_Datos(Oraw_DCD)\n",
    "train_set_DCD, test_set_DCD = np.split(Oraw_DCD,mayo_1[0])\n",
    "\n",
    "train_DCD_x, train_DCD_y, test_DCD_x, test_DCD_y = Adapt_sets(train_set_DCD, test_set_DCD)\n",
    "Theta_DCD = np.zeros(train_DCD_x.shape[1])[np.newaxis]"
   ]
  },
  {
   "cell_type": "code",
   "execution_count": 31,
   "metadata": {},
   "outputs": [
    {
     "data": {
      "text/plain": [
       "<matplotlib.collections.PathCollection at 0x281b1559e48>"
      ]
     },
     "execution_count": 31,
     "metadata": {},
     "output_type": "execute_result"
    },
    {
     "data": {
      "image/png": "[encoded data removed]",
      "text/plain": [
       "<Figure size 432x288 with 1 Axes>"
      ]
     },
     "metadata": {
      "needs_background": "light"
     },
     "output_type": "display_data"
    }
   ],
   "source": [
    "newTheta_DCD, costos_DCD = Gradiente_Descendiente(train_DCD_x, train_DCD_y, Theta_DCD, 2500, 0.1)\n",
    "plt.scatter(np.arange(2500), costos_DCD, alpha=0.8, c=\"purple\", s=5)"
   ]
  },
  {
   "cell_type": "code",
   "execution_count": 32,
   "metadata": {},
   "outputs": [
    {
     "data": {
      "text/plain": [
       "Text(0, 0.5, 'Nuevas Muertes')"
      ]
     },
     "execution_count": 32,
     "metadata": {},
     "output_type": "execute_result"
    },
    {
     "data": {
      "image/png": "[encoded data removed]",
      "text/plain": [
       "<Figure size 432x288 with 1 Axes>"
      ]
     },
     "metadata": {
      "needs_background": "light"
     },
     "output_type": "display_data"
    }
   ],
   "source": [
    "DCD_y_test = test_DCD_x.dot(newTheta_DCD.T)\n",
    "\n",
    "plt.plot(Oraw_DCD[:,0], Oraw_DCD[:,-1],'-o')\n",
    "plt.plot(test_DCD_x[:,1], DCD_y_test,'-o')\n",
    "plt.xlabel('Dias')\n",
    "plt.ylabel('Nuevas Muertes')"
   ]
  },
  {
   "cell_type": "markdown",
   "metadata": {},
   "source": [
    "Calculamos los casos nuevos de muertes por día y lo evaluamos con las metricas estandar r2, mean squared error y root mean squared error."
   ]
  },
  {
   "cell_type": "code",
   "execution_count": 36,
   "metadata": {},
   "outputs": [],
   "source": [
    "from sklearn.metrics import mean_squared_error\n",
    "from sklearn.metrics import r2_score\n",
    "from math import sqrt"
   ]
  },
  {
   "cell_type": "code",
   "execution_count": 37,
   "metadata": {},
   "outputs": [
    {
     "name": "stdout",
     "output_type": "stream",
     "text": [
      "r2 score 0.05892219673437182\n",
      "MSE 0.23303861800751144\n",
      "RMSE 0.48274073580702864\n"
     ]
    }
   ],
   "source": [
    "print ('r2 score', r2_score(test_DCD_y, DCD_y_test))\n",
    "print ('MSE', mean_squared_error(test_DCD_y, DCD_y_test))\n",
    "print ('RMSE', sqrt(mean_squared_error(test_DCD_y, DCD_y_test)))"
   ]
  },
  {
   "cell_type": "markdown",
   "metadata": {},
   "source": [
    "Los resultados obtenido bajo este enfoque no son buenos\n",
    "\n",
    "## Total de casos\n",
    "\n",
    "** La variable futuro representa la cantidad de días futuros a los que se predicirá una cantidad de muertes, en este caso se hará una predicción a los proximos 30 días."
   ]
  },
  {
   "cell_type": "code",
   "execution_count": 83,
   "metadata": {},
   "outputs": [],
   "source": [
    "data_raw_DCD = date_confirmed_deaths.values.astype(np.float32)\n",
    "ind = np.where(np.isnan(data_raw_DCD))\n",
    "data_raw_DCD[ind] = 0\n",
    "data_raw_DCD[:,0] = new_date\n",
    "\n",
    "futuro = 30\n",
    "cnt_real = len(data_raw_DCD)"
   ]
  },
  {
   "cell_type": "markdown",
   "metadata": {},
   "source": [
    "Operamos de manera similar que con los primeros conjuntos de datos"
   ]
  },
  {
   "cell_type": "code",
   "execution_count": 84,
   "metadata": {},
   "outputs": [
    {
     "name": "stdout",
     "output_type": "stream",
     "text": [
      "[   39.     26438.014    744.4415] [2.2226110e+01 3.3089445e+04 9.5223883e+02]\n"
     ]
    }
   ],
   "source": [
    "raw_DCD, _, _ = Normalizar_Datos(data_raw_DCD)\n",
    "\n",
    "train_set_DCD, test_set_DCD = np.split(raw_DCD,mayo_1[0])\n",
    "\n",
    "train_DCD_x, train_DCD_y, test_DCD_x, test_DCD_y = Adapt_sets(train_set_DCD, test_set_DCD)\n",
    "Theta_DCD = np.zeros(train_DCD_x.shape[1])[np.newaxis]"
   ]
  },
  {
   "cell_type": "code",
   "execution_count": 85,
   "metadata": {},
   "outputs": [
    {
     "data": {
      "text/plain": [
       "<matplotlib.collections.PathCollection at 0x281b3d7d0f0>"
      ]
     },
     "execution_count": 85,
     "metadata": {},
     "output_type": "execute_result"
    },
    {
     "data": {
      "image/png": "[encoded data removed]",
      "text/plain": [
       "<Figure size 432x288 with 1 Axes>"
      ]
     },
     "metadata": {
      "needs_background": "light"
     },
     "output_type": "display_data"
    }
   ],
   "source": [
    "newTheta_DCD, costos_DCD = Gradiente_Descendiente(train_DCD_x, train_DCD_y, Theta_DCD, 2500, 0.1)\n",
    "plt.scatter(np.arange(2500), costos_DCD, alpha=0.8, c=\"purple\", s=5)"
   ]
  },
  {
   "cell_type": "code",
   "execution_count": 87,
   "metadata": {},
   "outputs": [
    {
     "data": {
      "text/plain": [
       "Text(0.5, 0, 'Dias')"
      ]
     },
     "execution_count": 87,
     "metadata": {},
     "output_type": "execute_result"
    },
    {
     "data": {
      "image/png": "[encoded data removed]",
      "text/plain": [
       "<Figure size 432x288 with 1 Axes>"
      ]
     },
     "metadata": {
      "needs_background": "light"
     },
     "output_type": "display_data"
    }
   ],
   "source": [
    "DCD_y_test = test_DCD_x.dot(newTheta_DCD.T)\n",
    "\n",
    "plt.scatter(test_DCD_x[:,1], test_DCD_y, alpha=0.7, c=\"red\")\n",
    "plt.scatter(test_DCD_x[:,1], DCD_y_test, alpha=0.7, c=\"purple\")\n",
    "plt.plot(train_DCD_x[:,1], train_DCD_y, \"-o\")\n",
    "plt.title(\"Date_Confirmed_Deaths\")\n",
    "plt.ylabel('Muertes')\n",
    "plt.xlabel('Dias')"
   ]
  },
  {
   "cell_type": "code",
   "execution_count": 88,
   "metadata": {},
   "outputs": [
    {
     "name": "stdout",
     "output_type": "stream",
     "text": [
      "r2 score 0.9781488779020928\n",
      "MSE 0.010147105616042451\n",
      "RMSE 0.10073284278745662\n"
     ]
    }
   ],
   "source": [
    "print ('r2 score', r2_score(test_DCD_y, DCD_y_test))\n",
    "print ('MSE', mean_squared_error(test_DCD_y, DCD_y_test))\n",
    "print ('RMSE', sqrt(mean_squared_error(test_DCD_y, DCD_y_test)))"
   ]
  },
  {
   "cell_type": "markdown",
   "metadata": {},
   "source": [
    "Los resultados obtenidos tras evaluar el modelo en el conjunto de prueba nos muestran que es mucho mejor utilizar este enfoque.\n",
    "\n",
    "## Predicción \n",
    "\n",
    "Primero generamos la nueva relación de días, hasta los que queremos predecir"
   ]
  },
  {
   "cell_type": "code",
   "execution_count": 89,
   "metadata": {},
   "outputs": [],
   "source": [
    "new_date = np.arange(cnt_real + futuro)\n",
    "new_date+=1\n",
    "\n",
    "raw_DCD_P = np.empty((cnt_real + futuro,data_raw_DCD.shape[1]))\n",
    "raw_DCD_P[:,0] = new_date"
   ]
  },
  {
   "cell_type": "markdown",
   "metadata": {},
   "source": [
    "- Reiniciamos el conjunto de datos originales\n",
    "- Estimamos la cantidad de contagiados para los próximos días, usando la tasa de crecimiento\n",
    "- unimos la data real con la sintetica en `raw_DCD_P`"
   ]
  },
  {
   "cell_type": "code",
   "execution_count": 92,
   "metadata": {},
   "outputs": [],
   "source": [
    "data_raw_DCD = date_confirmed_deaths.values.astype(np.float32)\n",
    "ind = np.where(np.isnan(data_raw_DCD))\n",
    "data_raw_DCD[ind] = 0\n",
    "\n",
    "future_confirmed = np.empty((futuro,1))\n",
    "future_deaths = np.empty((futuro,1))\n",
    "future_deaths[:] = np.nan\n",
    "\n",
    "future_confirmed[0] = data_raw_DCD[-1,1] * av_crecimiento\n",
    "for i in range(1, futuro):\n",
    "    future_confirmed[i] = future_confirmed[i-1] * av_crecimiento\n",
    "\n",
    "raw_DCD_P[:,0] = new_date\n",
    "raw_DCD_P[:cnt_real,1] = data_raw_DCD[:,1]\n",
    "raw_DCD_P[:cnt_real,2] = data_raw_DCD[:,2]\n",
    "raw_DCD_P[cnt_real:,1] = future_confirmed.T\n",
    "raw_DCD_P[cnt_real:,2] = future_deaths.T"
   ]
  },
  {
   "cell_type": "markdown",
   "metadata": {},
   "source": [
    "Realizamos la divición en 3 conjuntos: entrenamiento, prueba, y predicción\n",
    "Los acuamos para que se puedan usar"
   ]
  },
  {
   "cell_type": "code",
   "execution_count": 93,
   "metadata": {},
   "outputs": [
    {
     "name": "stdout",
     "output_type": "stream",
     "text": [
      "[5.40000000e+01 8.54005480e+04 7.44441558e+02] [3.08868904e+01 1.09151277e+05 9.52238804e+02]\n",
      "(55, 3) (22, 3) (30, 3)\n"
     ]
    }
   ],
   "source": [
    "raw_DCD_P, mean_DCD, std_DCD = Normalizar_Datos(raw_DCD_P)\n",
    "ptr = np.append (mayo_1[0],[cnt_real])\n",
    "train_set_DCD_P, test_set_DCD_P, pred_set_DCD = np.split(raw_DCD_P, ptr)\n",
    "print(train_set_DCD_P.shape, test_set_DCD_P.shape, pred_set_DCD.shape)\n",
    "\n",
    "train_DCDP_x, train_DCDP_y, test_DCDP_x, test_DCDP_y = Adapt_sets(train_set_DCD_P, test_set_DCD_P)\n",
    "# Theta_DCD = np.zeros(train_DCD_x.shape[1])[np.newaxis]\n",
    "\n",
    "pred_DCD_x = pred_set_DCD[:,0:-1]\n",
    "pred_DCD_x = np.insert(pred_DCD_x, 0, 1, axis=1)"
   ]
  },
  {
   "cell_type": "markdown",
   "metadata": {},
   "source": [
    "Realizamos la predicción sobre el conjunto de pruebas de los datos sintéticos\n",
    "Para poder mostrarlo graficamente reescalamos los datos\n",
    "\n",
    "- Para una buena visualización, los resultados de predicción son movidos\n",
    "\n",
    "\n",
    "No se reescalan los dias transcurridos porque ya conocemos que dias son"
   ]
  },
  {
   "cell_type": "code",
   "execution_count": 95,
   "metadata": {},
   "outputs": [
    {
     "data": {
      "text/plain": [
       "<matplotlib.legend.Legend at 0x281b4ed6f98>"
      ]
     },
     "execution_count": 95,
     "metadata": {},
     "output_type": "execute_result"
    },
    {
     "data": {
      "image/png": "[encoded data removed]",
      "text/plain": [
       "<Figure size 432x288 with 1 Axes>"
      ]
     },
     "metadata": {
      "needs_background": "light"
     },
     "output_type": "display_data"
    }
   ],
   "source": [
    "DCD_y_pred = pred_DCD_x.dot(newTheta_DCD.T)\n",
    "\n",
    "dif_x = test_DCD_x[-1,1] - pred_DCD_x[0,1]\n",
    "dif_y = test_DCD_y[-1] - DCD_y_pred[0]\n",
    "\n",
    "pred_DCD_x[:,1] += dif_x\n",
    "DCD_y_pred += dif_y\n",
    "\n",
    "plt.plot(train_DCD_x[:,1], train_DCD_y*std_DCD[2]+mean_DCD[2], \"-o\",label='desde 2020-03-06 hasta 2020-04-30')\n",
    "plt.plot(test_DCD_x[:,1], test_DCD_y*std_DCD[2]+mean_DCD[2],\"-o\",color=\"red\",label='desde 2020-05-01 hasta 2020-05-22')\n",
    "plt.plot(pred_DCD_x[:,1], DCD_y_pred*std_DCD[2]+mean_DCD[2], \"-o\",color=\"purple\",label='desde 2020-05-22 hasta 2020-06-21')\n",
    "\n",
    "plt.title(\"Date_Confirmed_Deaths\")\n",
    "plt.ylabel('Muertes')\n",
    "plt.xlabel('Dias')\n",
    "plt.legend()"
   ]
  },
  {
   "cell_type": "markdown",
   "metadata": {},
   "source": [
    "Ahora solo mostramos las predicciones para los siguientes 30 dias"
   ]
  },
  {
   "cell_type": "code",
   "execution_count": 97,
   "metadata": {},
   "outputs": [
    {
     "data": {
      "text/plain": [
       "array([[3244., 3288., 3333., 3381., 3431., 3483., 3538., 3595., 3655.,\n",
       "        3717., 3782., 3850., 3921., 3995., 4073., 4154., 4239., 4327.,\n",
       "        4420., 4516., 4617., 4723., 4833., 4949., 5069., 5195., 5326.,\n",
       "        5464., 5608., 5758.]])"
      ]
     },
     "execution_count": 97,
     "metadata": {},
     "output_type": "execute_result"
    }
   ],
   "source": [
    "real_pred = np.rint(DCD_y_pred*std_DCD[2]+mean_DCD[2])\n",
    "real_pred.T"
   ]
  },
  {
   "cell_type": "markdown",
   "metadata": {},
   "source": [
    "## Predicción a Arequipa\n",
    "\n",
    "Para obtener un modelo exclusivo de Arequipa, primero seleccionamos las filas que en region sea \"Arequipa\". Estas filas tienen las cifras de la region Areuipa desde 2020-03-13"
   ]
  },
  {
   "cell_type": "code",
   "execution_count": 111,
   "metadata": {},
   "outputs": [
    {
     "data": {
      "text/html": [
       "<div>\n",
       "<style scoped>\n",
       "    .dataframe tbody tr th:only-of-type {\n",
       "        vertical-align: middle;\n",
       "    }\n",
       "\n",
       "    .dataframe tbody tr th {\n",
       "        vertical-align: top;\n",
       "    }\n",
       "\n",
       "    .dataframe thead th {\n",
       "        text-align: right;\n",
       "    }\n",
       "</style>\n",
       "<table border=\"1\" class=\"dataframe\">\n",
       "  <thead>\n",
       "    <tr style=\"text-align: right;\">\n",
       "      <th></th>\n",
       "      <th>date</th>\n",
       "      <th>confirmed</th>\n",
       "      <th>deaths</th>\n",
       "    </tr>\n",
       "  </thead>\n",
       "  <tbody>\n",
       "    <tr>\n",
       "      <th>1088</th>\n",
       "      <td>2020-05-03</td>\n",
       "      <td>692</td>\n",
       "      <td>16.0</td>\n",
       "    </tr>\n",
       "    <tr>\n",
       "      <th>1114</th>\n",
       "      <td>2020-05-04</td>\n",
       "      <td>692</td>\n",
       "      <td>NaN</td>\n",
       "    </tr>\n",
       "    <tr>\n",
       "      <th>1140</th>\n",
       "      <td>2020-05-05</td>\n",
       "      <td>763</td>\n",
       "      <td>18.0</td>\n",
       "    </tr>\n",
       "    <tr>\n",
       "      <th>1166</th>\n",
       "      <td>2020-05-06</td>\n",
       "      <td>790</td>\n",
       "      <td>20.0</td>\n",
       "    </tr>\n",
       "    <tr>\n",
       "      <th>1192</th>\n",
       "      <td>2020-05-07</td>\n",
       "      <td>814</td>\n",
       "      <td>20.0</td>\n",
       "    </tr>\n",
       "    <tr>\n",
       "      <th>1218</th>\n",
       "      <td>2020-05-08</td>\n",
       "      <td>854</td>\n",
       "      <td>20.0</td>\n",
       "    </tr>\n",
       "    <tr>\n",
       "      <th>1244</th>\n",
       "      <td>2020-05-09</td>\n",
       "      <td>904</td>\n",
       "      <td>20.0</td>\n",
       "    </tr>\n",
       "    <tr>\n",
       "      <th>1270</th>\n",
       "      <td>2020-05-10</td>\n",
       "      <td>1046</td>\n",
       "      <td>20.0</td>\n",
       "    </tr>\n",
       "    <tr>\n",
       "      <th>1296</th>\n",
       "      <td>2020-05-11</td>\n",
       "      <td>1061</td>\n",
       "      <td>20.0</td>\n",
       "    </tr>\n",
       "    <tr>\n",
       "      <th>1322</th>\n",
       "      <td>2020-05-12</td>\n",
       "      <td>1208</td>\n",
       "      <td>20.0</td>\n",
       "    </tr>\n",
       "    <tr>\n",
       "      <th>1348</th>\n",
       "      <td>2020-05-13</td>\n",
       "      <td>1301</td>\n",
       "      <td>20.0</td>\n",
       "    </tr>\n",
       "    <tr>\n",
       "      <th>1374</th>\n",
       "      <td>2020-05-14</td>\n",
       "      <td>1393</td>\n",
       "      <td>20.0</td>\n",
       "    </tr>\n",
       "    <tr>\n",
       "      <th>1400</th>\n",
       "      <td>2020-05-15</td>\n",
       "      <td>1558</td>\n",
       "      <td>20.0</td>\n",
       "    </tr>\n",
       "    <tr>\n",
       "      <th>1426</th>\n",
       "      <td>2020-05-16</td>\n",
       "      <td>1709</td>\n",
       "      <td>20.0</td>\n",
       "    </tr>\n",
       "    <tr>\n",
       "      <th>1452</th>\n",
       "      <td>2020-05-17</td>\n",
       "      <td>1839</td>\n",
       "      <td>20.0</td>\n",
       "    </tr>\n",
       "    <tr>\n",
       "      <th>1478</th>\n",
       "      <td>2020-05-18</td>\n",
       "      <td>1929</td>\n",
       "      <td>23.0</td>\n",
       "    </tr>\n",
       "    <tr>\n",
       "      <th>1504</th>\n",
       "      <td>2020-05-19</td>\n",
       "      <td>1967</td>\n",
       "      <td>25.0</td>\n",
       "    </tr>\n",
       "    <tr>\n",
       "      <th>1530</th>\n",
       "      <td>2020-05-20</td>\n",
       "      <td>2072</td>\n",
       "      <td>25.0</td>\n",
       "    </tr>\n",
       "    <tr>\n",
       "      <th>1556</th>\n",
       "      <td>2020-05-21</td>\n",
       "      <td>2176</td>\n",
       "      <td>25.0</td>\n",
       "    </tr>\n",
       "    <tr>\n",
       "      <th>1582</th>\n",
       "      <td>2020-05-22</td>\n",
       "      <td>903</td>\n",
       "      <td>13.0</td>\n",
       "    </tr>\n",
       "  </tbody>\n",
       "</table>\n",
       "</div>"
      ],
      "text/plain": [
       "            date  confirmed  deaths\n",
       "1088  2020-05-03        692    16.0\n",
       "1114  2020-05-04        692     NaN\n",
       "1140  2020-05-05        763    18.0\n",
       "1166  2020-05-06        790    20.0\n",
       "1192  2020-05-07        814    20.0\n",
       "1218  2020-05-08        854    20.0\n",
       "1244  2020-05-09        904    20.0\n",
       "1270  2020-05-10       1046    20.0\n",
       "1296  2020-05-11       1061    20.0\n",
       "1322  2020-05-12       1208    20.0\n",
       "1348  2020-05-13       1301    20.0\n",
       "1374  2020-05-14       1393    20.0\n",
       "1400  2020-05-15       1558    20.0\n",
       "1426  2020-05-16       1709    20.0\n",
       "1452  2020-05-17       1839    20.0\n",
       "1478  2020-05-18       1929    23.0\n",
       "1504  2020-05-19       1967    25.0\n",
       "1530  2020-05-20       2072    25.0\n",
       "1556  2020-05-21       2176    25.0\n",
       "1582  2020-05-22        903    13.0"
      ]
     },
     "execution_count": 111,
     "metadata": {},
     "output_type": "execute_result"
    }
   ],
   "source": [
    "data_aqp = full_data.loc[full_data['region'] == 'Arequipa']\n",
    "data_aqp = data_aqp.drop(['country','iso3c','region','recovered','negative_cases','pcr_positivo','prueba_rapida_positivo','pcr_prapida_positivo'],\n",
    "                     axis=1)\n",
    "data_aqp.tail(20)"
   ]
  },
  {
   "cell_type": "markdown",
   "metadata": {},
   "source": [
    "Los datos de Arequipa son un poco diferentes en algunos registros. Por ello realizamos las siguientes modificaciones:\n",
    "* Notamos que el dia 2020-05-04 no se registro fallecidos, siendo imposible que este valor sea 0, tenemos que cambiar la forma de darle valores a NaN. el Primer `NaN` seguramente es 0, y los posteriores `NaN` seran iguales al valor inmediato anterior.\n",
    "* Notamos que en el ultimo registro los valores son considerablemente menores, siendo que el número de muertes no puede disminuir debemos asumir que se reguistro el número de nuevos casos y no los casos totales. Por ello al ultimo reguistro lo modificamos, como la suma de este con el anterior"
   ]
  },
  {
   "cell_type": "code",
   "execution_count": 155,
   "metadata": {},
   "outputs": [],
   "source": [
    "data_aqp['date'] = pd.to_datetime(data_aqp['date']).dt.strftime(\"%Y%m%d\").astype(int)\n",
    "raw_AQP = data_aqp.values\n",
    "# mayo_1_aqp = np.where(raw_AQP[:,0]==20200501)\n",
    "\n",
    "new_date_AQP = list(range(len(raw_AQP)))\n",
    "raw_AQP[:,0] = new_date_AQP\n",
    "\n",
    "raw_AQP[0,2] = 0\n",
    "for i in range(1,len(raw_AQP)):\n",
    "    if(np.isnan(raw_AQP[i,2])):\n",
    "        raw_AQP[i,2] = raw_AQP[i-1,2]\n",
    "\n",
    "        \n",
    "raw_AQP = raw_AQP.astype(np.float32)\n",
    "raw_AQP[-1,1] = raw_AQP[-2,1] + raw_AQP[-1,1]\n",
    "raw_AQP[-1,2] = raw_AQP[-2,2] + raw_AQP[-1,2]"
   ]
  },
  {
   "cell_type": "code",
   "execution_count": 156,
   "metadata": {},
   "outputs": [
    {
     "data": {
      "text/plain": [
       "Text(0, 0.5, 'Dias')"
      ]
     },
     "execution_count": 156,
     "metadata": {},
     "output_type": "execute_result"
    },
    {
     "data": {
      "image/png": "[encoded data removed]",
      "text/plain": [
       "<Figure size 1296x432 with 2 Axes>"
      ]
     },
     "metadata": {
      "needs_background": "light"
     },
     "output_type": "display_data"
    }
   ],
   "source": [
    "fig, ax = plt.subplots(1, 2, figsize=(18,6))\n",
    "\n",
    "ax[0].plot(raw_AQP[:,0], raw_AQP[:,1], \"-o\")\n",
    "ax[0].set_title(\"Date_Confirmed\")\n",
    "ax[0].set_xlabel('Contagiados')\n",
    "ax[0].set_ylabel('Dias')\n",
    "\n",
    "ax[1].plot(raw_AQP[:,0], raw_AQP[:,2], \"-o\")\n",
    "ax[1].set_title(\"Date_Deaths\")\n",
    "ax[1].set_xlabel('Muertes')\n",
    "ax[1].set_ylabel('Dias')"
   ]
  },
  {
   "cell_type": "markdown",
   "metadata": {},
   "source": [
    "Luego solo debemos proceder de la misma manera que con los previos conjuntos de datos"
   ]
  },
  {
   "cell_type": "code",
   "execution_count": 157,
   "metadata": {},
   "outputs": [
    {
     "name": "stdout",
     "output_type": "stream",
     "text": [
      "[ 35.        494.39438     8.8732395] [ 20.493902 670.3579     8.892043]\n",
      "(49, 3) (22, 3)\n"
     ]
    }
   ],
   "source": [
    "raw_AQP, mean_AQP, std_AQP = Normalizar_Datos(raw_AQP)\n",
    "train_set_AQP, test_set_AQP = np.split(raw_AQP,mayo_1_aqp[0])\n",
    "print(train_set_AQP.shape, test_set_AQP.shape)\n",
    "train_AQP_x, train_AQP_y, test_AQP_x, test_AQP_y = Adapt_sets(train_set_AQP, test_set_AQP)\n",
    "Theta_AQP = np.zeros(train_AQP_x.shape[1])[np.newaxis]"
   ]
  },
  {
   "cell_type": "code",
   "execution_count": 158,
   "metadata": {},
   "outputs": [
    {
     "data": {
      "text/plain": [
       "<matplotlib.collections.PathCollection at 0x281b5fc8dd8>"
      ]
     },
     "execution_count": 158,
     "metadata": {},
     "output_type": "execute_result"
    },
    {
     "data": {
      "image/png": "[encoded data removed]",
      "text/plain": [
       "<Figure size 432x288 with 1 Axes>"
      ]
     },
     "metadata": {
      "needs_background": "light"
     },
     "output_type": "display_data"
    }
   ],
   "source": [
    "newTheta_AQP, costos_AQP = Gradiente_Descendiente(train_AQP_x, train_AQP_y, Theta_AQP, 2500, 0.1)\n",
    "plt.scatter(np.arange(2500), costos_AQP, alpha=0.8, c=\"purple\", s=5)"
   ]
  },
  {
   "cell_type": "code",
   "execution_count": 159,
   "metadata": {},
   "outputs": [
    {
     "data": {
      "text/plain": [
       "Text(0, 0.5, 'Nuevas Muertes')"
      ]
     },
     "execution_count": 159,
     "metadata": {},
     "output_type": "execute_result"
    },
    {
     "data": {
      "image/png": "[encoded data removed]",
      "text/plain": [
       "<Figure size 432x288 with 1 Axes>"
      ]
     },
     "metadata": {
      "needs_background": "light"
     },
     "output_type": "display_data"
    }
   ],
   "source": [
    "AQP_y_test = test_AQP_x.dot(newTheta_AQP.T)\n",
    "\n",
    "plt.plot(raw_AQP[:,0], raw_AQP[:,-1]*std_AQP[2]+mean_AQP[2],'-o')\n",
    "plt.plot(test_AQP_x[:,1], AQP_y_test*std_AQP[2]+mean_AQP[2],'-o')\n",
    "plt.xlabel('Dias')\n",
    "plt.ylabel('Nuevas Muertes')"
   ]
  },
  {
   "cell_type": "markdown",
   "metadata": {},
   "source": [
    "Luego de evaluar los resultados con las mismas métricas vemos que el modelo no es bueno.\n",
    "\n",
    "Viendo la grafica anterior, notamos que los datos no son muy del todo continuos y presentan irregularidades."
   ]
  },
  {
   "cell_type": "code",
   "execution_count": 160,
   "metadata": {},
   "outputs": [
    {
     "name": "stdout",
     "output_type": "stream",
     "text": [
      "r2 score -0.18452374336792543\n",
      "MSE 0.3631653369131425\n",
      "RMSE 0.6026320078730821\n"
     ]
    }
   ],
   "source": [
    "print ('r2 score', r2_score(test_AQP_y, AQP_y_test))\n",
    "print ('MSE', mean_squared_error(test_AQP_y, AQP_y_test))\n",
    "print ('RMSE', sqrt(mean_squared_error(test_AQP_y, AQP_y_test)))"
   ]
  },
  {
   "cell_type": "markdown",
   "metadata": {},
   "source": [
    "Luego de obtener el modelo de predicción para arequipa, hacemos lo mismo que para predecir en Perú. Calcular los datos sintéticos para los próximos 20 días. Se opto por menos datos ya que el modelo no es muy bueno."
   ]
  },
  {
   "cell_type": "code",
   "execution_count": 161,
   "metadata": {},
   "outputs": [],
   "source": [
    "raw_AQP = data_aqp.values.astype(np.float32)\n",
    "futuro_AQP = 20\n",
    "cnt_real_AQP = len(raw_AQP)\n",
    "\n",
    "new_date_AQP = np.arange(cnt_real_AQP + futuro_AQP)\n",
    "new_date_AQP+=1\n",
    "\n",
    "raw_AQP_P = np.empty((cnt_real_AQP + futuro_AQP, raw_AQP.shape[1]))\n",
    "raw_AQP_P[:,0] = new_date_AQP\n",
    "raw_AQP = raw_AQP.astype(np.float32)\n",
    "raw_AQP[-1,1] = raw_AQP[-2,1] + raw_AQP[-1,1]\n",
    "raw_AQP[-1,2] = raw_AQP[-2,2] + raw_AQP[-1,2]"
   ]
  },
  {
   "cell_type": "code",
   "execution_count": 162,
   "metadata": {},
   "outputs": [
    {
     "data": {
      "text/plain": [
       "1.1026332378387451"
      ]
     },
     "execution_count": 162,
     "metadata": {},
     "output_type": "execute_result"
    }
   ],
   "source": [
    "crecimiento_AQP = np.empty(len(raw_AQP)-1)\n",
    "for i in range(1,len(raw_AQP)):\n",
    "    crecimiento_AQP[i-1] = raw_AQP[i,1] / raw_AQP[i-1,1]\n",
    "av_crecimiento_AQP = np.mean(crecimiento_AQP[-10:])\n",
    "av_crecimiento_AQP"
   ]
  },
  {
   "cell_type": "code",
   "execution_count": 163,
   "metadata": {},
   "outputs": [
    {
     "name": "stdout",
     "output_type": "stream",
     "text": [
      "(91, 3)\n"
     ]
    }
   ],
   "source": [
    "raw_AQP[0,2] = 0\n",
    "for i in range(1,len(raw_AQP)):\n",
    "    if(np.isnan(raw_AQP[i,2])):\n",
    "        raw_AQP[i,2] = raw_AQP[i-1,2]\n",
    "\n",
    "AQP_future_confirmed = np.empty((futuro_AQP,1))\n",
    "AQP_future_deaths = np.empty((futuro_AQP,1))\n",
    "AQP_future_deaths[:] = np.nan\n",
    "\n",
    "AQP_future_confirmed[0] = raw_AQP[-1,1] * av_crecimiento_AQP\n",
    "for i in range(1, futuro_AQP):\n",
    "    AQP_future_confirmed[i] = AQP_future_confirmed[i-1] * av_crecimiento_AQP\n",
    "\n",
    "print (raw_AQP_P.shape)\n",
    "\n",
    "raw_AQP_P[:,0] = new_date_AQP\n",
    "raw_AQP_P[:cnt_real_AQP,1] = raw_AQP[:,1]\n",
    "raw_AQP_P[:cnt_real_AQP,2] = raw_AQP[:,2]\n",
    "raw_AQP_P[cnt_real_AQP:,1] = AQP_future_confirmed.T\n",
    "raw_AQP_P[cnt_real_AQP:,2] = AQP_future_deaths.T"
   ]
  },
  {
   "cell_type": "code",
   "execution_count": 164,
   "metadata": {},
   "outputs": [
    {
     "name": "stdout",
     "output_type": "stream",
     "text": [
      "[  46.         2587.49962806    8.87323944] [  26.26785107 4742.30247977    8.89204357]\n",
      "(55, 3) (16, 3) (20, 3)\n"
     ]
    }
   ],
   "source": [
    "raw_AQP_P, mean_AQP, std_AQP = Normalizar_Datos(raw_AQP_P)\n",
    "ptr = np.append (mayo_1[0],[cnt_real_AQP])\n",
    "train_set_AQP_P, test_set_AQP_P, pred_set_AQP = np.split(raw_AQP_P, ptr)\n",
    "print(train_set_AQP_P.shape, test_set_AQP_P.shape, pred_set_AQP.shape)\n",
    "\n",
    "train_AQP_x, train_AQP_y, test_AQP_x, test_AQP_y = Adapt_sets(train_set_AQP_P, test_set_AQP_P)\n",
    "# Theta_DCD = np.zeros(train_DCD_x.shape[1])[np.newaxis]\n",
    "\n",
    "pred_AQP_x = pred_set_AQP[:,0:-1]\n",
    "pred_AQP_x = np.insert(pred_AQP_x, 0, 1, axis=1)"
   ]
  },
  {
   "cell_type": "code",
   "execution_count": 165,
   "metadata": {},
   "outputs": [
    {
     "data": {
      "text/plain": [
       "<matplotlib.legend.Legend at 0x281b6089b38>"
      ]
     },
     "execution_count": 165,
     "metadata": {},
     "output_type": "execute_result"
    },
    {
     "data": {
      "image/png": "[encoded data removed]",
      "text/plain": [
       "<Figure size 432x288 with 1 Axes>"
      ]
     },
     "metadata": {
      "needs_background": "light"
     },
     "output_type": "display_data"
    }
   ],
   "source": [
    "AQP_y_pred = pred_AQP_x.dot(newTheta_AQP.T)\n",
    "\n",
    "dif_x = test_AQP_x[-1,1] - pred_AQP_x[0,1]\n",
    "dif_y = test_AQP_y[-1] - AQP_y_pred[0]\n",
    "\n",
    "pred_AQP_x[:,1] += dif_x\n",
    "AQP_y_pred += dif_y\n",
    "\n",
    "plt.plot(train_AQP_x[:,1], train_AQP_y*std_AQP[2]+mean_AQP[2], \"-o\",label='desde 2020-03-13 hasta 2020-04-30')\n",
    "plt.plot(test_AQP_x[:,1], test_AQP_y*std_AQP[2]+mean_AQP[2],\"-o\",color=\"red\",label='desde 2020-05-01 hasta 2020-05-22')\n",
    "plt.plot(pred_AQP_x[:,1], AQP_y_pred*std_AQP[2]+mean_AQP[2], \"-o\",color=\"purple\",label='desde 2020-05-22 hasta 2020-06-21')\n",
    "\n",
    "plt.title(\"Date_Confirmed_Deaths\")\n",
    "plt.ylabel('Muertes')\n",
    "plt.xlabel('Dias')\n",
    "plt.legend()"
   ]
  },
  {
   "cell_type": "markdown",
   "metadata": {},
   "source": [
    "A continuación se muestra las predicciones obtenidas para los próximos 20 días. En la gráfica anterior se muestran los resultados y vemos que muy posiblemente el modelo falle considerablemente"
   ]
  },
  {
   "cell_type": "code",
   "execution_count": 152,
   "metadata": {},
   "outputs": [
    {
     "data": {
      "text/plain": [
       "array([[38., 39., 39., 40., 41., 42., 43., 44., 46., 47., 49., 50., 52.,\n",
       "        54., 56., 59., 62., 64., 68., 71.]])"
      ]
     },
     "execution_count": 152,
     "metadata": {},
     "output_type": "execute_result"
    }
   ],
   "source": [
    "real_pred_AQP = np.rint(AQP_y_pred*std_AQP[2]+mean_AQP[2])\n",
    "real_pred_AQP.T"
   ]
  }
 ],
 "metadata": {
  "kernelspec": {
   "display_name": "Python 3",
   "language": "python",
   "name": "python3"
  },
  "language_info": {
   "codemirror_mode": {
    "name": "ipython",
    "version": 3
   },
   "file_extension": ".py",
   "mimetype": "text/x-python",
   "name": "python",
   "nbconvert_exporter": "python",
   "pygments_lexer": "ipython3",
   "version": "3.7.3"
  }
 },
 "nbformat": 4,
 "nbformat_minor": 2
}
