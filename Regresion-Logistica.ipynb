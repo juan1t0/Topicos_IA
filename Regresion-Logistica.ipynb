{
 "cells": [
  {
   "cell_type": "code",
   "execution_count": 2,
   "metadata": {},
   "outputs": [],
   "source": [
    "import numpy as np\n",
    "import matplotlib.pyplot as plt\n",
    "import pandas as pd"
   ]
  },
  {
   "cell_type": "code",
   "execution_count": 3,
   "metadata": {},
   "outputs": [],
   "source": [
    "def Create_folds(data, k=3):\n",
    "    Group_1 , Group_2 = np.split(data, np.where(np.diff(data[:,-1]))[0]+1)\n",
    "    res = list()\n",
    "    Parts_1 = np.array_split(Group_1, k)\n",
    "    Parts_2 = np.array_split(Group_2, k)\n",
    "    for i in range(k):\n",
    "        temp = np.concatenate((Parts_1[i],Parts_2[i]))\n",
    "        np.random.shuffle(temp)\n",
    "        res.append(temp)\n",
    "    return res\n",
    "\n",
    "def Normalizar_Datos( arraynp ):\n",
    "    last = np.array(arraynp[:,-1])\n",
    "    mean = np.mean(arraynp,0)\n",
    "    standard = np.std(arraynp,0)\n",
    "    for i in range(0,arraynp.shape[0]):\n",
    "        arraynp[i] = np.true_divide((arraynp[i] - mean), standard)\n",
    "    arraynp[:,-1] = last[:]\n",
    "    return arraynp\n",
    "\n",
    "def Leer_Datos( name, delmt = '\\t',head = None, col=\"\"):\n",
    "    data = pd.read_csv(name,delimiter = delmt, header = head, dtype = np.float64)\n",
    "    data = data.sort_values(by=[col])\n",
    "    return Normalizar_Datos(data.values)\n",
    "\n",
    "def Leer_Datos_num(name, delmt = '\\t',head = None):\n",
    "    data = pd.read_csv(name,delimiter = delmt, header = head, dtype = np.float64)\n",
    "    return data.values"
   ]
  },
  {
   "cell_type": "code",
   "execution_count": 56,
   "metadata": {},
   "outputs": [],
   "source": [
    "def Get_Train_Test(folds, tt, k=3):\n",
    "    train = np.array([])\n",
    "    test = np.array([])\n",
    "    for i in range(k):\n",
    "        if i in tt:\n",
    "            if len(test) == 0:\n",
    "                test = folds[i]\n",
    "            else:\n",
    "                test = np.concatenate((test,folds[i]))\n",
    "        else:\n",
    "            if len(train) == 0:\n",
    "                train = folds[i]\n",
    "            else:\n",
    "                train = np.concatenate((train,folds[i]))\n",
    "    return train, test\n",
    "\n",
    "def Save_Folds(folds, name,file='/',delt='\\t'):\n",
    "    for i in range(len(folds)):\n",
    "        tname = file + name + '_' + str(i+1) + '.csv'\n",
    "        np.savetxt(tname, folds[i], delimiter='\\t')\n",
    "        \n",
    "def Get_Folds(name, delmt='\\t', k=3):\n",
    "    name = 'folds/' + name + '_'\n",
    "    folds = list()\n",
    "    for i in range(k):\n",
    "        dt = Leer_Datos_num(name+str(i+1)+'.csv', delmt=delmt)\n",
    "        folds.append(dt)\n",
    "    return folds"
   ]
  },
  {
   "cell_type": "code",
   "execution_count": 57,
   "metadata": {},
   "outputs": [
    {
     "name": "stdout",
     "output_type": "stream",
     "text": [
      "diabetes (257, 9) (256, 9) (255, 9)\n",
      "Enfermedad_Cardiaca (101, 14) (101, 14) (101, 14)\n"
     ]
    }
   ],
   "source": [
    "folds_D = Create_folds(Leer_Datos(\"Conjuntos_raw/diabetes.csv\",delmt='\\t',head=0,col='Outcome'))\n",
    "folds_C = Create_folds(Leer_Datos(\"Conjuntos_raw/Enfermedad_Cardiaca.csv\",delmt='\\t',head=0,col='target'))\n",
    "print('diabetes', folds_D[0].shape, folds_D[1].shape, folds_D[2].shape)\n",
    "print('Enfermedad_Cardiaca', folds_C[0].shape, folds_C[1].shape, folds_C[2].shape)\n",
    "\n",
    "Save_Folds(folds_C,'Enfermedad_Cardiaca','folds/')\n",
    "Save_Folds(folds_D,'Diabetes','folds/')"
   ]
  },
  {
   "cell_type": "code",
   "execution_count": 19,
   "metadata": {},
   "outputs": [],
   "source": [
    "def Sigmoidal(X,Theta):\n",
    "    h = X.dot(Theta.T)\n",
    "    z = 1/(1 + np.exp(-h))\n",
    "    return z\n",
    "\n",
    "def Calcular_Costo(X, Y, Theta):\n",
    "    m = len(X)\n",
    "    h = Sigmoidal(X,Theta)\n",
    "    a = np.log(h) * Y\n",
    "    b = np.log(1-h) * (1-Y)\n",
    "    cost = np.sum(a + b)*(-1/ m)\n",
    "    return cost\n",
    "\n",
    "def Gradiente_Descendiente(X, Y, Theta, iteraciones, tasa):\n",
    "    costos = [0]*iteraciones\n",
    "    m = len(X)\n",
    "    for itr in range(iteraciones):\n",
    "        h = Sigmoidal(X,Theta)\n",
    "        dif = h - Y\n",
    "        derivada = (X.T).dot(dif) / m\n",
    "        Theta = Theta - (tasa * derivada).T\n",
    "        costos[itr] = Calcular_Costo(X, Y, Theta)\n",
    "    return Theta, costos"
   ]
  },
  {
   "cell_type": "code",
   "execution_count": 10,
   "metadata": {},
   "outputs": [],
   "source": [
    "def Calcular_Accuracy(X, Y, Theta):\n",
    "    y_predict = Sigmoidal(X, Theta).round()#np.rint(Sigmoidal(X, Theta))\n",
    "    count = 0\n",
    "    for v in (Y-y_predict):\n",
    "        if(v == 0):\n",
    "            count = count + 1\n",
    "    return (count/len(Y)) * 100"
   ]
  },
  {
   "cell_type": "code",
   "execution_count": 33,
   "metadata": {},
   "outputs": [],
   "source": [
    "def Adapt_sets(test_set, train_set):\n",
    "    test_y = test_set[:,-1:]\n",
    "    test_x = test_set[:,0:-1]\n",
    "    train_y = train_set[:,-1:]\n",
    "    train_x = train_set[:,0:-1]\n",
    "    \n",
    "    train_x = np.insert(train_x, 0, 1, axis=1)\n",
    "    test_x = np.insert(test_x, 0, 1, axis=1)\n",
    "    \n",
    "    return train_x, train_y, test_x, test_y"
   ]
  },
  {
   "cell_type": "code",
   "execution_count": 8,
   "metadata": {},
   "outputs": [],
   "source": [
    "D_folds = Get_Folds('Diabetes')\n",
    "C_folds = Get_Folds('Enfermedad_Cardiaca')"
   ]
  },
  {
   "cell_type": "code",
   "execution_count": 53,
   "metadata": {},
   "outputs": [
    {
     "name": "stdout",
     "output_type": "stream",
     "text": [
      "mayor MSE con: 0.01 3000\n"
     ]
    },
    {
     "data": {
      "text/html": [
       "<div>\n",
       "<style scoped>\n",
       "    .dataframe tbody tr th:only-of-type {\n",
       "        vertical-align: middle;\n",
       "    }\n",
       "\n",
       "    .dataframe tbody tr th {\n",
       "        vertical-align: top;\n",
       "    }\n",
       "\n",
       "    .dataframe thead th {\n",
       "        text-align: right;\n",
       "    }\n",
       "</style>\n",
       "<table border=\"1\" class=\"dataframe\">\n",
       "  <thead>\n",
       "    <tr style=\"text-align: right;\">\n",
       "      <th></th>\n",
       "      <th>500</th>\n",
       "      <th>1000</th>\n",
       "      <th>1500</th>\n",
       "      <th>2000</th>\n",
       "      <th>2500</th>\n",
       "      <th>3000</th>\n",
       "      <th>3500</th>\n",
       "    </tr>\n",
       "  </thead>\n",
       "  <tbody>\n",
       "    <tr>\n",
       "      <th>0.01</th>\n",
       "      <td>76.162477</td>\n",
       "      <td>76.031758</td>\n",
       "      <td>76.683314</td>\n",
       "      <td>77.204654</td>\n",
       "      <td>77.073936</td>\n",
       "      <td>77.333846</td>\n",
       "      <td>77.204144</td>\n",
       "    </tr>\n",
       "    <tr>\n",
       "      <th>0.05</th>\n",
       "      <td>77.204144</td>\n",
       "      <td>77.205161</td>\n",
       "      <td>77.074953</td>\n",
       "      <td>77.205672</td>\n",
       "      <td>77.205672</td>\n",
       "      <td>77.205672</td>\n",
       "      <td>77.205672</td>\n",
       "    </tr>\n",
       "    <tr>\n",
       "      <th>0.10</th>\n",
       "      <td>77.205161</td>\n",
       "      <td>77.205672</td>\n",
       "      <td>77.205672</td>\n",
       "      <td>77.205672</td>\n",
       "      <td>77.205672</td>\n",
       "      <td>77.205672</td>\n",
       "      <td>77.205672</td>\n",
       "    </tr>\n",
       "    <tr>\n",
       "      <th>0.20</th>\n",
       "      <td>77.205672</td>\n",
       "      <td>77.205672</td>\n",
       "      <td>77.205672</td>\n",
       "      <td>77.205672</td>\n",
       "      <td>77.205672</td>\n",
       "      <td>77.205672</td>\n",
       "      <td>77.205672</td>\n",
       "    </tr>\n",
       "    <tr>\n",
       "      <th>0.30</th>\n",
       "      <td>77.205672</td>\n",
       "      <td>77.205672</td>\n",
       "      <td>77.205672</td>\n",
       "      <td>77.205672</td>\n",
       "      <td>77.205672</td>\n",
       "      <td>77.205672</td>\n",
       "      <td>77.205672</td>\n",
       "    </tr>\n",
       "    <tr>\n",
       "      <th>0.40</th>\n",
       "      <td>77.205672</td>\n",
       "      <td>77.205672</td>\n",
       "      <td>77.205672</td>\n",
       "      <td>77.205672</td>\n",
       "      <td>77.205672</td>\n",
       "      <td>77.205672</td>\n",
       "      <td>77.205672</td>\n",
       "    </tr>\n",
       "  </tbody>\n",
       "</table>\n",
       "</div>"
      ],
      "text/plain": [
       "           500        1000       1500       2000       2500       3000  \\\n",
       "0.01  76.162477  76.031758  76.683314  77.204654  77.073936  77.333846   \n",
       "0.05  77.204144  77.205161  77.074953  77.205672  77.205672  77.205672   \n",
       "0.10  77.205161  77.205672  77.205672  77.205672  77.205672  77.205672   \n",
       "0.20  77.205672  77.205672  77.205672  77.205672  77.205672  77.205672   \n",
       "0.30  77.205672  77.205672  77.205672  77.205672  77.205672  77.205672   \n",
       "0.40  77.205672  77.205672  77.205672  77.205672  77.205672  77.205672   \n",
       "\n",
       "           3500  \n",
       "0.01  77.204144  \n",
       "0.05  77.205672  \n",
       "0.10  77.205672  \n",
       "0.20  77.205672  \n",
       "0.30  77.205672  \n",
       "0.40  77.205672  "
      ]
     },
     "execution_count": 53,
     "metadata": {},
     "output_type": "execute_result"
    }
   ],
   "source": [
    "iteraciones = [500, 1000, 1500, 2000, 2500, 3000, 3500]\n",
    "tasa_aprendizaje = [0.01, 0.05, 0.1, 0.2, 0.3, 0.4]\n",
    "K = 3\n",
    "\n",
    "matrix_ac = np.random.rand(len(tasa_aprendizaje),len(iteraciones),3)\n",
    "parametros = (0,0)\n",
    "for k in range(K):\n",
    "    D_train, D_test = Get_Train_Test(D_folds,[k])\n",
    "    D_train_x, D_train_y, D_test_x, D_test_y = Adapt_sets(D_test,D_train)\n",
    "    D_Theta = np.zeros(D_train_x.shape[1])[np.newaxis]\n",
    "    \n",
    "    for ta in  range(len(tasa_aprendizaje)):\n",
    "        for itr in range(len(iteraciones)):\n",
    "            cur_Theta, _ = Gradiente_Descendiente(D_train_x, D_train_y, D_Theta, iteraciones[itr], tasa_aprendizaje[ta])\n",
    "            matrix_ac[ta,itr,k] = Calcular_Accuracy(D_test_x, D_test_y, cur_Theta)\n",
    "\n",
    "matrix_ac = np.mean(matrix_ac,axis=2)\n",
    "for ta in  range(len(tasa_aprendizaje)):\n",
    "    for itr in range(len(iteraciones)):\n",
    "        if(matrix_ac[ta,itr] > matrix_ac[parametros[0],parametros[1]]):\n",
    "            parametros = (ta, itr)\n",
    "\n",
    "df1 = pd.DataFrame(data = matrix_ac, index= tasa_aprendizaje, columns = iteraciones)\n",
    "print(\"mayor MSE con:\",tasa_aprendizaje[parametros[0]],iteraciones[parametros[1]])\n",
    "df1"
   ]
  },
  {
   "cell_type": "code",
   "execution_count": 55,
   "metadata": {},
   "outputs": [
    {
     "data": {
      "text/plain": [
       "Text(0, 0.5, 'Costo')"
      ]
     },
     "execution_count": 55,
     "metadata": {},
     "output_type": "execute_result"
    },
    {
     "data": {
      "image/png": "[encoded data removed]",
      "text/plain": [
       "<Figure size 432x288 with 1 Axes>"
      ]
     },
     "metadata": {
      "needs_background": "light"
     },
     "output_type": "display_data"
    }
   ],
   "source": [
    "_, costos = Gradiente_Descendiente(D_train_x, D_train_y, D_Theta, iteraciones[parametros[1]], tasa_aprendizaje[parametros[0]])\n",
    "plt.scatter(np.arange(iteraciones[parametros[1]]),costos,alpha=0.2, c=\"purple\", s=2)\n",
    "plt.xlabel('Iteracion')\n",
    "plt.ylabel('Costo')"
   ]
  },
  {
   "cell_type": "code",
   "execution_count": 47,
   "metadata": {},
   "outputs": [
    {
     "name": "stdout",
     "output_type": "stream",
     "text": [
      "mayor MSE con: 0.01 2000\n"
     ]
    },
    {
     "data": {
      "text/html": [
       "<div>\n",
       "<style scoped>\n",
       "    .dataframe tbody tr th:only-of-type {\n",
       "        vertical-align: middle;\n",
       "    }\n",
       "\n",
       "    .dataframe tbody tr th {\n",
       "        vertical-align: top;\n",
       "    }\n",
       "\n",
       "    .dataframe thead th {\n",
       "        text-align: right;\n",
       "    }\n",
       "</style>\n",
       "<table border=\"1\" class=\"dataframe\">\n",
       "  <thead>\n",
       "    <tr style=\"text-align: right;\">\n",
       "      <th></th>\n",
       "      <th>500</th>\n",
       "      <th>1000</th>\n",
       "      <th>1500</th>\n",
       "      <th>2000</th>\n",
       "      <th>2500</th>\n",
       "      <th>3000</th>\n",
       "      <th>3500</th>\n",
       "    </tr>\n",
       "  </thead>\n",
       "  <tbody>\n",
       "    <tr>\n",
       "      <th>0.01</th>\n",
       "      <td>83.498350</td>\n",
       "      <td>82.838284</td>\n",
       "      <td>83.168317</td>\n",
       "      <td>84.158416</td>\n",
       "      <td>84.158416</td>\n",
       "      <td>83.828383</td>\n",
       "      <td>83.828383</td>\n",
       "    </tr>\n",
       "    <tr>\n",
       "      <th>0.05</th>\n",
       "      <td>84.158416</td>\n",
       "      <td>83.828383</td>\n",
       "      <td>83.828383</td>\n",
       "      <td>83.828383</td>\n",
       "      <td>83.828383</td>\n",
       "      <td>83.828383</td>\n",
       "      <td>83.828383</td>\n",
       "    </tr>\n",
       "    <tr>\n",
       "      <th>0.10</th>\n",
       "      <td>83.828383</td>\n",
       "      <td>83.828383</td>\n",
       "      <td>83.828383</td>\n",
       "      <td>83.828383</td>\n",
       "      <td>83.828383</td>\n",
       "      <td>83.828383</td>\n",
       "      <td>83.828383</td>\n",
       "    </tr>\n",
       "    <tr>\n",
       "      <th>0.20</th>\n",
       "      <td>83.828383</td>\n",
       "      <td>83.828383</td>\n",
       "      <td>83.828383</td>\n",
       "      <td>83.828383</td>\n",
       "      <td>83.828383</td>\n",
       "      <td>83.828383</td>\n",
       "      <td>83.828383</td>\n",
       "    </tr>\n",
       "    <tr>\n",
       "      <th>0.30</th>\n",
       "      <td>83.828383</td>\n",
       "      <td>83.828383</td>\n",
       "      <td>83.828383</td>\n",
       "      <td>83.828383</td>\n",
       "      <td>83.828383</td>\n",
       "      <td>83.828383</td>\n",
       "      <td>83.828383</td>\n",
       "    </tr>\n",
       "    <tr>\n",
       "      <th>0.40</th>\n",
       "      <td>83.828383</td>\n",
       "      <td>83.828383</td>\n",
       "      <td>83.828383</td>\n",
       "      <td>83.828383</td>\n",
       "      <td>83.828383</td>\n",
       "      <td>83.828383</td>\n",
       "      <td>83.828383</td>\n",
       "    </tr>\n",
       "  </tbody>\n",
       "</table>\n",
       "</div>"
      ],
      "text/plain": [
       "           500        1000       1500       2000       2500       3000  \\\n",
       "0.01  83.498350  82.838284  83.168317  84.158416  84.158416  83.828383   \n",
       "0.05  84.158416  83.828383  83.828383  83.828383  83.828383  83.828383   \n",
       "0.10  83.828383  83.828383  83.828383  83.828383  83.828383  83.828383   \n",
       "0.20  83.828383  83.828383  83.828383  83.828383  83.828383  83.828383   \n",
       "0.30  83.828383  83.828383  83.828383  83.828383  83.828383  83.828383   \n",
       "0.40  83.828383  83.828383  83.828383  83.828383  83.828383  83.828383   \n",
       "\n",
       "           3500  \n",
       "0.01  83.828383  \n",
       "0.05  83.828383  \n",
       "0.10  83.828383  \n",
       "0.20  83.828383  \n",
       "0.30  83.828383  \n",
       "0.40  83.828383  "
      ]
     },
     "execution_count": 47,
     "metadata": {},
     "output_type": "execute_result"
    }
   ],
   "source": [
    "matrix_ac = np.random.rand(len(tasa_aprendizaje),len(iteraciones),3)\n",
    "parametros = (0,0)\n",
    "for k in range(K):\n",
    "    C_train, C_test = Get_Train_Test(C_folds,[k])\n",
    "    C_train_x, C_train_y, C_test_x, C_test_y = Adapt_sets(C_test,C_train)\n",
    "    C_Theta = np.zeros(C_train_x.shape[1])[np.newaxis]\n",
    "    \n",
    "    for ta in  range(len(tasa_aprendizaje)):\n",
    "        for itr in range(len(iteraciones)):\n",
    "            cur_Theta, _ = Gradiente_Descendiente(C_train_x, C_train_y, C_Theta, iteraciones[itr], tasa_aprendizaje[ta])\n",
    "            matrix_ac[ta,itr,k] = Calcular_Accuracy(C_test_x, C_test_y, cur_Theta)\n",
    "\n",
    "matrix_ac = np.mean(matrix_ac,axis=2)\n",
    "for ta in  range(len(tasa_aprendizaje)):\n",
    "    for itr in range(len(iteraciones)):\n",
    "        if(matrix_ac[ta,itr] > matrix_ac[parametros[0],parametros[1]]):\n",
    "            parametros = (ta, itr)\n",
    "\n",
    "df2 = pd.DataFrame(data = matrix_ac, index= tasa_aprendizaje, columns = iteraciones)\n",
    "print(\"mayor MSE con:\",tasa_aprendizaje[parametros[0]],iteraciones[parametros[1]])\n",
    "df2"
   ]
  },
  {
   "cell_type": "code",
   "execution_count": 50,
   "metadata": {},
   "outputs": [
    {
     "data": {
      "text/plain": [
       "Text(0, 0.5, 'Costo')"
      ]
     },
     "execution_count": 50,
     "metadata": {},
     "output_type": "execute_result"
    },
    {
     "data": {
      "image/png": "[encoded data removed]",
      "text/plain": [
       "<Figure size 432x288 with 1 Axes>"
      ]
     },
     "metadata": {
      "needs_background": "light"
     },
     "output_type": "display_data"
    }
   ],
   "source": [
    "_, costos = Gradiente_Descendiente(C_train_x, C_train_y, C_Theta, iteraciones[parametros[1]], tasa_aprendizaje[parametros[0]])\n",
    "plt.scatter(np.arange(iteraciones[parametros[1]]),costos,alpha=0.2, c=\"purple\", s=2)\n",
    "plt.xlabel('Iteracion')\n",
    "plt.ylabel('Costo')"
   ]
  }
 ],
 "metadata": {
  "kernelspec": {
   "display_name": "Python 3",
   "language": "python",
   "name": "python3"
  },
  "language_info": {
   "codemirror_mode": {
    "name": "ipython",
    "version": 3
   },
   "file_extension": ".py",
   "mimetype": "text/x-python",
   "name": "python",
   "nbconvert_exporter": "python",
   "pygments_lexer": "ipython3",
   "version": "3.7.3"
  }
 },
 "nbformat": 4,
 "nbformat_minor": 2
}
