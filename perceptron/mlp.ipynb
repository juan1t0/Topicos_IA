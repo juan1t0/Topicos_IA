{
 "cells": [
  {
   "cell_type": "markdown",
   "metadata": {},
   "source": [
    "# Multi-layer Perceptron"
   ]
  },
  {
   "cell_type": "code",
   "execution_count": 1,
   "metadata": {},
   "outputs": [],
   "source": [
    "import numpy as np\n",
    "import pandas as pd\n",
    "import matplotlib.pyplot as plt"
   ]
  },
  {
   "cell_type": "code",
   "execution_count": 34,
   "metadata": {},
   "outputs": [],
   "source": [
    "def Generar_train_test_sets():\n",
    "    train = np.array([])\n",
    "    test = np.array([])\n",
    "    for i in range(k):\n",
    "        if i in tt:\n",
    "            if len(test) == 0:\n",
    "                test = folds[i]\n",
    "            else:\n",
    "                test = np.concatenate((test,folds[i]))\n",
    "        else:\n",
    "            if len(train) == 0:\n",
    "                train = folds[i]\n",
    "            else:\n",
    "                train = np.concatenate((train,folds[i]))\n",
    "    return train, test"
   ]
  },
  {
   "cell_type": "code",
   "execution_count": 86,
   "metadata": {},
   "outputs": [
    {
     "data": {
      "text/html": [
       "<div>\n",
       "<style scoped>\n",
       "    .dataframe tbody tr th:only-of-type {\n",
       "        vertical-align: middle;\n",
       "    }\n",
       "\n",
       "    .dataframe tbody tr th {\n",
       "        vertical-align: top;\n",
       "    }\n",
       "\n",
       "    .dataframe thead th {\n",
       "        text-align: right;\n",
       "    }\n",
       "</style>\n",
       "<table border=\"1\" class=\"dataframe\">\n",
       "  <thead>\n",
       "    <tr style=\"text-align: right;\">\n",
       "      <th></th>\n",
       "      <th>age</th>\n",
       "      <th>sex</th>\n",
       "      <th>cp</th>\n",
       "      <th>trestbps</th>\n",
       "      <th>chol</th>\n",
       "      <th>fbs</th>\n",
       "      <th>restecg</th>\n",
       "      <th>thalach</th>\n",
       "      <th>exang</th>\n",
       "      <th>oldpeak</th>\n",
       "      <th>slope</th>\n",
       "      <th>ca</th>\n",
       "      <th>thal</th>\n",
       "      <th>target</th>\n",
       "    </tr>\n",
       "  </thead>\n",
       "  <tbody>\n",
       "    <tr>\n",
       "      <th>0</th>\n",
       "      <td>63</td>\n",
       "      <td>1</td>\n",
       "      <td>3</td>\n",
       "      <td>145</td>\n",
       "      <td>233</td>\n",
       "      <td>1</td>\n",
       "      <td>0</td>\n",
       "      <td>150</td>\n",
       "      <td>0</td>\n",
       "      <td>2.3</td>\n",
       "      <td>0</td>\n",
       "      <td>0</td>\n",
       "      <td>1</td>\n",
       "      <td>1</td>\n",
       "    </tr>\n",
       "    <tr>\n",
       "      <th>1</th>\n",
       "      <td>37</td>\n",
       "      <td>1</td>\n",
       "      <td>2</td>\n",
       "      <td>130</td>\n",
       "      <td>250</td>\n",
       "      <td>0</td>\n",
       "      <td>1</td>\n",
       "      <td>187</td>\n",
       "      <td>0</td>\n",
       "      <td>3.5</td>\n",
       "      <td>0</td>\n",
       "      <td>0</td>\n",
       "      <td>2</td>\n",
       "      <td>1</td>\n",
       "    </tr>\n",
       "    <tr>\n",
       "      <th>2</th>\n",
       "      <td>41</td>\n",
       "      <td>0</td>\n",
       "      <td>1</td>\n",
       "      <td>130</td>\n",
       "      <td>204</td>\n",
       "      <td>0</td>\n",
       "      <td>0</td>\n",
       "      <td>172</td>\n",
       "      <td>0</td>\n",
       "      <td>1.4</td>\n",
       "      <td>2</td>\n",
       "      <td>0</td>\n",
       "      <td>2</td>\n",
       "      <td>1</td>\n",
       "    </tr>\n",
       "    <tr>\n",
       "      <th>3</th>\n",
       "      <td>56</td>\n",
       "      <td>1</td>\n",
       "      <td>1</td>\n",
       "      <td>120</td>\n",
       "      <td>236</td>\n",
       "      <td>0</td>\n",
       "      <td>1</td>\n",
       "      <td>178</td>\n",
       "      <td>0</td>\n",
       "      <td>0.8</td>\n",
       "      <td>2</td>\n",
       "      <td>0</td>\n",
       "      <td>2</td>\n",
       "      <td>1</td>\n",
       "    </tr>\n",
       "    <tr>\n",
       "      <th>4</th>\n",
       "      <td>57</td>\n",
       "      <td>0</td>\n",
       "      <td>0</td>\n",
       "      <td>120</td>\n",
       "      <td>354</td>\n",
       "      <td>0</td>\n",
       "      <td>1</td>\n",
       "      <td>163</td>\n",
       "      <td>1</td>\n",
       "      <td>0.6</td>\n",
       "      <td>2</td>\n",
       "      <td>0</td>\n",
       "      <td>2</td>\n",
       "      <td>1</td>\n",
       "    </tr>\n",
       "  </tbody>\n",
       "</table>\n",
       "</div>"
      ],
      "text/plain": [
       "   age  sex  cp  trestbps  chol  fbs  restecg  thalach  exang  oldpeak  slope  \\\n",
       "0   63    1   3       145   233    1        0      150      0      2.3      0   \n",
       "1   37    1   2       130   250    0        1      187      0      3.5      0   \n",
       "2   41    0   1       130   204    0        0      172      0      1.4      2   \n",
       "3   56    1   1       120   236    0        1      178      0      0.8      2   \n",
       "4   57    0   0       120   354    0        1      163      1      0.6      2   \n",
       "\n",
       "   ca  thal  target  \n",
       "0   0     1       1  \n",
       "1   0     2       1  \n",
       "2   0     2       1  \n",
       "3   0     2       1  \n",
       "4   0     2       1  "
      ]
     },
     "execution_count": 86,
     "metadata": {},
     "output_type": "execute_result"
    }
   ],
   "source": [
    "def Leer_Datos(name, delmt = '\\t',head = None):\n",
    "    data = pd.read_csv(name + '.csv', delimiter = delmt)\n",
    "    return data\n",
    "\n",
    "files = [\"diabetes\",\"Enfermedad_Cardiaca\",\"iris\"]\n",
    "f = 1\n",
    "data = Leer_Datos(files[f],'\\t')\n",
    "data.head(5)"
   ]
  },
  {
   "cell_type": "code",
   "execution_count": 87,
   "metadata": {},
   "outputs": [],
   "source": [
    "data = data.sort_values(by=data.columns[-1])\n",
    "raw_data = data.values\n",
    "raw_data_x = raw_data[:,:-1]\n",
    "raw_data_yl = raw_data[:,-1]\n",
    "labels =[raw_data_yl[0]]\n",
    "for ll in raw_data_yl:\n",
    "    if ll not in labels:\n",
    "        labels.append(ll)\n",
    "raw_data_y = np.zeros((len(raw_data_x),len(labels)),dtype=bool)\n"
   ]
  },
  {
   "cell_type": "code",
   "execution_count": 88,
   "metadata": {},
   "outputs": [
    {
     "data": {
      "text/plain": [
       "array([False,  True])"
      ]
     },
     "execution_count": 88,
     "metadata": {},
     "output_type": "execute_result"
    }
   ],
   "source": [
    "i = 0\n",
    "for la in raw_data_yl:\n",
    "    raw_data_y[i,labels.index(la)] = 1\n",
    "    i+=1\n",
    "raw_data_y[-1]"
   ]
  },
  {
   "cell_type": "code",
   "execution_count": 89,
   "metadata": {},
   "outputs": [],
   "source": [
    "raw_data_x = np.array(raw_data_x,dtype=np.float64)\n",
    "def Normalizar_Datos(arraynp):\n",
    "#     last = np.array(arraynp[:,-1])\n",
    "    mean = np.mean(arraynp,0)\n",
    "    standard = np.std(arraynp,0)\n",
    "    for i in range(0,arraynp.shape[0]):\n",
    "        arraynp[i] = np.true_divide((arraynp[i] - mean), standard)\n",
    "#     arraynp[:,-1] = last[:]\n",
    "    return arraynp\n",
    "\n",
    "standard = np.std(raw_data_x,0)\n",
    "raw_data_x = Normalizar_Datos(raw_data_x)"
   ]
  },
  {
   "cell_type": "code",
   "execution_count": 90,
   "metadata": {},
   "outputs": [
    {
     "name": "stdout",
     "output_type": "stream",
     "text": [
      "(303, 13) (303, 2)\n",
      "[False  True]\n",
      "(303, 15)\n",
      "[138]\n",
      "rr 3\n"
     ]
    }
   ],
   "source": [
    "def Crear_k_folds(data, k =3, classes=2):\n",
    "    indexs=[]\n",
    "    for i in range(1,classes+1):\n",
    "        ind = np.where(np.diff(data[:,-i]))\n",
    "        for i in ind[0]:\n",
    "            if i not in indexs:\n",
    "                indexs.append(i)\n",
    "    \n",
    "    indexs= [x+1 for x in indexs]\n",
    "    indexs.sort()\n",
    "    print (indexs)\n",
    "    Groups = np.split(data, indexs)\n",
    "    \n",
    "    Parts =[]\n",
    "    for g in Groups:\n",
    "        tmp = np.array_split(g, k)\n",
    "        for p in tmp:\n",
    "            Parts.append(p)\n",
    "    \n",
    "    res = list()\n",
    "    for i in range(k):\n",
    "        temp = Parts[i]\n",
    "        for j in range(1,classes):\n",
    "            temp = np.concatenate((temp,Parts[i+(k*j)]))\n",
    "\n",
    "        np.random.shuffle(temp)\n",
    "        res.append(temp)\n",
    "    print('rr',len(res))\n",
    "    return res\n",
    "\n",
    "# raw_data_x = Normalizar_Datos(raw_data_x)\n",
    "print(raw_data_x.shape,raw_data_y.shape)\n",
    "print (raw_data_y[-1])\n",
    "num_classes = len(raw_data_y[0])\n",
    "raw_data = np.concatenate((raw_data_x,raw_data_y),axis=1)\n",
    "print(raw_data.shape)\n",
    "raw_folds = Crear_k_folds(raw_data,classes=num_classes)"
   ]
  },
  {
   "cell_type": "code",
   "execution_count": 91,
   "metadata": {},
   "outputs": [],
   "source": [
    "def Save_Folds(folds, name, file='/', delt='\\t', classes=2):\n",
    "    for i in range(len(folds)):\n",
    "        X = folds[i][:,:-(classes)]\n",
    "        Y = folds[i][:,-(classes):]\n",
    "        xname = file + name + '_X' + str(i+1) + '.csv'\n",
    "        yname = file + name + '_Y' + str(i+1) + '.csv'\n",
    "        np.savetxt(xname, X, delimiter=delt)\n",
    "        np.savetxt(yname, Y, delimiter=delt)\n",
    "        \n",
    "Save_Folds(raw_folds,'enf_cardiaca','folds/',',',num_classes)"
   ]
  },
  {
   "cell_type": "code",
   "execution_count": 2,
   "metadata": {},
   "outputs": [],
   "source": [
    "def Sigmoidal(x):\n",
    "    return 1.0 / (1+np.exp(-x))\n",
    "\n",
    "def Derivada_Sigmoidal(x):\n",
    "    return x * (1.0 - x)\n",
    "\n",
    "def Calcular_Funcion_Costo(y_p, y):\n",
    "    a = -np.log(y_p)\n",
    "#     print ('a',a)\n",
    "    b = a * y\n",
    "#     print ('b',b)\n",
    "#     loss = b.sum(axis=1).mean()\n",
    "    loss = b.mean()\n",
    "    return loss\n",
    "\n",
    "def Calcular_Accuracy(X, Y, W):\n",
    "    y_predict = Sigmoidal(X, W).round()#np.rint(Sigmoidal(X, Theta))\n",
    "    count = 0\n",
    "    for y in (Y-y_predict):\n",
    "        if 1 not in y:\n",
    "            count = count + 1\n",
    "    return (count/len(Y)) * 100"
   ]
  },
  {
   "cell_type": "code",
   "execution_count": 3,
   "metadata": {},
   "outputs": [],
   "source": [
    "def Forward(X, weights, activations):\n",
    "    A = X\n",
    "    activations[0] = A\n",
    "    for i,w in enumerate(weights):\n",
    "        h = np.dot(A, w)\n",
    "        A = Sigmoidal(h)\n",
    "        activations[i+1] = A\n",
    "    return A, activations\n",
    "\n",
    "def Backward(y_p, y, activations, weights, learning):\n",
    "    delta = (y_p - y) * Derivada_Sigmoidal(activations[-1])\n",
    "    for i in range(1,len(weights)+1):\n",
    "        a = activations[-i-1].reshape(activations[-i-1].shape[0],-1)\n",
    "        d = delta.reshape(delta.shape[0],-1).T\n",
    "        weights[-i] -= learning *(np.dot(a,d))#/bach_size\n",
    "        dd = Derivada_Sigmoidal(activations[-i-1])\n",
    "        delta = dd * np.dot(delta,weights[-i].T)\n",
    "    return weights\n",
    "         \n",
    "def Gradiente_Descendiente(X, Y, weights, iteraciones, learning, activations):\n",
    "    costos = [0] * iteraciones\n",
    "    for i in range(iteraciones):\n",
    "        cost = 0\n",
    "        for j,x in enumerate(X):\n",
    "            y_p, activation = Forward(x, weights, activations)\n",
    "            cost += Calcular_Funcion_Costo(y_p,Y[j])\n",
    "            weights = Backward(y_p, Y[j], activations, weights, learning)\n",
    "        costos[i] = cost / (len(X))\n",
    "    return weights, costos"
   ]
  },
  {
   "cell_type": "code",
   "execution_count": 4,
   "metadata": {},
   "outputs": [],
   "source": [
    "def Generar_Pesos(layers):\n",
    "    wei = []\n",
    "    for l in range(len(layers)-1):\n",
    "        w = np.random.rand(layers[l],layers[l+1])\n",
    "        wei.append(w)\n",
    "    return wei\n",
    "\n",
    "def Generar_Activaciones(layers):\n",
    "    act = []\n",
    "    for l in range(len(layers)):\n",
    "        a = np.zeros(layers[l])\n",
    "        act.append(a)\n",
    "    return act"
   ]
  },
  {
   "cell_type": "code",
   "execution_count": 71,
   "metadata": {},
   "outputs": [],
   "source": [
    "from random import random\n",
    "items = np.array([[random()/2 for _ in range(2)] for _ in range(1000)])\n",
    "targets = np.array([[i[0] + i[1]] for i in items])\n",
    "# targets = np.array([[i[0] + i[1],i[0] - i[1],i[2] * i[3]] for i in items])"
   ]
  },
  {
   "cell_type": "code",
   "execution_count": 111,
   "metadata": {},
   "outputs": [
    {
     "name": "stdout",
     "output_type": "stream",
     "text": [
      "[2, 5, 1]\n"
     ]
    }
   ],
   "source": [
    "layers = [items.shape[1]]+[5]+[targets.shape[1]]\n",
    "print (layers)\n",
    "weis = Generar_Pesos(layers)\n",
    "actis = Generar_Activaciones(layers)\n",
    "\n",
    "W,costoss = Gradiente_Descendiente(items,targets,weis,200,0.2,actis)"
   ]
  },
  {
   "cell_type": "code",
   "execution_count": 109,
   "metadata": {},
   "outputs": [
    {
     "name": "stdout",
     "output_type": "stream",
     "text": [
      "[0.1 0.2] [0.28594068]\n"
     ]
    }
   ],
   "source": [
    "inpu = np.array([0.1,0.2])\n",
    "out,_ = Forward(inpu,W,actis)\n",
    "print(inpu,out)"
   ]
  },
  {
   "cell_type": "code",
   "execution_count": 112,
   "metadata": {},
   "outputs": [
    {
     "data": {
      "text/plain": [
       "<matplotlib.collections.PathCollection at 0x206878472e8>"
      ]
     },
     "execution_count": 112,
     "metadata": {},
     "output_type": "execute_result"
    },
    {
     "data": {
      "image/png": "[encoded data removed]",
      "text/plain": [
       "<Figure size 432x288 with 1 Axes>"
      ]
     },
     "metadata": {
      "needs_background": "light"
     },
     "output_type": "display_data"
    }
   ],
   "source": [
    "plt.scatter(np.arange(200),costoss)"
   ]
  },
  {
   "cell_type": "code",
   "execution_count": 220,
   "metadata": {},
   "outputs": [],
   "source": [
    "fx1 = pd.read_csv(\"folds/iris_X1.csv\",delimiter=',',header=None)\n",
    "fx2 = pd.read_csv(\"folds/iris_X2.csv\",delimiter=',',header=None)\n",
    "fx3 = pd.read_csv(\"folds/iris_X3.csv\",delimiter=',',header=None)\n",
    "fy1 = pd.read_csv(\"folds/iris_Y1.csv\",delimiter=',',header=None)\n",
    "fy2 = pd.read_csv(\"folds/iris_Y2.csv\",delimiter=',',header=None)\n",
    "fy3 = pd.read_csv(\"folds/iris_Y3.csv\",delimiter=',',header=None)"
   ]
  },
  {
   "cell_type": "code",
   "execution_count": 221,
   "metadata": {},
   "outputs": [],
   "source": [
    "fxt = np.concatenate((fx1.values,fx2.values))\n",
    "fyt = np.concatenate((fy1.values,fy2.values))"
   ]
  },
  {
   "cell_type": "code",
   "execution_count": 251,
   "metadata": {},
   "outputs": [
    {
     "name": "stdout",
     "output_type": "stream",
     "text": [
      "[4, 5, 4, 3]\n"
     ]
    }
   ],
   "source": [
    "# 0.005, 300, [4, 3, 6, 3]\n",
    "layers = [fxt.shape[1]]+[5,4]+[fyt.shape[1]]\n",
    "print (layers)\n",
    "weis = Generar_Pesos(layers)\n",
    "# for e in weis:\n",
    "#     print(e.shape)\n",
    "actis = Generar_Activaciones(layers)\n",
    "# for e in actis:\n",
    "#     print(e.shape)\n",
    "W,costoss = Gradiente_Descendiente(fxt,fyt,weis,300,0.4,actis)"
   ]
  },
  {
   "cell_type": "code",
   "execution_count": 252,
   "metadata": {},
   "outputs": [
    {
     "data": {
      "text/plain": [
       "<matplotlib.collections.PathCollection at 0x2068c729400>"
      ]
     },
     "execution_count": 252,
     "metadata": {},
     "output_type": "execute_result"
    },
    {
     "data": {
      "image/png": "[encoded data removed]",
      "text/plain": [
       "<Figure size 432x288 with 1 Axes>"
      ]
     },
     "metadata": {
      "needs_background": "light"
     },
     "output_type": "display_data"
    }
   ],
   "source": [
    "plt.scatter(np.arange(300),costoss)"
   ]
  },
  {
   "cell_type": "code",
   "execution_count": 5,
   "metadata": {},
   "outputs": [],
   "source": [
    "def Calcular_Accuracy(X, Y, W, A):\n",
    "    count = 0\n",
    "    for i,x in enumerate(X):\n",
    "        y_predict,_ = Forward(x,W,A)\n",
    "        y_predict = np.around(y_predict)\n",
    "        yy = Y[i]\n",
    "        y = y_predict - yy\n",
    "#         print (i,y_predict,yy,y)\n",
    "        cc = y_predict == yy\n",
    "#         print(cc,cc.all())\n",
    "        if (y_predict == yy).all():\n",
    "            count+=1\n",
    "#         if np.all(y_predict==y):\n",
    "#             count +=1\n",
    "#     print(count,len(Y))\n",
    "    return (count/len(Y)) * 100"
   ]
  },
  {
   "cell_type": "code",
   "execution_count": 253,
   "metadata": {},
   "outputs": [
    {
     "name": "stdout",
     "output_type": "stream",
     "text": [
      "0 [0. 1. 0.] [0. 1. 0.] [0. 0. 0.]\n",
      "1 [1. 0. 0.] [1. 0. 0.] [0. 0. 0.]\n",
      "2 [1. 0. 0.] [1. 0. 0.] [0. 0. 0.]\n",
      "3 [0. 0. 1.] [0. 0. 1.] [0. 0. 0.]\n",
      "4 [0. 0. 1.] [0. 0. 1.] [0. 0. 0.]\n",
      "5 [0. 1. 0.] [0. 1. 0.] [0. 0. 0.]\n",
      "6 [0. 1. 0.] [0. 0. 1.] [ 0.  1. -1.]\n",
      "7 [0. 1. 0.] [0. 1. 0.] [0. 0. 0.]\n",
      "8 [0. 1. 0.] [0. 1. 0.] [0. 0. 0.]\n",
      "9 [0. 1. 0.] [0. 1. 0.] [0. 0. 0.]\n",
      "10 [1. 0. 0.] [1. 0. 0.] [0. 0. 0.]\n",
      "11 [0. 0. 1.] [0. 0. 1.] [0. 0. 0.]\n",
      "12 [0. 1. 0.] [0. 1. 0.] [0. 0. 0.]\n",
      "13 [1. 0. 0.] [1. 0. 0.] [0. 0. 0.]\n",
      "14 [1. 0. 0.] [1. 0. 0.] [0. 0. 0.]\n",
      "15 [1. 0. 0.] [1. 0. 0.] [0. 0. 0.]\n",
      "16 [0. 1. 0.] [0. 1. 0.] [0. 0. 0.]\n",
      "17 [0. 1. 0.] [0. 0. 1.] [ 0.  1. -1.]\n",
      "18 [1. 0. 0.] [1. 0. 0.] [0. 0. 0.]\n",
      "19 [0. 1. 0.] [0. 0. 1.] [ 0.  1. -1.]\n",
      "20 [1. 0. 0.] [1. 0. 0.] [0. 0. 0.]\n",
      "21 [0. 0. 1.] [0. 0. 1.] [0. 0. 0.]\n",
      "22 [0. 1. 0.] [0. 1. 0.] [0. 0. 0.]\n",
      "23 [1. 0. 0.] [1. 0. 0.] [0. 0. 0.]\n",
      "24 [1. 0. 0.] [1. 0. 0.] [0. 0. 0.]\n",
      "25 [0. 0. 1.] [0. 0. 1.] [0. 0. 0.]\n",
      "26 [0. 0. 1.] [0. 0. 1.] [0. 0. 0.]\n",
      "27 [0. 1. 0.] [0. 0. 1.] [ 0.  1. -1.]\n",
      "28 [0. 0. 1.] [0. 0. 1.] [0. 0. 0.]\n",
      "29 [1. 0. 0.] [1. 0. 0.] [0. 0. 0.]\n",
      "30 [0. 0. 1.] [0. 0. 1.] [0. 0. 0.]\n",
      "31 [1. 0. 0.] [1. 0. 0.] [0. 0. 0.]\n",
      "32 [0. 0. 1.] [0. 0. 1.] [0. 0. 0.]\n",
      "33 [0. 0. 1.] [0. 0. 1.] [0. 0. 0.]\n",
      "34 [0. 1. 0.] [0. 1. 0.] [0. 0. 0.]\n",
      "35 [0. 1. 0.] [0. 1. 0.] [0. 0. 0.]\n",
      "36 [0. 1. 0.] [0. 1. 0.] [0. 0. 0.]\n",
      "37 [1. 0. 0.] [1. 0. 0.] [0. 0. 0.]\n",
      "38 [0. 1. 0.] [0. 1. 0.] [0. 0. 0.]\n",
      "39 [1. 0. 0.] [1. 0. 0.] [0. 0. 0.]\n",
      "40 [0. 1. 0.] [0. 1. 0.] [0. 0. 0.]\n",
      "41 [0. 1. 0.] [0. 1. 0.] [0. 0. 0.]\n",
      "42 [0. 0. 1.] [0. 0. 1.] [0. 0. 0.]\n",
      "43 [0. 0. 1.] [0. 0. 1.] [0. 0. 0.]\n",
      "44 [0. 1. 0.] [0. 1. 0.] [0. 0. 0.]\n",
      "45 [1. 0. 0.] [1. 0. 0.] [0. 0. 0.]\n",
      "46 [0. 1. 0.] [0. 1. 0.] [0. 0. 0.]\n",
      "47 [1. 0. 0.] [1. 0. 0.] [0. 0. 0.]\n"
     ]
    },
    {
     "data": {
      "text/plain": [
       "91.66666666666666"
      ]
     },
     "execution_count": 253,
     "metadata": {},
     "output_type": "execute_result"
    }
   ],
   "source": [
    "Calcular_Accuracy(fx3.values,fy3.values,W,actis)"
   ]
  },
  {
   "cell_type": "markdown",
   "metadata": {},
   "source": [
    "### Experimento 1"
   ]
  },
  {
   "cell_type": "code",
   "execution_count": 6,
   "metadata": {},
   "outputs": [],
   "source": [
    "def Get_train_test_sets(name, orden=1, k=3, deli='\\t'):\n",
    "    train_X = np.array([])\n",
    "    train_Y = np.array([])\n",
    "    test_X = np.array([])\n",
    "    test_Y = np.array([])\n",
    "    for i in range(k):\n",
    "        if i+1 == orden:\n",
    "            test_X = pd.read_csv(name+'_X'+str(i+1)+'.csv').values\n",
    "            test_Y = pd.read_csv(name+'_Y'+str(i+1)+'.csv').values\n",
    "        else:\n",
    "            tx = pd.read_csv(name+'_X'+str(i+1)+'.csv').values\n",
    "            ty = pd.read_csv(name+'_Y'+str(i+1)+'.csv').values\n",
    "            if train_X.shape[0] == 0:\n",
    "                train_X = tx\n",
    "                train_Y = ty\n",
    "            else:\n",
    "                train_X = np.concatenate((train_X,tx))\n",
    "                train_Y = np.concatenate((train_Y,ty))\n",
    "            \n",
    "    return train_X, train_Y, test_X, test_Y\n",
    "\n",
    "import random\n",
    "\n",
    "def getNeurons(num_layers=1, neurons=[1]):\n",
    "    lays = []\n",
    "    for i in range(num_layers):\n",
    "        lays.append(random.choice(neurons))\n",
    "    return lays"
   ]
  },
  {
   "cell_type": "code",
   "execution_count": 7,
   "metadata": {},
   "outputs": [],
   "source": [
    "num_folds = 3\n",
    "num_hidden_layers = [1,2,3,4]\n",
    "num_neurons_per_l = [3,4,5]\n",
    "tasa_aprendisaje = [0.1,0.2,0.3, 0.4, 0.5]#, 0.05, 0.1, 0.2]\n",
    "num_iteraciones = [200,300, 500, 1000, 2000]"
   ]
  },
  {
   "cell_type": "code",
   "execution_count": 8,
   "metadata": {},
   "outputs": [
    {
     "data": {
      "text/plain": [
       "100"
      ]
     },
     "execution_count": 8,
     "metadata": {},
     "output_type": "execute_result"
    }
   ],
   "source": [
    "nn = len(num_hidden_layers)*len(tasa_aprendisaje)*len(num_iteraciones)\n",
    "namefold = 'folds/iris'\n",
    "# train_X, train_Y, test_X, test_Y = Get_train_test_sets(namefold, 1, k=num_folds, deli=',')\n",
    "LLL = getNeurons(2,[4,3,2])\n",
    "nn"
   ]
  },
  {
   "cell_type": "code",
   "execution_count": 9,
   "metadata": {},
   "outputs": [
    {
     "name": "stdout",
     "output_type": "stream",
     "text": [
      "======== [4, 3, 3] ========\n",
      "======== [4, 4, 3, 3] ========\n",
      "======== [4, 5, 4, 3, 3] ========\n",
      "======== [4, 5, 4, 3, 5, 3] ========\n"
     ]
    }
   ],
   "source": [
    "accuracies = np.empty((nn,3),dtype=np.float32)\n",
    "list_layers = []\n",
    "acc_index=0\n",
    "acc_max = 0\n",
    "best_parameters = (0,0,[])\n",
    "ma_iris = []\n",
    "dma = []\n",
    "for l in num_hidden_layers:\n",
    "    lay = getNeurons(l,num_neurons_per_l)\n",
    "    matrix_ac = np.random.rand(len(tasa_aprendisaje),len(num_iteraciones),num_folds)\n",
    "    for k in range(num_folds):\n",
    "        train_X, train_Y, test_X, test_Y = Get_train_test_sets(namefold, k+1, k=num_folds, deli=',')\n",
    "        layers = [train_X.shape[1]]+lay+[train_Y.shape[1]]\n",
    "        for i,t in enumerate(tasa_aprendisaje):\n",
    "            for j,itr in enumerate(num_iteraciones):\n",
    "                weigths = Generar_Pesos(layers)\n",
    "                activations = Generar_Activaciones(layers)\n",
    "                new_Weigths, _ = Gradiente_Descendiente(train_X, train_Y, weigths, itr, t, activations)\n",
    "\n",
    "                matrix_ac[i,j,k] = Calcular_Accuracy(test_X,test_Y,new_Weigths,activations)\n",
    "    ma_iris.append((layers,np.mean(matrix_ac,axis=2)))\n",
    "#     dma.append(pd.DataFrame(data = ma[-1], index= tasa_aprendisaje, columns = num_iteraciones))\n",
    "    print('========',layers,'========')\n",
    "# print(ma)"
   ]
  },
  {
   "cell_type": "code",
   "execution_count": 12,
   "metadata": {},
   "outputs": [
    {
     "data": {
      "text/plain": [
       "[([4, 4, 3], array([[85.78723404, 85.82978723],\n",
       "         [87.16312057, 93.95744681],\n",
       "         [93.29078014, 95.33333333]])),\n",
       " ([4, 4, 5, 3], array([[86.36879433, 96.66666667],\n",
       "         [97.33333333, 96.66666667],\n",
       "         [96.66666667, 96.62411348]]))]"
      ]
     },
     "execution_count": 12,
     "metadata": {},
     "output_type": "execute_result"
    }
   ],
   "source": [
    "ma"
   ]
  },
  {
   "cell_type": "code",
   "execution_count": 24,
   "metadata": {},
   "outputs": [
    {
     "name": "stdout",
     "output_type": "stream",
     "text": [
      "(0.1, 1000, [4, 4, 3, 3]) 98.0\n"
     ]
    }
   ],
   "source": [
    "max_acc = 0\n",
    "parametrs = (0,0,[])\n",
    "\n",
    "for ar,M in ma_iris:\n",
    "    for i in range(len(M)):\n",
    "        for j in range(len(M[0])):\n",
    "            if M[i,j] > max_acc:\n",
    "                max_acc = M[i,j]\n",
    "                parametrs = (tasa_aprendisaje[i],num_iteraciones[j],ar)\n",
    "                MM_ = M\n",
    "\n",
    "print (parametrs,max_acc)"
   ]
  },
  {
   "cell_type": "code",
   "execution_count": 25,
   "metadata": {},
   "outputs": [
    {
     "data": {
      "text/html": [
       "<div>\n",
       "<style scoped>\n",
       "    .dataframe tbody tr th:only-of-type {\n",
       "        vertical-align: middle;\n",
       "    }\n",
       "\n",
       "    .dataframe tbody tr th {\n",
       "        vertical-align: top;\n",
       "    }\n",
       "\n",
       "    .dataframe thead th {\n",
       "        text-align: right;\n",
       "    }\n",
       "</style>\n",
       "<table border=\"1\" class=\"dataframe\">\n",
       "  <thead>\n",
       "    <tr style=\"text-align: right;\">\n",
       "      <th></th>\n",
       "      <th>200</th>\n",
       "      <th>300</th>\n",
       "      <th>500</th>\n",
       "      <th>1000</th>\n",
       "      <th>2000</th>\n",
       "    </tr>\n",
       "  </thead>\n",
       "  <tbody>\n",
       "    <tr>\n",
       "      <th>0.1</th>\n",
       "      <td>87.290780</td>\n",
       "      <td>94.539007</td>\n",
       "      <td>95.957447</td>\n",
       "      <td>98.000000</td>\n",
       "      <td>96.666667</td>\n",
       "    </tr>\n",
       "    <tr>\n",
       "      <th>0.2</th>\n",
       "      <td>97.333333</td>\n",
       "      <td>97.333333</td>\n",
       "      <td>97.333333</td>\n",
       "      <td>95.957447</td>\n",
       "      <td>97.290780</td>\n",
       "    </tr>\n",
       "    <tr>\n",
       "      <th>0.3</th>\n",
       "      <td>97.333333</td>\n",
       "      <td>97.333333</td>\n",
       "      <td>95.872340</td>\n",
       "      <td>98.000000</td>\n",
       "      <td>93.787234</td>\n",
       "    </tr>\n",
       "    <tr>\n",
       "      <th>0.4</th>\n",
       "      <td>98.000000</td>\n",
       "      <td>96.666667</td>\n",
       "      <td>93.787234</td>\n",
       "      <td>93.787234</td>\n",
       "      <td>93.744681</td>\n",
       "    </tr>\n",
       "    <tr>\n",
       "      <th>0.5</th>\n",
       "      <td>95.333333</td>\n",
       "      <td>96.000000</td>\n",
       "      <td>93.120567</td>\n",
       "      <td>95.205674</td>\n",
       "      <td>94.539007</td>\n",
       "    </tr>\n",
       "  </tbody>\n",
       "</table>\n",
       "</div>"
      ],
      "text/plain": [
       "          200        300        500        1000       2000\n",
       "0.1  87.290780  94.539007  95.957447  98.000000  96.666667\n",
       "0.2  97.333333  97.333333  97.333333  95.957447  97.290780\n",
       "0.3  97.333333  97.333333  95.872340  98.000000  93.787234\n",
       "0.4  98.000000  96.666667  93.787234  93.787234  93.744681\n",
       "0.5  95.333333  96.000000  93.120567  95.205674  94.539007"
      ]
     },
     "execution_count": 25,
     "metadata": {},
     "output_type": "execute_result"
    }
   ],
   "source": [
    "df1 = pd.DataFrame(data = MM_, index= tasa_aprendisaje, columns = num_iteraciones)\n",
    "df1"
   ]
  },
  {
   "cell_type": "code",
   "execution_count": 13,
   "metadata": {},
   "outputs": [],
   "source": [
    "num_folds = 3\n",
    "num_hidden_layers = [1,2,3,4]\n",
    "num_neurons_per_l = [4,5,6,7]\n",
    "tasa_aprendisaje = [0.1,0.2,0.3, 0.4, 0.5]#, 0.05, 0.1, 0.2]\n",
    "num_iteraciones = [200,300, 500, 1000, 2000]"
   ]
  },
  {
   "cell_type": "code",
   "execution_count": 14,
   "metadata": {},
   "outputs": [
    {
     "data": {
      "text/plain": [
       "100"
      ]
     },
     "execution_count": 14,
     "metadata": {},
     "output_type": "execute_result"
    }
   ],
   "source": [
    "nn = len(num_hidden_layers)*len(tasa_aprendisaje)*len(num_iteraciones)\n",
    "namefold = 'folds/enf_cardiaca'\n",
    "# train_X, train_Y, test_X, test_Y = Get_train_test_sets(namefold, 1, k=num_folds, deli=',')\n",
    "LLL = getNeurons(2,[4,3,2])\n",
    "nn"
   ]
  },
  {
   "cell_type": "code",
   "execution_count": 15,
   "metadata": {},
   "outputs": [
    {
     "name": "stdout",
     "output_type": "stream",
     "text": [
      "======== [13, 5, 2] ========\n",
      "======== [13, 7, 5, 2] ========\n",
      "======== [13, 6, 4, 6, 2] ========\n",
      "======== [13, 6, 5, 6, 7, 2] ========\n"
     ]
    }
   ],
   "source": [
    "accuracies = np.empty((nn,3),dtype=np.float32)\n",
    "list_layers = []\n",
    "acc_index=0\n",
    "acc_max = 0\n",
    "best_parameters = (0,0,[])\n",
    "ma_card = []\n",
    "dma = []\n",
    "for l in num_hidden_layers:\n",
    "    lay = getNeurons(l,num_neurons_per_l)\n",
    "    matrix_ac = np.random.rand(len(tasa_aprendisaje),len(num_iteraciones),num_folds)\n",
    "    for k in range(num_folds):\n",
    "        train_X, train_Y, test_X, test_Y = Get_train_test_sets(namefold, k+1, k=num_folds, deli=',')\n",
    "        layers = [train_X.shape[1]]+lay+[train_Y.shape[1]]\n",
    "        for i,t in enumerate(tasa_aprendisaje):\n",
    "            for j,itr in enumerate(num_iteraciones):\n",
    "                weigths = Generar_Pesos(layers)\n",
    "                activations = Generar_Activaciones(layers)\n",
    "                new_Weigths, _ = Gradiente_Descendiente(train_X, train_Y, weigths, itr, t, activations)\n",
    "\n",
    "                matrix_ac[i,j,k] = Calcular_Accuracy(test_X,test_Y,new_Weigths,activations)\n",
    "    ma_card.append((layers,np.mean(matrix_ac,axis=2)))\n",
    "#     dma.append(pd.DataFrame(data = ma[-1], index= tasa_aprendisaje, columns = num_iteraciones))\n",
    "    print('========',layers,'========')\n",
    "# print(ma)"
   ]
  },
  {
   "cell_type": "code",
   "execution_count": 26,
   "metadata": {},
   "outputs": [
    {
     "name": "stdout",
     "output_type": "stream",
     "text": [
      "(0.1, 200, [13, 7, 5, 2]) 83.66666666666667\n"
     ]
    }
   ],
   "source": [
    "max_acc = 0\n",
    "parametrs = (0,0,[])\n",
    "for ar,M in ma_card:\n",
    "    for i in range(len(M)):\n",
    "        for j in range(len(M[0])):\n",
    "            if M[i,j] > max_acc:\n",
    "                max_acc = M[i,j]\n",
    "                parametrs = (tasa_aprendisaje[i],num_iteraciones[j],ar)\n",
    "                MM_=M\n",
    "print (parametrs, max_acc)"
   ]
  },
  {
   "cell_type": "code",
   "execution_count": 27,
   "metadata": {},
   "outputs": [
    {
     "data": {
      "text/html": [
       "<div>\n",
       "<style scoped>\n",
       "    .dataframe tbody tr th:only-of-type {\n",
       "        vertical-align: middle;\n",
       "    }\n",
       "\n",
       "    .dataframe tbody tr th {\n",
       "        vertical-align: top;\n",
       "    }\n",
       "\n",
       "    .dataframe thead th {\n",
       "        text-align: right;\n",
       "    }\n",
       "</style>\n",
       "<table border=\"1\" class=\"dataframe\">\n",
       "  <thead>\n",
       "    <tr style=\"text-align: right;\">\n",
       "      <th></th>\n",
       "      <th>200</th>\n",
       "      <th>300</th>\n",
       "      <th>500</th>\n",
       "      <th>1000</th>\n",
       "      <th>2000</th>\n",
       "    </tr>\n",
       "  </thead>\n",
       "  <tbody>\n",
       "    <tr>\n",
       "      <th>0.1</th>\n",
       "      <td>83.666667</td>\n",
       "      <td>81.000000</td>\n",
       "      <td>79.000000</td>\n",
       "      <td>80.666667</td>\n",
       "      <td>78.666667</td>\n",
       "    </tr>\n",
       "    <tr>\n",
       "      <th>0.2</th>\n",
       "      <td>80.333333</td>\n",
       "      <td>81.666667</td>\n",
       "      <td>76.666667</td>\n",
       "      <td>80.333333</td>\n",
       "      <td>77.666667</td>\n",
       "    </tr>\n",
       "    <tr>\n",
       "      <th>0.3</th>\n",
       "      <td>78.666667</td>\n",
       "      <td>80.000000</td>\n",
       "      <td>78.333333</td>\n",
       "      <td>78.666667</td>\n",
       "      <td>77.000000</td>\n",
       "    </tr>\n",
       "    <tr>\n",
       "      <th>0.4</th>\n",
       "      <td>79.666667</td>\n",
       "      <td>80.333333</td>\n",
       "      <td>79.666667</td>\n",
       "      <td>75.666667</td>\n",
       "      <td>76.333333</td>\n",
       "    </tr>\n",
       "    <tr>\n",
       "      <th>0.5</th>\n",
       "      <td>81.000000</td>\n",
       "      <td>77.000000</td>\n",
       "      <td>81.333333</td>\n",
       "      <td>77.000000</td>\n",
       "      <td>79.666667</td>\n",
       "    </tr>\n",
       "  </tbody>\n",
       "</table>\n",
       "</div>"
      ],
      "text/plain": [
       "          200        300        500        1000       2000\n",
       "0.1  83.666667  81.000000  79.000000  80.666667  78.666667\n",
       "0.2  80.333333  81.666667  76.666667  80.333333  77.666667\n",
       "0.3  78.666667  80.000000  78.333333  78.666667  77.000000\n",
       "0.4  79.666667  80.333333  79.666667  75.666667  76.333333\n",
       "0.5  81.000000  77.000000  81.333333  77.000000  79.666667"
      ]
     },
     "execution_count": 27,
     "metadata": {},
     "output_type": "execute_result"
    }
   ],
   "source": [
    "df2 = pd.DataFrame(data = MM_, index= tasa_aprendisaje, columns = num_iteraciones)\n",
    "df2"
   ]
  },
  {
   "cell_type": "code",
   "execution_count": 31,
   "metadata": {},
   "outputs": [
    {
     "data": {
      "text/plain": [
       "<matplotlib.collections.PathCollection at 0x1a6fda9d278>"
      ]
     },
     "execution_count": 31,
     "metadata": {},
     "output_type": "execute_result"
    },
    {
     "data": {
      "image/png": "[encoded data removed]",
      "text/plain": [
       "<Figure size 432x288 with 1 Axes>"
      ]
     },
     "metadata": {
      "needs_background": "light"
     },
     "output_type": "display_data"
    }
   ],
   "source": [
    "train_X, train_Y, test_X, test_Y = Get_train_test_sets(namefold, k+1, k=num_folds, deli=',')\n",
    "layers = [train_X.shape[1]]+[7,5]+[train_Y.shape[1]]\n",
    "weigths = Generar_Pesos(layers)\n",
    "activations = Generar_Activaciones(layers)\n",
    "itera=1000\n",
    "new_Weigths, loss = Gradiente_Descendiente(train_X, train_Y, weigths, itera, 0.1, activations)\n",
    "\n",
    "plt.scatter(np.arange(itera),loss)"
   ]
  },
  {
   "cell_type": "markdown",
   "metadata": {},
   "source": [
    "### Experimento 2"
   ]
  },
  {
   "cell_type": "code",
   "execution_count": 17,
   "metadata": {},
   "outputs": [],
   "source": [
    "from sklearn import svm\n",
    "from sklearn.metrics import accuracy_score"
   ]
  },
  {
   "cell_type": "code",
   "execution_count": 17,
   "metadata": {},
   "outputs": [
    {
     "name": "stdout",
     "output_type": "stream",
     "text": [
      "(150, 4) (150,)\n"
     ]
    }
   ],
   "source": [
    "from sklearn import svm, datasets\n",
    "\n",
    "iris = datasets.load_iris()\n",
    "irisX = iris.data\n",
    "irisy = iris.target\n",
    "print(irisX.shape,irisy.shape)"
   ]
  },
  {
   "cell_type": "code",
   "execution_count": 18,
   "metadata": {},
   "outputs": [],
   "source": [
    "def toSVM(train, test):\n",
    "#     print((train.shape[0],0))\n",
    "    tr = np.zeros((train.shape[0],))\n",
    "    ts = np.zeros((test.shape[0],))\n",
    "#     print (tr.shape)\n",
    "    \n",
    "    for i,r in enumerate(train):\n",
    "#         print(i,r,np.where(r==1)[0])\n",
    "        tr[i] = np.where(r==1)[0]\n",
    "    for i,s in enumerate(test):\n",
    "        ts[i] = np.where(s==1)[0]\n",
    "#     print (tr)\n",
    "    return tr,ts"
   ]
  },
  {
   "cell_type": "code",
   "execution_count": 20,
   "metadata": {},
   "outputs": [
    {
     "name": "stderr",
     "output_type": "stream",
     "text": [
      "C:\\Users\\jhere\\Anaconda3\\lib\\site-packages\\sklearn\\svm\\base.py:193: FutureWarning: The default value of gamma will change from 'auto' to 'scale' in version 0.22 to account better for unscaled features. Set gamma explicitly to 'auto' or 'scale' to avoid this warning.\n",
      "  \"avoid this warning.\", FutureWarning)\n",
      "C:\\Users\\jhere\\Anaconda3\\lib\\site-packages\\sklearn\\svm\\base.py:193: FutureWarning: The default value of gamma will change from 'auto' to 'scale' in version 0.22 to account better for unscaled features. Set gamma explicitly to 'auto' or 'scale' to avoid this warning.\n",
      "  \"avoid this warning.\", FutureWarning)\n",
      "C:\\Users\\jhere\\Anaconda3\\lib\\site-packages\\sklearn\\svm\\base.py:193: FutureWarning: The default value of gamma will change from 'auto' to 'scale' in version 0.22 to account better for unscaled features. Set gamma explicitly to 'auto' or 'scale' to avoid this warning.\n",
      "  \"avoid this warning.\", FutureWarning)\n",
      "C:\\Users\\jhere\\Anaconda3\\lib\\site-packages\\sklearn\\svm\\base.py:193: FutureWarning: The default value of gamma will change from 'auto' to 'scale' in version 0.22 to account better for unscaled features. Set gamma explicitly to 'auto' or 'scale' to avoid this warning.\n",
      "  \"avoid this warning.\", FutureWarning)\n",
      "C:\\Users\\jhere\\Anaconda3\\lib\\site-packages\\sklearn\\svm\\base.py:193: FutureWarning: The default value of gamma will change from 'auto' to 'scale' in version 0.22 to account better for unscaled features. Set gamma explicitly to 'auto' or 'scale' to avoid this warning.\n",
      "  \"avoid this warning.\", FutureWarning)\n",
      "C:\\Users\\jhere\\Anaconda3\\lib\\site-packages\\sklearn\\svm\\base.py:193: FutureWarning: The default value of gamma will change from 'auto' to 'scale' in version 0.22 to account better for unscaled features. Set gamma explicitly to 'auto' or 'scale' to avoid this warning.\n",
      "  \"avoid this warning.\", FutureWarning)\n",
      "C:\\Users\\jhere\\Anaconda3\\lib\\site-packages\\sklearn\\svm\\base.py:193: FutureWarning: The default value of gamma will change from 'auto' to 'scale' in version 0.22 to account better for unscaled features. Set gamma explicitly to 'auto' or 'scale' to avoid this warning.\n",
      "  \"avoid this warning.\", FutureWarning)\n",
      "C:\\Users\\jhere\\Anaconda3\\lib\\site-packages\\sklearn\\svm\\base.py:193: FutureWarning: The default value of gamma will change from 'auto' to 'scale' in version 0.22 to account better for unscaled features. Set gamma explicitly to 'auto' or 'scale' to avoid this warning.\n",
      "  \"avoid this warning.\", FutureWarning)\n",
      "C:\\Users\\jhere\\Anaconda3\\lib\\site-packages\\sklearn\\svm\\base.py:193: FutureWarning: The default value of gamma will change from 'auto' to 'scale' in version 0.22 to account better for unscaled features. Set gamma explicitly to 'auto' or 'scale' to avoid this warning.\n",
      "  \"avoid this warning.\", FutureWarning)\n",
      "C:\\Users\\jhere\\Anaconda3\\lib\\site-packages\\sklearn\\svm\\base.py:193: FutureWarning: The default value of gamma will change from 'auto' to 'scale' in version 0.22 to account better for unscaled features. Set gamma explicitly to 'auto' or 'scale' to avoid this warning.\n",
      "  \"avoid this warning.\", FutureWarning)\n",
      "C:\\Users\\jhere\\Anaconda3\\lib\\site-packages\\sklearn\\svm\\base.py:193: FutureWarning: The default value of gamma will change from 'auto' to 'scale' in version 0.22 to account better for unscaled features. Set gamma explicitly to 'auto' or 'scale' to avoid this warning.\n",
      "  \"avoid this warning.\", FutureWarning)\n",
      "C:\\Users\\jhere\\Anaconda3\\lib\\site-packages\\sklearn\\svm\\base.py:193: FutureWarning: The default value of gamma will change from 'auto' to 'scale' in version 0.22 to account better for unscaled features. Set gamma explicitly to 'auto' or 'scale' to avoid this warning.\n",
      "  \"avoid this warning.\", FutureWarning)\n",
      "C:\\Users\\jhere\\Anaconda3\\lib\\site-packages\\sklearn\\svm\\base.py:193: FutureWarning: The default value of gamma will change from 'auto' to 'scale' in version 0.22 to account better for unscaled features. Set gamma explicitly to 'auto' or 'scale' to avoid this warning.\n",
      "  \"avoid this warning.\", FutureWarning)\n",
      "C:\\Users\\jhere\\Anaconda3\\lib\\site-packages\\sklearn\\svm\\base.py:193: FutureWarning: The default value of gamma will change from 'auto' to 'scale' in version 0.22 to account better for unscaled features. Set gamma explicitly to 'auto' or 'scale' to avoid this warning.\n",
      "  \"avoid this warning.\", FutureWarning)\n",
      "C:\\Users\\jhere\\Anaconda3\\lib\\site-packages\\sklearn\\svm\\base.py:193: FutureWarning: The default value of gamma will change from 'auto' to 'scale' in version 0.22 to account better for unscaled features. Set gamma explicitly to 'auto' or 'scale' to avoid this warning.\n",
      "  \"avoid this warning.\", FutureWarning)\n",
      "C:\\Users\\jhere\\Anaconda3\\lib\\site-packages\\sklearn\\svm\\base.py:193: FutureWarning: The default value of gamma will change from 'auto' to 'scale' in version 0.22 to account better for unscaled features. Set gamma explicitly to 'auto' or 'scale' to avoid this warning.\n",
      "  \"avoid this warning.\", FutureWarning)\n",
      "C:\\Users\\jhere\\Anaconda3\\lib\\site-packages\\sklearn\\svm\\base.py:193: FutureWarning: The default value of gamma will change from 'auto' to 'scale' in version 0.22 to account better for unscaled features. Set gamma explicitly to 'auto' or 'scale' to avoid this warning.\n",
      "  \"avoid this warning.\", FutureWarning)\n",
      "C:\\Users\\jhere\\Anaconda3\\lib\\site-packages\\sklearn\\svm\\base.py:193: FutureWarning: The default value of gamma will change from 'auto' to 'scale' in version 0.22 to account better for unscaled features. Set gamma explicitly to 'auto' or 'scale' to avoid this warning.\n",
      "  \"avoid this warning.\", FutureWarning)\n",
      "C:\\Users\\jhere\\Anaconda3\\lib\\site-packages\\sklearn\\svm\\base.py:193: FutureWarning: The default value of gamma will change from 'auto' to 'scale' in version 0.22 to account better for unscaled features. Set gamma explicitly to 'auto' or 'scale' to avoid this warning.\n",
      "  \"avoid this warning.\", FutureWarning)\n",
      "C:\\Users\\jhere\\Anaconda3\\lib\\site-packages\\sklearn\\svm\\base.py:193: FutureWarning: The default value of gamma will change from 'auto' to 'scale' in version 0.22 to account better for unscaled features. Set gamma explicitly to 'auto' or 'scale' to avoid this warning.\n",
      "  \"avoid this warning.\", FutureWarning)\n",
      "C:\\Users\\jhere\\Anaconda3\\lib\\site-packages\\sklearn\\svm\\base.py:193: FutureWarning: The default value of gamma will change from 'auto' to 'scale' in version 0.22 to account better for unscaled features. Set gamma explicitly to 'auto' or 'scale' to avoid this warning.\n",
      "  \"avoid this warning.\", FutureWarning)\n",
      "C:\\Users\\jhere\\Anaconda3\\lib\\site-packages\\sklearn\\svm\\base.py:193: FutureWarning: The default value of gamma will change from 'auto' to 'scale' in version 0.22 to account better for unscaled features. Set gamma explicitly to 'auto' or 'scale' to avoid this warning.\n",
      "  \"avoid this warning.\", FutureWarning)\n",
      "C:\\Users\\jhere\\Anaconda3\\lib\\site-packages\\sklearn\\svm\\base.py:193: FutureWarning: The default value of gamma will change from 'auto' to 'scale' in version 0.22 to account better for unscaled features. Set gamma explicitly to 'auto' or 'scale' to avoid this warning.\n",
      "  \"avoid this warning.\", FutureWarning)\n",
      "C:\\Users\\jhere\\Anaconda3\\lib\\site-packages\\sklearn\\svm\\base.py:193: FutureWarning: The default value of gamma will change from 'auto' to 'scale' in version 0.22 to account better for unscaled features. Set gamma explicitly to 'auto' or 'scale' to avoid this warning.\n",
      "  \"avoid this warning.\", FutureWarning)\n",
      "C:\\Users\\jhere\\Anaconda3\\lib\\site-packages\\sklearn\\svm\\base.py:193: FutureWarning: The default value of gamma will change from 'auto' to 'scale' in version 0.22 to account better for unscaled features. Set gamma explicitly to 'auto' or 'scale' to avoid this warning.\n",
      "  \"avoid this warning.\", FutureWarning)\n",
      "C:\\Users\\jhere\\Anaconda3\\lib\\site-packages\\sklearn\\svm\\base.py:193: FutureWarning: The default value of gamma will change from 'auto' to 'scale' in version 0.22 to account better for unscaled features. Set gamma explicitly to 'auto' or 'scale' to avoid this warning.\n",
      "  \"avoid this warning.\", FutureWarning)\n",
      "C:\\Users\\jhere\\Anaconda3\\lib\\site-packages\\sklearn\\svm\\base.py:193: FutureWarning: The default value of gamma will change from 'auto' to 'scale' in version 0.22 to account better for unscaled features. Set gamma explicitly to 'auto' or 'scale' to avoid this warning.\n",
      "  \"avoid this warning.\", FutureWarning)\n",
      "C:\\Users\\jhere\\Anaconda3\\lib\\site-packages\\sklearn\\svm\\base.py:193: FutureWarning: The default value of gamma will change from 'auto' to 'scale' in version 0.22 to account better for unscaled features. Set gamma explicitly to 'auto' or 'scale' to avoid this warning.\n",
      "  \"avoid this warning.\", FutureWarning)\n",
      "C:\\Users\\jhere\\Anaconda3\\lib\\site-packages\\sklearn\\svm\\base.py:193: FutureWarning: The default value of gamma will change from 'auto' to 'scale' in version 0.22 to account better for unscaled features. Set gamma explicitly to 'auto' or 'scale' to avoid this warning.\n",
      "  \"avoid this warning.\", FutureWarning)\n",
      "C:\\Users\\jhere\\Anaconda3\\lib\\site-packages\\sklearn\\svm\\base.py:193: FutureWarning: The default value of gamma will change from 'auto' to 'scale' in version 0.22 to account better for unscaled features. Set gamma explicitly to 'auto' or 'scale' to avoid this warning.\n",
      "  \"avoid this warning.\", FutureWarning)\n",
      "C:\\Users\\jhere\\Anaconda3\\lib\\site-packages\\sklearn\\svm\\base.py:193: FutureWarning: The default value of gamma will change from 'auto' to 'scale' in version 0.22 to account better for unscaled features. Set gamma explicitly to 'auto' or 'scale' to avoid this warning.\n",
      "  \"avoid this warning.\", FutureWarning)\n",
      "C:\\Users\\jhere\\Anaconda3\\lib\\site-packages\\sklearn\\svm\\base.py:193: FutureWarning: The default value of gamma will change from 'auto' to 'scale' in version 0.22 to account better for unscaled features. Set gamma explicitly to 'auto' or 'scale' to avoid this warning.\n",
      "  \"avoid this warning.\", FutureWarning)\n",
      "C:\\Users\\jhere\\Anaconda3\\lib\\site-packages\\sklearn\\svm\\base.py:193: FutureWarning: The default value of gamma will change from 'auto' to 'scale' in version 0.22 to account better for unscaled features. Set gamma explicitly to 'auto' or 'scale' to avoid this warning.\n",
      "  \"avoid this warning.\", FutureWarning)\n",
      "C:\\Users\\jhere\\Anaconda3\\lib\\site-packages\\sklearn\\svm\\base.py:193: FutureWarning: The default value of gamma will change from 'auto' to 'scale' in version 0.22 to account better for unscaled features. Set gamma explicitly to 'auto' or 'scale' to avoid this warning.\n",
      "  \"avoid this warning.\", FutureWarning)\n",
      "C:\\Users\\jhere\\Anaconda3\\lib\\site-packages\\sklearn\\svm\\base.py:193: FutureWarning: The default value of gamma will change from 'auto' to 'scale' in version 0.22 to account better for unscaled features. Set gamma explicitly to 'auto' or 'scale' to avoid this warning.\n",
      "  \"avoid this warning.\", FutureWarning)\n",
      "C:\\Users\\jhere\\Anaconda3\\lib\\site-packages\\sklearn\\svm\\base.py:193: FutureWarning: The default value of gamma will change from 'auto' to 'scale' in version 0.22 to account better for unscaled features. Set gamma explicitly to 'auto' or 'scale' to avoid this warning.\n",
      "  \"avoid this warning.\", FutureWarning)\n",
      "C:\\Users\\jhere\\Anaconda3\\lib\\site-packages\\sklearn\\svm\\base.py:193: FutureWarning: The default value of gamma will change from 'auto' to 'scale' in version 0.22 to account better for unscaled features. Set gamma explicitly to 'auto' or 'scale' to avoid this warning.\n",
      "  \"avoid this warning.\", FutureWarning)\n",
      "C:\\Users\\jhere\\Anaconda3\\lib\\site-packages\\sklearn\\svm\\base.py:193: FutureWarning: The default value of gamma will change from 'auto' to 'scale' in version 0.22 to account better for unscaled features. Set gamma explicitly to 'auto' or 'scale' to avoid this warning.\n",
      "  \"avoid this warning.\", FutureWarning)\n",
      "C:\\Users\\jhere\\Anaconda3\\lib\\site-packages\\sklearn\\svm\\base.py:193: FutureWarning: The default value of gamma will change from 'auto' to 'scale' in version 0.22 to account better for unscaled features. Set gamma explicitly to 'auto' or 'scale' to avoid this warning.\n",
      "  \"avoid this warning.\", FutureWarning)\n",
      "C:\\Users\\jhere\\Anaconda3\\lib\\site-packages\\sklearn\\svm\\base.py:193: FutureWarning: The default value of gamma will change from 'auto' to 'scale' in version 0.22 to account better for unscaled features. Set gamma explicitly to 'auto' or 'scale' to avoid this warning.\n",
      "  \"avoid this warning.\", FutureWarning)\n",
      "C:\\Users\\jhere\\Anaconda3\\lib\\site-packages\\sklearn\\svm\\base.py:193: FutureWarning: The default value of gamma will change from 'auto' to 'scale' in version 0.22 to account better for unscaled features. Set gamma explicitly to 'auto' or 'scale' to avoid this warning.\n",
      "  \"avoid this warning.\", FutureWarning)\n",
      "C:\\Users\\jhere\\Anaconda3\\lib\\site-packages\\sklearn\\svm\\base.py:193: FutureWarning: The default value of gamma will change from 'auto' to 'scale' in version 0.22 to account better for unscaled features. Set gamma explicitly to 'auto' or 'scale' to avoid this warning.\n",
      "  \"avoid this warning.\", FutureWarning)\n",
      "C:\\Users\\jhere\\Anaconda3\\lib\\site-packages\\sklearn\\svm\\base.py:193: FutureWarning: The default value of gamma will change from 'auto' to 'scale' in version 0.22 to account better for unscaled features. Set gamma explicitly to 'auto' or 'scale' to avoid this warning.\n",
      "  \"avoid this warning.\", FutureWarning)\n",
      "C:\\Users\\jhere\\Anaconda3\\lib\\site-packages\\sklearn\\svm\\base.py:193: FutureWarning: The default value of gamma will change from 'auto' to 'scale' in version 0.22 to account better for unscaled features. Set gamma explicitly to 'auto' or 'scale' to avoid this warning.\n",
      "  \"avoid this warning.\", FutureWarning)\n",
      "C:\\Users\\jhere\\Anaconda3\\lib\\site-packages\\sklearn\\svm\\base.py:193: FutureWarning: The default value of gamma will change from 'auto' to 'scale' in version 0.22 to account better for unscaled features. Set gamma explicitly to 'auto' or 'scale' to avoid this warning.\n",
      "  \"avoid this warning.\", FutureWarning)\n",
      "C:\\Users\\jhere\\Anaconda3\\lib\\site-packages\\sklearn\\svm\\base.py:193: FutureWarning: The default value of gamma will change from 'auto' to 'scale' in version 0.22 to account better for unscaled features. Set gamma explicitly to 'auto' or 'scale' to avoid this warning.\n",
      "  \"avoid this warning.\", FutureWarning)\n",
      "C:\\Users\\jhere\\Anaconda3\\lib\\site-packages\\sklearn\\svm\\base.py:193: FutureWarning: The default value of gamma will change from 'auto' to 'scale' in version 0.22 to account better for unscaled features. Set gamma explicitly to 'auto' or 'scale' to avoid this warning.\n",
      "  \"avoid this warning.\", FutureWarning)\n",
      "C:\\Users\\jhere\\Anaconda3\\lib\\site-packages\\sklearn\\svm\\base.py:193: FutureWarning: The default value of gamma will change from 'auto' to 'scale' in version 0.22 to account better for unscaled features. Set gamma explicitly to 'auto' or 'scale' to avoid this warning.\n",
      "  \"avoid this warning.\", FutureWarning)\n",
      "C:\\Users\\jhere\\Anaconda3\\lib\\site-packages\\sklearn\\svm\\base.py:193: FutureWarning: The default value of gamma will change from 'auto' to 'scale' in version 0.22 to account better for unscaled features. Set gamma explicitly to 'auto' or 'scale' to avoid this warning.\n",
      "  \"avoid this warning.\", FutureWarning)\n",
      "C:\\Users\\jhere\\Anaconda3\\lib\\site-packages\\sklearn\\svm\\base.py:193: FutureWarning: The default value of gamma will change from 'auto' to 'scale' in version 0.22 to account better for unscaled features. Set gamma explicitly to 'auto' or 'scale' to avoid this warning.\n",
      "  \"avoid this warning.\", FutureWarning)\n",
      "C:\\Users\\jhere\\Anaconda3\\lib\\site-packages\\sklearn\\svm\\base.py:193: FutureWarning: The default value of gamma will change from 'auto' to 'scale' in version 0.22 to account better for unscaled features. Set gamma explicitly to 'auto' or 'scale' to avoid this warning.\n",
      "  \"avoid this warning.\", FutureWarning)\n",
      "C:\\Users\\jhere\\Anaconda3\\lib\\site-packages\\sklearn\\svm\\base.py:193: FutureWarning: The default value of gamma will change from 'auto' to 'scale' in version 0.22 to account better for unscaled features. Set gamma explicitly to 'auto' or 'scale' to avoid this warning.\n",
      "  \"avoid this warning.\", FutureWarning)\n",
      "C:\\Users\\jhere\\Anaconda3\\lib\\site-packages\\sklearn\\svm\\base.py:193: FutureWarning: The default value of gamma will change from 'auto' to 'scale' in version 0.22 to account better for unscaled features. Set gamma explicitly to 'auto' or 'scale' to avoid this warning.\n",
      "  \"avoid this warning.\", FutureWarning)\n",
      "C:\\Users\\jhere\\Anaconda3\\lib\\site-packages\\sklearn\\svm\\base.py:193: FutureWarning: The default value of gamma will change from 'auto' to 'scale' in version 0.22 to account better for unscaled features. Set gamma explicitly to 'auto' or 'scale' to avoid this warning.\n",
      "  \"avoid this warning.\", FutureWarning)\n",
      "C:\\Users\\jhere\\Anaconda3\\lib\\site-packages\\sklearn\\svm\\base.py:193: FutureWarning: The default value of gamma will change from 'auto' to 'scale' in version 0.22 to account better for unscaled features. Set gamma explicitly to 'auto' or 'scale' to avoid this warning.\n",
      "  \"avoid this warning.\", FutureWarning)\n",
      "C:\\Users\\jhere\\Anaconda3\\lib\\site-packages\\sklearn\\svm\\base.py:193: FutureWarning: The default value of gamma will change from 'auto' to 'scale' in version 0.22 to account better for unscaled features. Set gamma explicitly to 'auto' or 'scale' to avoid this warning.\n",
      "  \"avoid this warning.\", FutureWarning)\n",
      "C:\\Users\\jhere\\Anaconda3\\lib\\site-packages\\sklearn\\svm\\base.py:193: FutureWarning: The default value of gamma will change from 'auto' to 'scale' in version 0.22 to account better for unscaled features. Set gamma explicitly to 'auto' or 'scale' to avoid this warning.\n",
      "  \"avoid this warning.\", FutureWarning)\n",
      "C:\\Users\\jhere\\Anaconda3\\lib\\site-packages\\sklearn\\svm\\base.py:193: FutureWarning: The default value of gamma will change from 'auto' to 'scale' in version 0.22 to account better for unscaled features. Set gamma explicitly to 'auto' or 'scale' to avoid this warning.\n",
      "  \"avoid this warning.\", FutureWarning)\n",
      "C:\\Users\\jhere\\Anaconda3\\lib\\site-packages\\sklearn\\svm\\base.py:193: FutureWarning: The default value of gamma will change from 'auto' to 'scale' in version 0.22 to account better for unscaled features. Set gamma explicitly to 'auto' or 'scale' to avoid this warning.\n",
      "  \"avoid this warning.\", FutureWarning)\n",
      "C:\\Users\\jhere\\Anaconda3\\lib\\site-packages\\sklearn\\svm\\base.py:193: FutureWarning: The default value of gamma will change from 'auto' to 'scale' in version 0.22 to account better for unscaled features. Set gamma explicitly to 'auto' or 'scale' to avoid this warning.\n",
      "  \"avoid this warning.\", FutureWarning)\n",
      "C:\\Users\\jhere\\Anaconda3\\lib\\site-packages\\sklearn\\svm\\base.py:193: FutureWarning: The default value of gamma will change from 'auto' to 'scale' in version 0.22 to account better for unscaled features. Set gamma explicitly to 'auto' or 'scale' to avoid this warning.\n",
      "  \"avoid this warning.\", FutureWarning)\n",
      "C:\\Users\\jhere\\Anaconda3\\lib\\site-packages\\sklearn\\svm\\base.py:193: FutureWarning: The default value of gamma will change from 'auto' to 'scale' in version 0.22 to account better for unscaled features. Set gamma explicitly to 'auto' or 'scale' to avoid this warning.\n",
      "  \"avoid this warning.\", FutureWarning)\n",
      "C:\\Users\\jhere\\Anaconda3\\lib\\site-packages\\sklearn\\svm\\base.py:193: FutureWarning: The default value of gamma will change from 'auto' to 'scale' in version 0.22 to account better for unscaled features. Set gamma explicitly to 'auto' or 'scale' to avoid this warning.\n",
      "  \"avoid this warning.\", FutureWarning)\n"
     ]
    },
    {
     "data": {
      "text/plain": [
       "array([[[1.        , 0.9       , 1.        ],\n",
       "        [0.98      , 0.92      , 1.        ],\n",
       "        [0.98      , 0.9       , 1.        ],\n",
       "        [1.        , 0.9       , 1.        ],\n",
       "        [1.        , 0.9       , 1.        ],\n",
       "        [1.        , 0.9       , 1.        ],\n",
       "        [1.        , 0.92      , 1.        ]],\n",
       "\n",
       "       [[0.88      , 0.88      , 0.89361702],\n",
       "        [0.96      , 0.92      , 0.89361702],\n",
       "        [0.98      , 0.94      , 0.91489362],\n",
       "        [0.98      , 0.94      , 0.93617021],\n",
       "        [0.98      , 0.94      , 0.93617021],\n",
       "        [0.98      , 0.96      , 0.93617021],\n",
       "        [0.98      , 0.92      , 0.95744681]],\n",
       "\n",
       "       [[0.92      , 0.9       , 1.        ],\n",
       "        [0.9       , 0.88      , 1.        ],\n",
       "        [0.9       , 0.84      , 0.9787234 ],\n",
       "        [0.84      , 0.78      , 0.9787234 ],\n",
       "        [0.82      , 0.76      , 0.9787234 ],\n",
       "        [0.8       , 0.76      , 0.9787234 ],\n",
       "        [0.78      , 0.88      , 0.95744681]],\n",
       "\n",
       "       [[0.96      , 0.92      , 0.95744681],\n",
       "        [1.        , 0.92      , 0.9787234 ],\n",
       "        [1.        , 0.92      , 1.        ],\n",
       "        [0.98      , 0.92      , 1.        ],\n",
       "        [0.98      , 0.9       , 1.        ],\n",
       "        [0.98      , 0.92      , 0.9787234 ],\n",
       "        [1.        , 0.96      , 1.        ]]])"
      ]
     },
     "execution_count": 20,
     "metadata": {},
     "output_type": "execute_result"
    }
   ],
   "source": [
    "type_kernel = ['linear','poly','sigmoid','rbf']\n",
    "parameter_C = [0.5,1.0,1.5,2.0,2.5,3.0,10.0]#[1.0,0.5,1.5]\n",
    "matrix_ac_iris = np.random.rand(len(type_kernel),len(parameter_C),3)\n",
    "namefold = 'folds/iris'\n",
    "for k in range(num_folds):\n",
    "    train_X, train_Y, test_X, test_Y = Get_train_test_sets(namefold, k+1, k=num_folds, deli=',')\n",
    "    train_Y, test_Y = toSVM(train_Y, test_Y)\n",
    "#     print(train_Y)\n",
    "    for i,ke in enumerate(type_kernel):\n",
    "        for j,c in enumerate(parameter_C):\n",
    "            clf = svm.SVC(C=c, kernel = ke)\n",
    "#             print (train_X.shape,train_Y.shape)\n",
    "            clf.fit(train_X, train_Y)\n",
    "            matrix_ac_iris[i,j,k] = accuracy_score(test_Y,clf.predict(test_X))\n",
    "        \n",
    "matrix_ac_iris"
   ]
  },
  {
   "cell_type": "code",
   "execution_count": 21,
   "metadata": {},
   "outputs": [
    {
     "name": "stdout",
     "output_type": "stream",
     "text": [
      "(4, 7, 3)\n",
      "Mayor accuracy promedio con: rbf 10.0\n"
     ]
    },
    {
     "data": {
      "text/html": [
       "<div>\n",
       "<style scoped>\n",
       "    .dataframe tbody tr th:only-of-type {\n",
       "        vertical-align: middle;\n",
       "    }\n",
       "\n",
       "    .dataframe tbody tr th {\n",
       "        vertical-align: top;\n",
       "    }\n",
       "\n",
       "    .dataframe thead th {\n",
       "        text-align: right;\n",
       "    }\n",
       "</style>\n",
       "<table border=\"1\" class=\"dataframe\">\n",
       "  <thead>\n",
       "    <tr style=\"text-align: right;\">\n",
       "      <th></th>\n",
       "      <th>0.5</th>\n",
       "      <th>1.0</th>\n",
       "      <th>1.5</th>\n",
       "      <th>2.0</th>\n",
       "      <th>2.5</th>\n",
       "      <th>3.0</th>\n",
       "      <th>10.0</th>\n",
       "    </tr>\n",
       "  </thead>\n",
       "  <tbody>\n",
       "    <tr>\n",
       "      <th>linear</th>\n",
       "      <td>0.966667</td>\n",
       "      <td>0.966667</td>\n",
       "      <td>0.960000</td>\n",
       "      <td>0.966667</td>\n",
       "      <td>0.966667</td>\n",
       "      <td>0.966667</td>\n",
       "      <td>0.973333</td>\n",
       "    </tr>\n",
       "    <tr>\n",
       "      <th>poly</th>\n",
       "      <td>0.884539</td>\n",
       "      <td>0.924539</td>\n",
       "      <td>0.944965</td>\n",
       "      <td>0.952057</td>\n",
       "      <td>0.952057</td>\n",
       "      <td>0.958723</td>\n",
       "      <td>0.952482</td>\n",
       "    </tr>\n",
       "    <tr>\n",
       "      <th>sigmoid</th>\n",
       "      <td>0.940000</td>\n",
       "      <td>0.926667</td>\n",
       "      <td>0.906241</td>\n",
       "      <td>0.866241</td>\n",
       "      <td>0.852908</td>\n",
       "      <td>0.846241</td>\n",
       "      <td>0.872482</td>\n",
       "    </tr>\n",
       "    <tr>\n",
       "      <th>rbf</th>\n",
       "      <td>0.945816</td>\n",
       "      <td>0.966241</td>\n",
       "      <td>0.973333</td>\n",
       "      <td>0.966667</td>\n",
       "      <td>0.960000</td>\n",
       "      <td>0.959574</td>\n",
       "      <td>0.986667</td>\n",
       "    </tr>\n",
       "  </tbody>\n",
       "</table>\n",
       "</div>"
      ],
      "text/plain": [
       "             0.5       1.0       1.5       2.0       2.5       3.0       10.0\n",
       "linear   0.966667  0.966667  0.960000  0.966667  0.966667  0.966667  0.973333\n",
       "poly     0.884539  0.924539  0.944965  0.952057  0.952057  0.958723  0.952482\n",
       "sigmoid  0.940000  0.926667  0.906241  0.866241  0.852908  0.846241  0.872482\n",
       "rbf      0.945816  0.966241  0.973333  0.966667  0.960000  0.959574  0.986667"
      ]
     },
     "execution_count": 21,
     "metadata": {},
     "output_type": "execute_result"
    }
   ],
   "source": [
    "print(matrix_ac_iris.shape)\n",
    "matrix_ac_iris = np.mean(matrix_ac_iris,axis=2)\n",
    "parametros = (0,0)\n",
    "for ta in  range(len(type_kernel)):\n",
    "    for itr in range(len(parameter_C)):\n",
    "        if(matrix_ac_iris[ta,itr] > matrix_ac_iris[parametros[0],parametros[1]]):\n",
    "            parametros = (ta, itr)\n",
    "\n",
    "df1 = pd.DataFrame(data = matrix_ac_iris, index= type_kernel, columns = parameter_C)\n",
    "print(\"Mayor accuracy promedio con:\",type_kernel[parametros[0]],parameter_C[parametros[1]])\n",
    "df1"
   ]
  },
  {
   "cell_type": "code",
   "execution_count": 22,
   "metadata": {},
   "outputs": [
    {
     "name": "stderr",
     "output_type": "stream",
     "text": [
      "C:\\Users\\jhere\\Anaconda3\\lib\\site-packages\\sklearn\\svm\\base.py:193: FutureWarning: The default value of gamma will change from 'auto' to 'scale' in version 0.22 to account better for unscaled features. Set gamma explicitly to 'auto' or 'scale' to avoid this warning.\n",
      "  \"avoid this warning.\", FutureWarning)\n",
      "C:\\Users\\jhere\\Anaconda3\\lib\\site-packages\\sklearn\\svm\\base.py:193: FutureWarning: The default value of gamma will change from 'auto' to 'scale' in version 0.22 to account better for unscaled features. Set gamma explicitly to 'auto' or 'scale' to avoid this warning.\n",
      "  \"avoid this warning.\", FutureWarning)\n",
      "C:\\Users\\jhere\\Anaconda3\\lib\\site-packages\\sklearn\\svm\\base.py:193: FutureWarning: The default value of gamma will change from 'auto' to 'scale' in version 0.22 to account better for unscaled features. Set gamma explicitly to 'auto' or 'scale' to avoid this warning.\n",
      "  \"avoid this warning.\", FutureWarning)\n",
      "C:\\Users\\jhere\\Anaconda3\\lib\\site-packages\\sklearn\\svm\\base.py:193: FutureWarning: The default value of gamma will change from 'auto' to 'scale' in version 0.22 to account better for unscaled features. Set gamma explicitly to 'auto' or 'scale' to avoid this warning.\n",
      "  \"avoid this warning.\", FutureWarning)\n",
      "C:\\Users\\jhere\\Anaconda3\\lib\\site-packages\\sklearn\\svm\\base.py:193: FutureWarning: The default value of gamma will change from 'auto' to 'scale' in version 0.22 to account better for unscaled features. Set gamma explicitly to 'auto' or 'scale' to avoid this warning.\n",
      "  \"avoid this warning.\", FutureWarning)\n",
      "C:\\Users\\jhere\\Anaconda3\\lib\\site-packages\\sklearn\\svm\\base.py:193: FutureWarning: The default value of gamma will change from 'auto' to 'scale' in version 0.22 to account better for unscaled features. Set gamma explicitly to 'auto' or 'scale' to avoid this warning.\n",
      "  \"avoid this warning.\", FutureWarning)\n",
      "C:\\Users\\jhere\\Anaconda3\\lib\\site-packages\\sklearn\\svm\\base.py:193: FutureWarning: The default value of gamma will change from 'auto' to 'scale' in version 0.22 to account better for unscaled features. Set gamma explicitly to 'auto' or 'scale' to avoid this warning.\n",
      "  \"avoid this warning.\", FutureWarning)\n",
      "C:\\Users\\jhere\\Anaconda3\\lib\\site-packages\\sklearn\\svm\\base.py:193: FutureWarning: The default value of gamma will change from 'auto' to 'scale' in version 0.22 to account better for unscaled features. Set gamma explicitly to 'auto' or 'scale' to avoid this warning.\n",
      "  \"avoid this warning.\", FutureWarning)\n",
      "C:\\Users\\jhere\\Anaconda3\\lib\\site-packages\\sklearn\\svm\\base.py:193: FutureWarning: The default value of gamma will change from 'auto' to 'scale' in version 0.22 to account better for unscaled features. Set gamma explicitly to 'auto' or 'scale' to avoid this warning.\n",
      "  \"avoid this warning.\", FutureWarning)\n",
      "C:\\Users\\jhere\\Anaconda3\\lib\\site-packages\\sklearn\\svm\\base.py:193: FutureWarning: The default value of gamma will change from 'auto' to 'scale' in version 0.22 to account better for unscaled features. Set gamma explicitly to 'auto' or 'scale' to avoid this warning.\n",
      "  \"avoid this warning.\", FutureWarning)\n",
      "C:\\Users\\jhere\\Anaconda3\\lib\\site-packages\\sklearn\\svm\\base.py:193: FutureWarning: The default value of gamma will change from 'auto' to 'scale' in version 0.22 to account better for unscaled features. Set gamma explicitly to 'auto' or 'scale' to avoid this warning.\n",
      "  \"avoid this warning.\", FutureWarning)\n",
      "C:\\Users\\jhere\\Anaconda3\\lib\\site-packages\\sklearn\\svm\\base.py:193: FutureWarning: The default value of gamma will change from 'auto' to 'scale' in version 0.22 to account better for unscaled features. Set gamma explicitly to 'auto' or 'scale' to avoid this warning.\n",
      "  \"avoid this warning.\", FutureWarning)\n",
      "C:\\Users\\jhere\\Anaconda3\\lib\\site-packages\\sklearn\\svm\\base.py:193: FutureWarning: The default value of gamma will change from 'auto' to 'scale' in version 0.22 to account better for unscaled features. Set gamma explicitly to 'auto' or 'scale' to avoid this warning.\n",
      "  \"avoid this warning.\", FutureWarning)\n",
      "C:\\Users\\jhere\\Anaconda3\\lib\\site-packages\\sklearn\\svm\\base.py:193: FutureWarning: The default value of gamma will change from 'auto' to 'scale' in version 0.22 to account better for unscaled features. Set gamma explicitly to 'auto' or 'scale' to avoid this warning.\n",
      "  \"avoid this warning.\", FutureWarning)\n",
      "C:\\Users\\jhere\\Anaconda3\\lib\\site-packages\\sklearn\\svm\\base.py:193: FutureWarning: The default value of gamma will change from 'auto' to 'scale' in version 0.22 to account better for unscaled features. Set gamma explicitly to 'auto' or 'scale' to avoid this warning.\n",
      "  \"avoid this warning.\", FutureWarning)\n",
      "C:\\Users\\jhere\\Anaconda3\\lib\\site-packages\\sklearn\\svm\\base.py:193: FutureWarning: The default value of gamma will change from 'auto' to 'scale' in version 0.22 to account better for unscaled features. Set gamma explicitly to 'auto' or 'scale' to avoid this warning.\n",
      "  \"avoid this warning.\", FutureWarning)\n",
      "C:\\Users\\jhere\\Anaconda3\\lib\\site-packages\\sklearn\\svm\\base.py:193: FutureWarning: The default value of gamma will change from 'auto' to 'scale' in version 0.22 to account better for unscaled features. Set gamma explicitly to 'auto' or 'scale' to avoid this warning.\n",
      "  \"avoid this warning.\", FutureWarning)\n",
      "C:\\Users\\jhere\\Anaconda3\\lib\\site-packages\\sklearn\\svm\\base.py:193: FutureWarning: The default value of gamma will change from 'auto' to 'scale' in version 0.22 to account better for unscaled features. Set gamma explicitly to 'auto' or 'scale' to avoid this warning.\n",
      "  \"avoid this warning.\", FutureWarning)\n",
      "C:\\Users\\jhere\\Anaconda3\\lib\\site-packages\\sklearn\\svm\\base.py:193: FutureWarning: The default value of gamma will change from 'auto' to 'scale' in version 0.22 to account better for unscaled features. Set gamma explicitly to 'auto' or 'scale' to avoid this warning.\n",
      "  \"avoid this warning.\", FutureWarning)\n",
      "C:\\Users\\jhere\\Anaconda3\\lib\\site-packages\\sklearn\\svm\\base.py:193: FutureWarning: The default value of gamma will change from 'auto' to 'scale' in version 0.22 to account better for unscaled features. Set gamma explicitly to 'auto' or 'scale' to avoid this warning.\n",
      "  \"avoid this warning.\", FutureWarning)\n",
      "C:\\Users\\jhere\\Anaconda3\\lib\\site-packages\\sklearn\\svm\\base.py:193: FutureWarning: The default value of gamma will change from 'auto' to 'scale' in version 0.22 to account better for unscaled features. Set gamma explicitly to 'auto' or 'scale' to avoid this warning.\n",
      "  \"avoid this warning.\", FutureWarning)\n",
      "C:\\Users\\jhere\\Anaconda3\\lib\\site-packages\\sklearn\\svm\\base.py:193: FutureWarning: The default value of gamma will change from 'auto' to 'scale' in version 0.22 to account better for unscaled features. Set gamma explicitly to 'auto' or 'scale' to avoid this warning.\n",
      "  \"avoid this warning.\", FutureWarning)\n",
      "C:\\Users\\jhere\\Anaconda3\\lib\\site-packages\\sklearn\\svm\\base.py:193: FutureWarning: The default value of gamma will change from 'auto' to 'scale' in version 0.22 to account better for unscaled features. Set gamma explicitly to 'auto' or 'scale' to avoid this warning.\n",
      "  \"avoid this warning.\", FutureWarning)\n",
      "C:\\Users\\jhere\\Anaconda3\\lib\\site-packages\\sklearn\\svm\\base.py:193: FutureWarning: The default value of gamma will change from 'auto' to 'scale' in version 0.22 to account better for unscaled features. Set gamma explicitly to 'auto' or 'scale' to avoid this warning.\n",
      "  \"avoid this warning.\", FutureWarning)\n",
      "C:\\Users\\jhere\\Anaconda3\\lib\\site-packages\\sklearn\\svm\\base.py:193: FutureWarning: The default value of gamma will change from 'auto' to 'scale' in version 0.22 to account better for unscaled features. Set gamma explicitly to 'auto' or 'scale' to avoid this warning.\n",
      "  \"avoid this warning.\", FutureWarning)\n",
      "C:\\Users\\jhere\\Anaconda3\\lib\\site-packages\\sklearn\\svm\\base.py:193: FutureWarning: The default value of gamma will change from 'auto' to 'scale' in version 0.22 to account better for unscaled features. Set gamma explicitly to 'auto' or 'scale' to avoid this warning.\n",
      "  \"avoid this warning.\", FutureWarning)\n",
      "C:\\Users\\jhere\\Anaconda3\\lib\\site-packages\\sklearn\\svm\\base.py:193: FutureWarning: The default value of gamma will change from 'auto' to 'scale' in version 0.22 to account better for unscaled features. Set gamma explicitly to 'auto' or 'scale' to avoid this warning.\n",
      "  \"avoid this warning.\", FutureWarning)\n",
      "C:\\Users\\jhere\\Anaconda3\\lib\\site-packages\\sklearn\\svm\\base.py:193: FutureWarning: The default value of gamma will change from 'auto' to 'scale' in version 0.22 to account better for unscaled features. Set gamma explicitly to 'auto' or 'scale' to avoid this warning.\n",
      "  \"avoid this warning.\", FutureWarning)\n",
      "C:\\Users\\jhere\\Anaconda3\\lib\\site-packages\\sklearn\\svm\\base.py:193: FutureWarning: The default value of gamma will change from 'auto' to 'scale' in version 0.22 to account better for unscaled features. Set gamma explicitly to 'auto' or 'scale' to avoid this warning.\n",
      "  \"avoid this warning.\", FutureWarning)\n",
      "C:\\Users\\jhere\\Anaconda3\\lib\\site-packages\\sklearn\\svm\\base.py:193: FutureWarning: The default value of gamma will change from 'auto' to 'scale' in version 0.22 to account better for unscaled features. Set gamma explicitly to 'auto' or 'scale' to avoid this warning.\n",
      "  \"avoid this warning.\", FutureWarning)\n",
      "C:\\Users\\jhere\\Anaconda3\\lib\\site-packages\\sklearn\\svm\\base.py:193: FutureWarning: The default value of gamma will change from 'auto' to 'scale' in version 0.22 to account better for unscaled features. Set gamma explicitly to 'auto' or 'scale' to avoid this warning.\n",
      "  \"avoid this warning.\", FutureWarning)\n",
      "C:\\Users\\jhere\\Anaconda3\\lib\\site-packages\\sklearn\\svm\\base.py:193: FutureWarning: The default value of gamma will change from 'auto' to 'scale' in version 0.22 to account better for unscaled features. Set gamma explicitly to 'auto' or 'scale' to avoid this warning.\n",
      "  \"avoid this warning.\", FutureWarning)\n",
      "C:\\Users\\jhere\\Anaconda3\\lib\\site-packages\\sklearn\\svm\\base.py:193: FutureWarning: The default value of gamma will change from 'auto' to 'scale' in version 0.22 to account better for unscaled features. Set gamma explicitly to 'auto' or 'scale' to avoid this warning.\n",
      "  \"avoid this warning.\", FutureWarning)\n",
      "C:\\Users\\jhere\\Anaconda3\\lib\\site-packages\\sklearn\\svm\\base.py:193: FutureWarning: The default value of gamma will change from 'auto' to 'scale' in version 0.22 to account better for unscaled features. Set gamma explicitly to 'auto' or 'scale' to avoid this warning.\n",
      "  \"avoid this warning.\", FutureWarning)\n",
      "C:\\Users\\jhere\\Anaconda3\\lib\\site-packages\\sklearn\\svm\\base.py:193: FutureWarning: The default value of gamma will change from 'auto' to 'scale' in version 0.22 to account better for unscaled features. Set gamma explicitly to 'auto' or 'scale' to avoid this warning.\n",
      "  \"avoid this warning.\", FutureWarning)\n",
      "C:\\Users\\jhere\\Anaconda3\\lib\\site-packages\\sklearn\\svm\\base.py:193: FutureWarning: The default value of gamma will change from 'auto' to 'scale' in version 0.22 to account better for unscaled features. Set gamma explicitly to 'auto' or 'scale' to avoid this warning.\n",
      "  \"avoid this warning.\", FutureWarning)\n",
      "C:\\Users\\jhere\\Anaconda3\\lib\\site-packages\\sklearn\\svm\\base.py:193: FutureWarning: The default value of gamma will change from 'auto' to 'scale' in version 0.22 to account better for unscaled features. Set gamma explicitly to 'auto' or 'scale' to avoid this warning.\n",
      "  \"avoid this warning.\", FutureWarning)\n",
      "C:\\Users\\jhere\\Anaconda3\\lib\\site-packages\\sklearn\\svm\\base.py:193: FutureWarning: The default value of gamma will change from 'auto' to 'scale' in version 0.22 to account better for unscaled features. Set gamma explicitly to 'auto' or 'scale' to avoid this warning.\n",
      "  \"avoid this warning.\", FutureWarning)\n",
      "C:\\Users\\jhere\\Anaconda3\\lib\\site-packages\\sklearn\\svm\\base.py:193: FutureWarning: The default value of gamma will change from 'auto' to 'scale' in version 0.22 to account better for unscaled features. Set gamma explicitly to 'auto' or 'scale' to avoid this warning.\n",
      "  \"avoid this warning.\", FutureWarning)\n",
      "C:\\Users\\jhere\\Anaconda3\\lib\\site-packages\\sklearn\\svm\\base.py:193: FutureWarning: The default value of gamma will change from 'auto' to 'scale' in version 0.22 to account better for unscaled features. Set gamma explicitly to 'auto' or 'scale' to avoid this warning.\n",
      "  \"avoid this warning.\", FutureWarning)\n",
      "C:\\Users\\jhere\\Anaconda3\\lib\\site-packages\\sklearn\\svm\\base.py:193: FutureWarning: The default value of gamma will change from 'auto' to 'scale' in version 0.22 to account better for unscaled features. Set gamma explicitly to 'auto' or 'scale' to avoid this warning.\n",
      "  \"avoid this warning.\", FutureWarning)\n",
      "C:\\Users\\jhere\\Anaconda3\\lib\\site-packages\\sklearn\\svm\\base.py:193: FutureWarning: The default value of gamma will change from 'auto' to 'scale' in version 0.22 to account better for unscaled features. Set gamma explicitly to 'auto' or 'scale' to avoid this warning.\n",
      "  \"avoid this warning.\", FutureWarning)\n",
      "C:\\Users\\jhere\\Anaconda3\\lib\\site-packages\\sklearn\\svm\\base.py:193: FutureWarning: The default value of gamma will change from 'auto' to 'scale' in version 0.22 to account better for unscaled features. Set gamma explicitly to 'auto' or 'scale' to avoid this warning.\n",
      "  \"avoid this warning.\", FutureWarning)\n",
      "C:\\Users\\jhere\\Anaconda3\\lib\\site-packages\\sklearn\\svm\\base.py:193: FutureWarning: The default value of gamma will change from 'auto' to 'scale' in version 0.22 to account better for unscaled features. Set gamma explicitly to 'auto' or 'scale' to avoid this warning.\n",
      "  \"avoid this warning.\", FutureWarning)\n",
      "C:\\Users\\jhere\\Anaconda3\\lib\\site-packages\\sklearn\\svm\\base.py:193: FutureWarning: The default value of gamma will change from 'auto' to 'scale' in version 0.22 to account better for unscaled features. Set gamma explicitly to 'auto' or 'scale' to avoid this warning.\n",
      "  \"avoid this warning.\", FutureWarning)\n"
     ]
    },
    {
     "name": "stderr",
     "output_type": "stream",
     "text": [
      "C:\\Users\\jhere\\Anaconda3\\lib\\site-packages\\sklearn\\svm\\base.py:193: FutureWarning: The default value of gamma will change from 'auto' to 'scale' in version 0.22 to account better for unscaled features. Set gamma explicitly to 'auto' or 'scale' to avoid this warning.\n",
      "  \"avoid this warning.\", FutureWarning)\n",
      "C:\\Users\\jhere\\Anaconda3\\lib\\site-packages\\sklearn\\svm\\base.py:193: FutureWarning: The default value of gamma will change from 'auto' to 'scale' in version 0.22 to account better for unscaled features. Set gamma explicitly to 'auto' or 'scale' to avoid this warning.\n",
      "  \"avoid this warning.\", FutureWarning)\n",
      "C:\\Users\\jhere\\Anaconda3\\lib\\site-packages\\sklearn\\svm\\base.py:193: FutureWarning: The default value of gamma will change from 'auto' to 'scale' in version 0.22 to account better for unscaled features. Set gamma explicitly to 'auto' or 'scale' to avoid this warning.\n",
      "  \"avoid this warning.\", FutureWarning)\n",
      "C:\\Users\\jhere\\Anaconda3\\lib\\site-packages\\sklearn\\svm\\base.py:193: FutureWarning: The default value of gamma will change from 'auto' to 'scale' in version 0.22 to account better for unscaled features. Set gamma explicitly to 'auto' or 'scale' to avoid this warning.\n",
      "  \"avoid this warning.\", FutureWarning)\n",
      "C:\\Users\\jhere\\Anaconda3\\lib\\site-packages\\sklearn\\svm\\base.py:193: FutureWarning: The default value of gamma will change from 'auto' to 'scale' in version 0.22 to account better for unscaled features. Set gamma explicitly to 'auto' or 'scale' to avoid this warning.\n",
      "  \"avoid this warning.\", FutureWarning)\n",
      "C:\\Users\\jhere\\Anaconda3\\lib\\site-packages\\sklearn\\svm\\base.py:193: FutureWarning: The default value of gamma will change from 'auto' to 'scale' in version 0.22 to account better for unscaled features. Set gamma explicitly to 'auto' or 'scale' to avoid this warning.\n",
      "  \"avoid this warning.\", FutureWarning)\n",
      "C:\\Users\\jhere\\Anaconda3\\lib\\site-packages\\sklearn\\svm\\base.py:193: FutureWarning: The default value of gamma will change from 'auto' to 'scale' in version 0.22 to account better for unscaled features. Set gamma explicitly to 'auto' or 'scale' to avoid this warning.\n",
      "  \"avoid this warning.\", FutureWarning)\n",
      "C:\\Users\\jhere\\Anaconda3\\lib\\site-packages\\sklearn\\svm\\base.py:193: FutureWarning: The default value of gamma will change from 'auto' to 'scale' in version 0.22 to account better for unscaled features. Set gamma explicitly to 'auto' or 'scale' to avoid this warning.\n",
      "  \"avoid this warning.\", FutureWarning)\n",
      "C:\\Users\\jhere\\Anaconda3\\lib\\site-packages\\sklearn\\svm\\base.py:193: FutureWarning: The default value of gamma will change from 'auto' to 'scale' in version 0.22 to account better for unscaled features. Set gamma explicitly to 'auto' or 'scale' to avoid this warning.\n",
      "  \"avoid this warning.\", FutureWarning)\n",
      "C:\\Users\\jhere\\Anaconda3\\lib\\site-packages\\sklearn\\svm\\base.py:193: FutureWarning: The default value of gamma will change from 'auto' to 'scale' in version 0.22 to account better for unscaled features. Set gamma explicitly to 'auto' or 'scale' to avoid this warning.\n",
      "  \"avoid this warning.\", FutureWarning)\n",
      "C:\\Users\\jhere\\Anaconda3\\lib\\site-packages\\sklearn\\svm\\base.py:193: FutureWarning: The default value of gamma will change from 'auto' to 'scale' in version 0.22 to account better for unscaled features. Set gamma explicitly to 'auto' or 'scale' to avoid this warning.\n",
      "  \"avoid this warning.\", FutureWarning)\n",
      "C:\\Users\\jhere\\Anaconda3\\lib\\site-packages\\sklearn\\svm\\base.py:193: FutureWarning: The default value of gamma will change from 'auto' to 'scale' in version 0.22 to account better for unscaled features. Set gamma explicitly to 'auto' or 'scale' to avoid this warning.\n",
      "  \"avoid this warning.\", FutureWarning)\n",
      "C:\\Users\\jhere\\Anaconda3\\lib\\site-packages\\sklearn\\svm\\base.py:193: FutureWarning: The default value of gamma will change from 'auto' to 'scale' in version 0.22 to account better for unscaled features. Set gamma explicitly to 'auto' or 'scale' to avoid this warning.\n",
      "  \"avoid this warning.\", FutureWarning)\n",
      "C:\\Users\\jhere\\Anaconda3\\lib\\site-packages\\sklearn\\svm\\base.py:193: FutureWarning: The default value of gamma will change from 'auto' to 'scale' in version 0.22 to account better for unscaled features. Set gamma explicitly to 'auto' or 'scale' to avoid this warning.\n",
      "  \"avoid this warning.\", FutureWarning)\n",
      "C:\\Users\\jhere\\Anaconda3\\lib\\site-packages\\sklearn\\svm\\base.py:193: FutureWarning: The default value of gamma will change from 'auto' to 'scale' in version 0.22 to account better for unscaled features. Set gamma explicitly to 'auto' or 'scale' to avoid this warning.\n",
      "  \"avoid this warning.\", FutureWarning)\n",
      "C:\\Users\\jhere\\Anaconda3\\lib\\site-packages\\sklearn\\svm\\base.py:193: FutureWarning: The default value of gamma will change from 'auto' to 'scale' in version 0.22 to account better for unscaled features. Set gamma explicitly to 'auto' or 'scale' to avoid this warning.\n",
      "  \"avoid this warning.\", FutureWarning)\n",
      "C:\\Users\\jhere\\Anaconda3\\lib\\site-packages\\sklearn\\svm\\base.py:193: FutureWarning: The default value of gamma will change from 'auto' to 'scale' in version 0.22 to account better for unscaled features. Set gamma explicitly to 'auto' or 'scale' to avoid this warning.\n",
      "  \"avoid this warning.\", FutureWarning)\n",
      "C:\\Users\\jhere\\Anaconda3\\lib\\site-packages\\sklearn\\svm\\base.py:193: FutureWarning: The default value of gamma will change from 'auto' to 'scale' in version 0.22 to account better for unscaled features. Set gamma explicitly to 'auto' or 'scale' to avoid this warning.\n",
      "  \"avoid this warning.\", FutureWarning)\n"
     ]
    },
    {
     "data": {
      "text/plain": [
       "array([[[0.85, 0.83, 0.82],\n",
       "        [0.85, 0.82, 0.81],\n",
       "        [0.85, 0.82, 0.82],\n",
       "        [0.85, 0.82, 0.82],\n",
       "        [0.85, 0.82, 0.82],\n",
       "        [0.85, 0.82, 0.82],\n",
       "        [0.86, 0.83, 0.82]],\n",
       "\n",
       "       [[0.77, 0.76, 0.77],\n",
       "        [0.83, 0.8 , 0.8 ],\n",
       "        [0.85, 0.79, 0.81],\n",
       "        [0.86, 0.78, 0.8 ],\n",
       "        [0.86, 0.8 , 0.79],\n",
       "        [0.85, 0.81, 0.79],\n",
       "        [0.81, 0.8 , 0.75]],\n",
       "\n",
       "       [[0.82, 0.8 , 0.84],\n",
       "        [0.84, 0.84, 0.82],\n",
       "        [0.83, 0.82, 0.81],\n",
       "        [0.84, 0.83, 0.83],\n",
       "        [0.83, 0.84, 0.81],\n",
       "        [0.84, 0.8 , 0.8 ],\n",
       "        [0.82, 0.8 , 0.86]],\n",
       "\n",
       "       [[0.87, 0.81, 0.84],\n",
       "        [0.85, 0.84, 0.81],\n",
       "        [0.84, 0.85, 0.83],\n",
       "        [0.83, 0.85, 0.8 ],\n",
       "        [0.83, 0.85, 0.79],\n",
       "        [0.82, 0.83, 0.77],\n",
       "        [0.8 , 0.8 , 0.77]]])"
      ]
     },
     "execution_count": 22,
     "metadata": {},
     "output_type": "execute_result"
    }
   ],
   "source": [
    "type_kernel = ['linear','poly','sigmoid','rbf']\n",
    "parameter_C = [0.5,1.0,1.5,2.0,2.5,3.0,10.0]#[1.0,0.5,1.5]\n",
    "matrix_ac_card = np.random.rand(len(type_kernel),len(parameter_C),3)\n",
    "namefold = 'folds/enf_cardiaca'\n",
    "for k in range(num_folds):\n",
    "    train_X, train_Y, test_X, test_Y = Get_train_test_sets(namefold, k+1, k=num_folds, deli=',')\n",
    "    train_Y, test_Y = toSVM(train_Y, test_Y)\n",
    "#     print(train_Y)\n",
    "    for i,ke in enumerate(type_kernel):\n",
    "        for j,c in enumerate(parameter_C):\n",
    "            clf = svm.SVC(C=c, kernel = ke)\n",
    "#             print (train_X.shape,train_Y.shape)\n",
    "            clf.fit(train_X, train_Y)\n",
    "            matrix_ac_card[i,j,k] = accuracy_score(test_Y,clf.predict(test_X))\n",
    "        \n",
    "matrix_ac_card"
   ]
  },
  {
   "cell_type": "code",
   "execution_count": 23,
   "metadata": {},
   "outputs": [
    {
     "name": "stdout",
     "output_type": "stream",
     "text": [
      "(4, 7, 3)\n",
      "Mayor accuracy promedio con: rbf 0.5\n"
     ]
    },
    {
     "data": {
      "text/html": [
       "<div>\n",
       "<style scoped>\n",
       "    .dataframe tbody tr th:only-of-type {\n",
       "        vertical-align: middle;\n",
       "    }\n",
       "\n",
       "    .dataframe tbody tr th {\n",
       "        vertical-align: top;\n",
       "    }\n",
       "\n",
       "    .dataframe thead th {\n",
       "        text-align: right;\n",
       "    }\n",
       "</style>\n",
       "<table border=\"1\" class=\"dataframe\">\n",
       "  <thead>\n",
       "    <tr style=\"text-align: right;\">\n",
       "      <th></th>\n",
       "      <th>0.5</th>\n",
       "      <th>1.0</th>\n",
       "      <th>1.5</th>\n",
       "      <th>2.0</th>\n",
       "      <th>2.5</th>\n",
       "      <th>3.0</th>\n",
       "      <th>10.0</th>\n",
       "    </tr>\n",
       "  </thead>\n",
       "  <tbody>\n",
       "    <tr>\n",
       "      <th>linear</th>\n",
       "      <td>0.833333</td>\n",
       "      <td>0.826667</td>\n",
       "      <td>0.830000</td>\n",
       "      <td>0.830000</td>\n",
       "      <td>0.830000</td>\n",
       "      <td>0.830000</td>\n",
       "      <td>0.836667</td>\n",
       "    </tr>\n",
       "    <tr>\n",
       "      <th>poly</th>\n",
       "      <td>0.766667</td>\n",
       "      <td>0.810000</td>\n",
       "      <td>0.816667</td>\n",
       "      <td>0.813333</td>\n",
       "      <td>0.816667</td>\n",
       "      <td>0.816667</td>\n",
       "      <td>0.786667</td>\n",
       "    </tr>\n",
       "    <tr>\n",
       "      <th>sigmoid</th>\n",
       "      <td>0.820000</td>\n",
       "      <td>0.833333</td>\n",
       "      <td>0.820000</td>\n",
       "      <td>0.833333</td>\n",
       "      <td>0.826667</td>\n",
       "      <td>0.813333</td>\n",
       "      <td>0.826667</td>\n",
       "    </tr>\n",
       "    <tr>\n",
       "      <th>rbf</th>\n",
       "      <td>0.840000</td>\n",
       "      <td>0.833333</td>\n",
       "      <td>0.840000</td>\n",
       "      <td>0.826667</td>\n",
       "      <td>0.823333</td>\n",
       "      <td>0.806667</td>\n",
       "      <td>0.790000</td>\n",
       "    </tr>\n",
       "  </tbody>\n",
       "</table>\n",
       "</div>"
      ],
      "text/plain": [
       "             0.5       1.0       1.5       2.0       2.5       3.0       10.0\n",
       "linear   0.833333  0.826667  0.830000  0.830000  0.830000  0.830000  0.836667\n",
       "poly     0.766667  0.810000  0.816667  0.813333  0.816667  0.816667  0.786667\n",
       "sigmoid  0.820000  0.833333  0.820000  0.833333  0.826667  0.813333  0.826667\n",
       "rbf      0.840000  0.833333  0.840000  0.826667  0.823333  0.806667  0.790000"
      ]
     },
     "execution_count": 23,
     "metadata": {},
     "output_type": "execute_result"
    }
   ],
   "source": [
    "print(matrix_ac_card.shape)\n",
    "matrix_ac_card = np.mean(matrix_ac_card,axis=2)\n",
    "parametros = (0,0)\n",
    "for ta in  range(len(type_kernel)):\n",
    "    for itr in range(len(parameter_C)):\n",
    "        if(matrix_ac_card[ta,itr] > matrix_ac_card[parametros[0],parametros[1]]):\n",
    "            parametros = (ta, itr)\n",
    "\n",
    "df1 = pd.DataFrame(data = matrix_ac_card, index= type_kernel, columns = parameter_C)\n",
    "print(\"Mayor accuracy promedio con:\",type_kernel[parametros[0]],parameter_C[parametros[1]])\n",
    "df1"
   ]
  },
  {
   "cell_type": "markdown",
   "metadata": {},
   "source": [
    "### Comparación entre SVM y MLP implementado"
   ]
  },
  {
   "cell_type": "code",
   "execution_count": null,
   "metadata": {},
   "outputs": [],
   "source": []
  }
 ],
 "metadata": {
  "kernelspec": {
   "display_name": "Python 3",
   "language": "python",
   "name": "python3"
  },
  "language_info": {
   "codemirror_mode": {
    "name": "ipython",
    "version": 3
   },
   "file_extension": ".py",
   "mimetype": "text/x-python",
   "name": "python",
   "nbconvert_exporter": "python",
   "pygments_lexer": "ipython3",
   "version": "3.7.3"
  }
 },
 "nbformat": 4,
 "nbformat_minor": 2
}
